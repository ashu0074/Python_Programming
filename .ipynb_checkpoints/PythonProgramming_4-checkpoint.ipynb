{
 "cells": [
  {
   "cell_type": "markdown",
   "metadata": {},
   "source": [
    "### 1) Python Program to find sum of array"
   ]
  },
  {
   "cell_type": "code",
   "execution_count": 4,
   "metadata": {},
   "outputs": [
    {
     "data": {
      "text/plain": [
       "72"
      ]
     },
     "execution_count": 4,
     "metadata": {},
     "output_type": "execute_result"
    }
   ],
   "source": [
    "lst =[2,54,6,10]\n",
    "sum(lst)"
   ]
  },
  {
   "cell_type": "code",
   "execution_count": 7,
   "metadata": {},
   "outputs": [
    {
     "name": "stdout",
     "output_type": "stream",
     "text": [
      "Sum : 72\n"
     ]
    }
   ],
   "source": [
    "sum = 0\n",
    "lst = [2,54,6,10]\n",
    "for i in range(0,len(lst)):\n",
    "    sum = sum + lst[i]\n",
    "print(\"Sum : {}\".format(sum))"
   ]
  },
  {
   "cell_type": "markdown",
   "metadata": {},
   "source": [
    "### 2) Python Program to Find Largest element in an array "
   ]
  },
  {
   "cell_type": "code",
   "execution_count": 11,
   "metadata": {},
   "outputs": [
    {
     "name": "stdout",
     "output_type": "stream",
     "text": [
      "Maximum element from the list [100, 84, 105, 66] is : 105\n"
     ]
    }
   ],
   "source": [
    "lst = [100,84,105,66]\n",
    "print(\"Maximum element from the list {} is : {}\".format(lst,max(lst)))"
   ]
  },
  {
   "cell_type": "code",
   "execution_count": 13,
   "metadata": {},
   "outputs": [
    {
     "name": "stdout",
     "output_type": "stream",
     "text": [
      "Maximum element from the list [100, 84, 105, 66] is : 105\n"
     ]
    }
   ],
   "source": [
    "# solution 2\n",
    "lst = [100,84,105,66]\n",
    "maxi = 0\n",
    "for i in range(0, len(lst)):\n",
    "    if maxi< lst[i]:\n",
    "        maxi = lst[i]\n",
    "\n",
    "print(\"Maximum element from the list {} is : {}\".format(lst,maxi))"
   ]
  },
  {
   "cell_type": "markdown",
   "metadata": {},
   "source": [
    "###  3) Python Program for array rotation"
   ]
  },
  {
   "cell_type": "raw",
   "metadata": {},
   "source": [
    "Input :arr[5] = [10, 20, 30, 40, 50]\n",
    "Output :\n",
    "Right rotation by 1 position : 50 10 20 30 40\n",
    "Left rotation by 1 position : 20 30 40 50 10"
   ]
  },
  {
   "cell_type": "code",
   "execution_count": 23,
   "metadata": {},
   "outputs": [
    {
     "name": "stdout",
     "output_type": "stream",
     "text": [
      "Enter the length of the list: 5\n",
      "1\n",
      "2\n",
      "3\n",
      "4\n",
      "5\n",
      "List :  [1, 2, 3, 4, 5]\n",
      "Enter the Left Rotation and Right Rotation : LEft\n",
      "Enter the of element to shift: 3\n",
      "After Left Rotation : [4, 5, 1, 2, 3]\n"
     ]
    }
   ],
   "source": [
    "n = int(input(\"Enter the length of the list: \"))\n",
    "lst = []\n",
    "\n",
    "for i in range(n):\n",
    "    lst.append(int(input()))\n",
    "\n",
    "print(\"List : \",lst)\n",
    "rotation = input(\"Enter the Left Rotation and Right Rotation : \")\n",
    "nele = int(input(\"Enter the of element to shift: \"))\n",
    "if nele > n:\n",
    "    print(\"cannot  rotate as element to rotate is larger then list length\")\n",
    "else:\n",
    "    RLlst = []\n",
    "    if rotation.upper() == \"RIGHT\":\n",
    "        RLlst[:]=lst[-nele:]+lst[:n-nele]\n",
    "        print(\"After Right Rotation :\",RLlst)\n",
    "    elif rotation.upper() == \"LEFT\":\n",
    "        RLlst[:]=lst[nele:n]+lst[:nele]\n",
    "        print(\"After Left Rotation :\", RLlst)\n",
    "    else:\n",
    "        print(\"INVALID ENTRY\")"
   ]
  },
  {
   "cell_type": "markdown",
   "metadata": {},
   "source": [
    "### 4) Python Program to Split the array and add the first part to the end"
   ]
  },
  {
   "cell_type": "code",
   "execution_count": 31,
   "metadata": {},
   "outputs": [
    {
     "name": "stdout",
     "output_type": "stream",
     "text": [
      "Enter the length of the array/list: 6\n",
      "1\n",
      "2\n",
      "3\n",
      "4\n",
      "5\n",
      "6\n",
      "The list :  [1, 2, 3, 4, 5, 6]\n",
      "Enter the number of element to split3\n",
      "The split list is :  [1, 2, 3]\n",
      "the list after split and add :  [4, 5, 6, 1, 2, 3]\n"
     ]
    }
   ],
   "source": [
    "n = int(input(\"Enter the length of the array/list: \"))\n",
    "lst = []\n",
    "for i in range(n):\n",
    "    lst.append(int(input()))\n",
    "print(\"The list : \",lst)\n",
    "\n",
    "nele = int(input(\"Enter the number of element to split\"))\n",
    "rlst = []\n",
    "\n",
    "if nele > n:\n",
    "    print(\"Can't split the element greater than list length\")\n",
    "else:\n",
    "    print(\"The split list is : \",lst[:nele])\n",
    "    rlst[:] = lst[nele:n] + lst[:nele]\n",
    "    print(\"the list after split and add : \",rlst)"
   ]
  },
  {
   "cell_type": "markdown",
   "metadata": {},
   "source": [
    "### 5) Python Program to check if given array is Monotonic  "
   ]
  },
  {
   "cell_type": "code",
   "execution_count": 26,
   "metadata": {},
   "outputs": [
    {
     "name": "stdout",
     "output_type": "stream",
     "text": [
      "Enter the number to Create list : 6\n",
      "9\n",
      "8\n",
      "10\n",
      "45\n",
      "5\n",
      "6\n",
      "[9, 8, 10, 45, 5, 6]\n",
      "Not Monotonic\n"
     ]
    }
   ],
   "source": [
    "n = int(input(\"Enter the number to Create list : \"))\n",
    "lst = []\n",
    "for i in range(n):\n",
    "    lst.append(int(input()))\n",
    "print(lst)\n",
    "if all((lst[i]<= lst[i+1] for i in range(n-1)) or (lst[i] >= lst[i+1] for i in range(n-1))):\n",
    "    print(\"Monotonic\")\n",
    "else:\n",
    "    print(\"Not Monotonic\")\n"
   ]
  },
  {
   "cell_type": "code",
   "execution_count": 19,
   "metadata": {},
   "outputs": [
    {
     "name": "stdout",
     "output_type": "stream",
     "text": [
      "<class 'int'>\n"
     ]
    }
   ],
   "source": []
  },
  {
   "cell_type": "code",
   "execution_count": null,
   "metadata": {},
   "outputs": [],
   "source": []
  }
 ],
 "metadata": {
  "kernelspec": {
   "display_name": "Python 3",
   "language": "python",
   "name": "python3"
  },
  "language_info": {
   "codemirror_mode": {
    "name": "ipython",
    "version": 3
   },
   "file_extension": ".py",
   "mimetype": "text/x-python",
   "name": "python",
   "nbconvert_exporter": "python",
   "pygments_lexer": "ipython3",
   "version": "3.6.10"
  }
 },
 "nbformat": 4,
 "nbformat_minor": 4
}
