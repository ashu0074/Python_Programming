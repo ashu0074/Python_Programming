{
 "cells": [
  {
   "cell_type": "markdown",
   "metadata": {},
   "source": [
    "### 1) Python Program to check if a Number is Positive , Negative or Zero "
   ]
  },
  {
   "cell_type": "code",
   "execution_count": 7,
   "metadata": {},
   "outputs": [
    {
     "name": "stdout",
     "output_type": "stream",
     "text": [
      "Enter a Number : -55\n",
      "The number is Negative\n"
     ]
    }
   ],
   "source": [
    "num = float(input(\"Enter a Number : \"))\n",
    "if num == 0:\n",
    "    print(\"The number is Zero\")\n",
    "elif num >0:\n",
    "    print(\"The number is Positive\")\n",
    "else:\n",
    "    print(\"The number is Negative\")"
   ]
  },
  {
   "cell_type": "markdown",
   "metadata": {},
   "source": [
    "### 2) Python Program to check if a Number is Odd or Even"
   ]
  },
  {
   "cell_type": "code",
   "execution_count": 9,
   "metadata": {},
   "outputs": [
    {
     "name": "stdout",
     "output_type": "stream",
     "text": [
      "Enter a Number : 26\n",
      "The number is Even\n"
     ]
    }
   ],
   "source": [
    "num =int(input(\"Enter a Number : \"))\n",
    "if num %2 == 0:\n",
    "    print(\"The number is Even\")\n",
    "else:\n",
    "    print(\"The number is Odd\")"
   ]
  },
  {
   "cell_type": "markdown",
   "metadata": {},
   "source": [
    "### 3) Write a Python Program to Check Leap Year"
   ]
  },
  {
   "cell_type": "markdown",
   "metadata": {},
   "source": [
    "A leap year is exactly divisible by 4 except for \"Century year\"(year ending with 00). The century year is a leap year only if it is perfectly divisible by 400."
   ]
  },
  {
   "cell_type": "code",
   "execution_count": 12,
   "metadata": {},
   "outputs": [
    {
     "name": "stdout",
     "output_type": "stream",
     "text": [
      "Enter the year : 1900\n",
      "1900 is Not Leap Year \n"
     ]
    }
   ],
   "source": [
    "year = int(input(\"Enter the year : \"))\n",
    "if(year % 4 == 0 and year % 100 != 0 ) or (year % 400 == 0):\n",
    "    print(\"%d is a Leap Year \" %(year))\n",
    "else:\n",
    "    print(\"%d is Not Leap Year \" %(year))"
   ]
  },
  {
   "cell_type": "markdown",
   "metadata": {},
   "source": [
    "### 4) Python Program to Check Prime Number"
   ]
  },
  {
   "cell_type": "code",
   "execution_count": 42,
   "metadata": {},
   "outputs": [
    {
     "name": "stdout",
     "output_type": "stream",
     "text": [
      "Enter the Number : 13\n",
      "Prime Number \n"
     ]
    }
   ],
   "source": [
    "num = int(input(\"Enter the Number : \"))\n",
    "flag =False\n",
    "if num > 1:\n",
    "    for i in range(2,num):\n",
    "        if (num % i) == 0:\n",
    "            flag = True\n",
    "            break\n",
    "\n",
    "    if flag :\n",
    "        print(\"Not Prime Number\")\n",
    "    else:\n",
    "        print(\"Prime Number \")\n",
    "else:\n",
    "    print(\"The number is Less than 1 \")\n",
    "    \n"
   ]
  },
  {
   "cell_type": "markdown",
   "metadata": {},
   "source": [
    "### 5) Python Program to Print all prime number in an interval "
   ]
  },
  {
   "cell_type": "code",
   "execution_count": 48,
   "metadata": {},
   "outputs": [
    {
     "name": "stdout",
     "output_type": "stream",
     "text": [
      "Enter the starting number :10\n",
      "Enter the last number: 101\n",
      "[11, 13, 17, 19, 23, 29, 31, 37, 41, 43, 47, 53, 59, 61, 67, 71, 73, 79, 83, 89, 97]\n"
     ]
    }
   ],
   "source": [
    "prime_lst = []\n",
    "num1 = int(input(\"Enter the starting number :\"))\n",
    "num2 = int(input(\"Enter the last number: \"))\n",
    "for num in range(num1,num2):\n",
    "    flag =False\n",
    "    for i in range(2,num):\n",
    "        if (num % i) == 0:\n",
    "            flag = True\n",
    "            break\n",
    "\n",
    "    if not flag :\n",
    "        prime_lst.append(num)\n",
    "print(prime_lst)"
   ]
  },
  {
   "cell_type": "markdown",
   "metadata": {},
   "source": [
    "### 6) Python program to find the Factorial of a Number"
   ]
  },
  {
   "cell_type": "code",
   "execution_count": 49,
   "metadata": {},
   "outputs": [
    {
     "name": "stdout",
     "output_type": "stream",
     "text": [
      "Enter the number to find the Factorial : 5\n",
      "Factorial of 5 is : 120\n"
     ]
    }
   ],
   "source": [
    "# factorial of 0 and 1 ----> 1\n",
    "fact = 1\n",
    "num = int(input(\"Enter the number to find the Factorial : \"))\n",
    "if num < 0:\n",
    "    print(\"Can not Calculate the Factorial of negative number: \")\n",
    "elif (num == 0) and (num == 1):\n",
    "    print(\"Factorial = 1\")\n",
    "    \n",
    "else:\n",
    "    for i in range (1, num+1):\n",
    "        fact = fact * i \n",
    "print(\"Factorial of {} is : {}\".format(num, fact))"
   ]
  },
  {
   "cell_type": "markdown",
   "metadata": {},
   "source": [
    "### 7) Write a Python Program to display the multiplication Table"
   ]
  },
  {
   "cell_type": "code",
   "execution_count": 50,
   "metadata": {},
   "outputs": [
    {
     "name": "stdout",
     "output_type": "stream",
     "text": [
      "Enter the number to print the Table : 5\n",
      "\n",
      " Multiplication table of 5\n",
      "5 * 1 = 5\n",
      "5 * 2 = 10\n",
      "5 * 3 = 15\n",
      "5 * 4 = 20\n",
      "5 * 5 = 25\n",
      "5 * 6 = 30\n",
      "5 * 7 = 35\n",
      "5 * 8 = 40\n",
      "5 * 9 = 45\n",
      "5 * 10 = 50\n"
     ]
    }
   ],
   "source": [
    "num = int(input(\"Enter the number to print the Table : \"))\n",
    "\n",
    "print(\"\\n Multiplication table of {}\".format(num))\n",
    "for i in range(1,11):\n",
    "    print(\"{} * {} = {}\".format(num,i,num*i))"
   ]
  },
  {
   "cell_type": "markdown",
   "metadata": {},
   "source": [
    "### 8) Python Program to Print the Fibonnaci sequence"
   ]
  },
  {
   "cell_type": "code",
   "execution_count": 60,
   "metadata": {},
   "outputs": [
    {
     "name": "stdout",
     "output_type": "stream",
     "text": [
      "Enter the number of term you want to input : 10\n",
      "Fibonacci series upto 10 : \n",
      "0 1 1 2 3 5 8 13 21 34 "
     ]
    }
   ],
   "source": [
    "nterm = int(input(\"Enter the number of term you want to input : \"))\n",
    "count = 0\n",
    "n1 = 0\n",
    "n2 = 1\n",
    "if (nterm <0):\n",
    "    print(\"Please enter the Positive number \")\n",
    "elif (nterm ==1):\n",
    "    print(\"Fibonacci series : \",n1)\n",
    "else:\n",
    "    print(\"Fibonacci series upto {} : \".format(nterm))\n",
    "    while (count<nterm) :\n",
    "        print(n1,end=\" \")\n",
    "        nth = n1+n2\n",
    "        n1,n2 = n2,nth\n",
    "        count+=1"
   ]
  },
  {
   "cell_type": "markdown",
   "metadata": {},
   "source": [
    "### 9)Python Program to check the Amstrong Number"
   ]
  },
  {
   "cell_type": "markdown",
   "metadata": {},
   "source": [
    "* Amstrong Number : number is equal to the sum of power of it's digit\n",
    "* eg:- 153- len=3\n",
    "* 1 ** 3 + 5 ** 3 + 3 ** 3 = 153 its equivalent to digit so it is amstrong"
   ]
  },
  {
   "cell_type": "code",
   "execution_count": 68,
   "metadata": {},
   "outputs": [
    {
     "name": "stdout",
     "output_type": "stream",
     "text": [
      "Enter the number : 153\n",
      "Number is Armstrong!\n"
     ]
    }
   ],
   "source": [
    "# for the single element :\n",
    "num = int(input(\"Enter the number : \"))\n",
    "power = len(str(num))\n",
    "temp = num\n",
    "sum = 0\n",
    "\n",
    "while temp >0:\n",
    "    digit = temp %10\n",
    "    sum = sum + digit**power\n",
    "    temp = temp//10\n",
    "    \n",
    "if num == sum:\n",
    "    print(\"Number is Armstrong!\")\n",
    "else:\n",
    "    print(\"Number is not Armstrong!\")"
   ]
  },
  {
   "cell_type": "code",
   "execution_count": 69,
   "metadata": {},
   "outputs": [
    {
     "name": "stdout",
     "output_type": "stream",
     "text": [
      "Enter the lower limit: 100\n",
      "Enter the Upper limit: 10000\n",
      "153\n",
      "370\n",
      "371\n",
      "407\n",
      "1634\n",
      "8208\n",
      "9474\n"
     ]
    }
   ],
   "source": [
    "# Find the Armstrong Number in b/w\n",
    "low = int(input(\"Enter the lower limit: \"))\n",
    "upper = int(input(\"Enter the Upper limit: \"))\n",
    "\n",
    "for num in range(low,upper+1):\n",
    "    power = len(str(num))\n",
    "    temp = num\n",
    "    sum = 0 \n",
    "    while temp > 0:\n",
    "        digit = temp%10\n",
    "        sum = sum + digit ** power\n",
    "        temp = temp //10\n",
    "    if num == sum:\n",
    "        print(sum)"
   ]
  },
  {
   "cell_type": "markdown",
   "metadata": {},
   "source": [
    "### 10) Python Program to Find the Sum of Natural Numbers "
   ]
  },
  {
   "cell_type": "code",
   "execution_count": 72,
   "metadata": {},
   "outputs": [
    {
     "name": "stdout",
     "output_type": "stream",
     "text": [
      "Enter the starting Number : 2\n",
      "Enter the last Number : 20\n",
      "The staring number 2 to last 20 the addition in b/w : 209\n"
     ]
    }
   ],
   "source": [
    "num1 = int(input(\"Enter the starting Number : \"))\n",
    "num2 = int(input(\"Enter the last Number : \"))\n",
    "sum = 0\n",
    "for i in range(num1,num2+1):\n",
    "    sum = sum + i\n",
    "print(\"The staring number {} to last {} the addition in b/w : {}\".format(num1,num2,sum))"
   ]
  },
  {
   "cell_type": "code",
   "execution_count": null,
   "metadata": {},
   "outputs": [],
   "source": []
  }
 ],
 "metadata": {
  "kernelspec": {
   "display_name": "Python 3",
   "language": "python",
   "name": "python3"
  },
  "language_info": {
   "codemirror_mode": {
    "name": "ipython",
    "version": 3
   },
   "file_extension": ".py",
   "mimetype": "text/x-python",
   "name": "python",
   "nbconvert_exporter": "python",
   "pygments_lexer": "ipython3",
   "version": "3.6.10"
  }
 },
 "nbformat": 4,
 "nbformat_minor": 4
}
