{
 "cells": [
  {
   "cell_type": "markdown",
   "metadata": {},
   "source": [
    "### 1) Python Program to Find LCM"
   ]
  },
  {
   "cell_type": "code",
   "execution_count": 3,
   "metadata": {},
   "outputs": [
    {
     "name": "stdout",
     "output_type": "stream",
     "text": [
      "Enter the num1 : 8\n",
      "Enter the num2 : 6\n",
      "The LCM of num1:8 and num2:6 is equal = 24\n"
     ]
    }
   ],
   "source": [
    "# lcm - least/lowest common multiple\n",
    "# it is the smallest positive integer that is divisible by both \"a\" and \"b\"\n",
    "\n",
    "num1 = int(input(\"Enter the num1 : \"))\n",
    "num2 = int(input(\"Enter the num2 : \"))\n",
    "\n",
    "# let's find the bigger element\n",
    "if num1>num2:\n",
    "    bigger = num1\n",
    "else:\n",
    "    bigger = num2\n",
    "    \n",
    "while(True):\n",
    "    if (bigger % num1)== 0 and (bigger % num2) == 0:\n",
    "        lcm = bigger\n",
    "        break\n",
    "    bigger+= 1 \n",
    "\n",
    "print(\"The LCM of num1:{} and num2:{} is equal = {}\".format(num1,num2,lcm))"
   ]
  },
  {
   "cell_type": "markdown",
   "metadata": {},
   "source": [
    "### 2) Python Program to Find HCF"
   ]
  },
  {
   "cell_type": "code",
   "execution_count": 6,
   "metadata": {},
   "outputs": [
    {
     "name": "stdout",
     "output_type": "stream",
     "text": [
      "Enter the num1: 8\n",
      "Enter the num2: 24\n",
      "HCF of num1 :8 and num2:24 is equal = 8\n"
     ]
    }
   ],
   "source": [
    "# HCF - highest common factor\n",
    "# Largest positive integer that evenly divides the numbers without a reminder\n",
    "num1 = int(input(\"Enter the num1: \"))\n",
    "num2 = int(input(\"Enter the num2: \"))\n",
    "\n",
    "if num1 > num2:\n",
    "    smaller = num2\n",
    "else:\n",
    "    smaller = num1\n",
    "    \n",
    "hcf =0    \n",
    "for i in range(1,smaller+1):\n",
    "    if (num1 % i == 0) and (num2 % i == 0):\n",
    "        hcf = i \n",
    "    \n",
    "print(\"HCF of num1 :{} and num2:{} is equal = {}\".format(num1,num2,hcf))"
   ]
  },
  {
   "cell_type": "markdown",
   "metadata": {},
   "source": [
    "### 3) Python Program to Convert Decimal to -->(Binary , Octal, and Hexadecimal)"
   ]
  },
  {
   "cell_type": "code",
   "execution_count": 9,
   "metadata": {},
   "outputs": [
    {
     "name": "stdout",
     "output_type": "stream",
     "text": [
      "enter the Decimal Number : 224\n",
      "224 to Binary : 0b11100000\n",
      "224 to Octal : 0o340\n",
      "224 to Hexadecimal : 0xe0\n"
     ]
    }
   ],
   "source": [
    "num = int(input(\"enter the Decimal Number : \"))\n",
    "\n",
    "print(\"{} to Binary : {}\".format(num, bin(num)))\n",
    "print(\"{} to Octal : {}\".format(num, oct(num)))\n",
    "print(\"{} to Hexadecimal : {}\".format(num, hex(num)))"
   ]
  },
  {
   "cell_type": "markdown",
   "metadata": {},
   "source": [
    "### 4) Python Program to Find ASCII value of the character \n",
    "* (ord) -- give ASCII value character"
   ]
  },
  {
   "cell_type": "code",
   "execution_count": 14,
   "metadata": {},
   "outputs": [
    {
     "name": "stdout",
     "output_type": "stream",
     "text": [
      "Enter the Character : a\n",
      "ASCII value of a is 97\n"
     ]
    }
   ],
   "source": [
    "str = input(\"Enter the Character : \")\n",
    "print(\"ASCII value of {} is {}\".format(str, ord(str)))"
   ]
  },
  {
   "cell_type": "markdown",
   "metadata": {},
   "source": [
    "### 5) Python Program to Display Fibonacci Sequence Using Recursion"
   ]
  },
  {
   "cell_type": "code",
   "execution_count": 16,
   "metadata": {},
   "outputs": [
    {
     "name": "stdout",
     "output_type": "stream",
     "text": [
      "Enter the number term you want to print: 5\n",
      "Fibonacci Series : \n",
      "0\n",
      "1\n",
      "1\n",
      "2\n",
      "3\n"
     ]
    }
   ],
   "source": [
    "\n",
    "def recursion_fibbo(n):\n",
    "    if n<=1:\n",
    "        return n;\n",
    "    else:\n",
    "        return(recursion_fibbo(n-1)+recursion_fibbo(n-2))\n",
    "\n",
    "nterm = int(input(\"Enter the number term you want to print: \"))\n",
    "\n",
    "if nterm <0:\n",
    "    print(\"Plzz enter the Postive Element\")\n",
    "else:\n",
    "    print(\"Fibonacci Series : \")\n",
    "    for i in range(nterm):\n",
    "        print(recursion_fibbo(i))"
   ]
  },
  {
   "cell_type": "markdown",
   "metadata": {},
   "source": [
    "### 6) Python Program to Find Factorial of Natural Using Recursion"
   ]
  },
  {
   "cell_type": "code",
   "execution_count": 19,
   "metadata": {},
   "outputs": [
    {
     "name": "stdout",
     "output_type": "stream",
     "text": [
      "Enter the number to find the factorial : 12\n",
      "The factorial of 12 is : 479001600\n"
     ]
    }
   ],
   "source": [
    "# factorial = n * (n-1)!\n",
    "def fact(n):\n",
    "    if n == 1:\n",
    "        return n;\n",
    "    else:\n",
    "        return n * fact(n-1)\n",
    "    \n",
    "num = int(input(\"Enter the number to find the factorial : \"))\n",
    "if num < 0:\n",
    "    print(\"Enter the Positive Number : \")\n",
    "elif num ==0:\n",
    "    print(\"Factorial of zero  : 1\")\n",
    "else:\n",
    "    print(\"The factorial of {} is : {}\".format(num, fact(num)))"
   ]
  },
  {
   "cell_type": "markdown",
   "metadata": {},
   "source": [
    "### 7) Python Program to Calculate the Body Mass Index \n",
    "* BMI = weight / (height)^2   ---> kg/m^2"
   ]
  },
  {
   "cell_type": "code",
   "execution_count": 22,
   "metadata": {},
   "outputs": [
    {
     "name": "stdout",
     "output_type": "stream",
     "text": [
      "Enter the Height in feet (meter) : 5.8\n",
      "Enter the weight in kg : 60\n",
      "The BMI is :  1.78359096313912\n"
     ]
    }
   ],
   "source": [
    "h = float(input(\"Enter the Height in feet (meter) : \"))\n",
    "w = float(input(\"Enter the weight in kg : \"))\n",
    "\n",
    "bmi = w/(h**2)\n",
    "\n",
    "print(\"The BMI is : \",bmi)"
   ]
  },
  {
   "cell_type": "markdown",
   "metadata": {},
   "source": [
    "### 8)  Python Program to calculate the natural logarithm of any number"
   ]
  },
  {
   "cell_type": "code",
   "execution_count": 27,
   "metadata": {},
   "outputs": [
    {
     "name": "stdout",
     "output_type": "stream",
     "text": [
      "Enter a number : 1\n",
      " Log of 1 is : 0.0\n"
     ]
    }
   ],
   "source": [
    "import math\n",
    "x = int(input(\"Enter a number : \"))\n",
    "log = math.log(x)\n",
    "print(\" Log of {} is : {}\".format(x,log))"
   ]
  },
  {
   "cell_type": "markdown",
   "metadata": {},
   "source": [
    "### 9) Python Program for cube sum of first n natural numbers"
   ]
  },
  {
   "cell_type": "code",
   "execution_count": 32,
   "metadata": {},
   "outputs": [
    {
     "name": "stdout",
     "output_type": "stream",
     "text": [
      "Enter the number to find Cube sum : 5\n",
      "Cube sum of 5 natural number is : 225\n"
     ]
    }
   ],
   "source": [
    "n = int(input(\"Enter the number to find Cube sum : \"))\n",
    "sum =0 \n",
    "for i in range(1, n+1):\n",
    "    sum =sum + i**3\n",
    "print(\"Cube sum of {} natural number is : {}\".format(n,sum))"
   ]
  },
  {
   "cell_type": "code",
   "execution_count": null,
   "metadata": {},
   "outputs": [],
   "source": []
  }
 ],
 "metadata": {
  "kernelspec": {
   "display_name": "Python 3",
   "language": "python",
   "name": "python3"
  },
  "language_info": {
   "codemirror_mode": {
    "name": "ipython",
    "version": 3
   },
   "file_extension": ".py",
   "mimetype": "text/x-python",
   "name": "python",
   "nbconvert_exporter": "python",
   "pygments_lexer": "ipython3",
   "version": "3.6.10"
  }
 },
 "nbformat": 4,
 "nbformat_minor": 4
}
