{
 "cells": [
  {
   "cell_type": "code",
   "execution_count": 1,
   "metadata": {},
   "outputs": [],
   "source": [
    "import pandas as pd\n",
    "import numpy as np\n",
    "import seaborn as sns\n",
    "import matplotlib.pyplot as plt"
   ]
  },
  {
   "cell_type": "code",
   "execution_count": 3,
   "metadata": {},
   "outputs": [],
   "source": [
    "df = pd.read_csv('/home/arcgate/Downloads/tmdb_5000_credits.csv')"
   ]
  },
  {
   "cell_type": "code",
   "execution_count": 4,
   "metadata": {},
   "outputs": [
    {
     "data": {
      "text/html": [
       "<div>\n",
       "<style scoped>\n",
       "    .dataframe tbody tr th:only-of-type {\n",
       "        vertical-align: middle;\n",
       "    }\n",
       "\n",
       "    .dataframe tbody tr th {\n",
       "        vertical-align: top;\n",
       "    }\n",
       "\n",
       "    .dataframe thead th {\n",
       "        text-align: right;\n",
       "    }\n",
       "</style>\n",
       "<table border=\"1\" class=\"dataframe\">\n",
       "  <thead>\n",
       "    <tr style=\"text-align: right;\">\n",
       "      <th></th>\n",
       "      <th>movie_id</th>\n",
       "      <th>title</th>\n",
       "      <th>cast</th>\n",
       "      <th>crew</th>\n",
       "    </tr>\n",
       "  </thead>\n",
       "  <tbody>\n",
       "    <tr>\n",
       "      <th>0</th>\n",
       "      <td>19995</td>\n",
       "      <td>Avatar</td>\n",
       "      <td>[{\"cast_id\": 242, \"character\": \"Jake Sully\", \"...</td>\n",
       "      <td>[{\"credit_id\": \"52fe48009251416c750aca23\", \"de...</td>\n",
       "    </tr>\n",
       "    <tr>\n",
       "      <th>1</th>\n",
       "      <td>285</td>\n",
       "      <td>Pirates of the Caribbean: At World's End</td>\n",
       "      <td>[{\"cast_id\": 4, \"character\": \"Captain Jack Spa...</td>\n",
       "      <td>[{\"credit_id\": \"52fe4232c3a36847f800b579\", \"de...</td>\n",
       "    </tr>\n",
       "    <tr>\n",
       "      <th>2</th>\n",
       "      <td>206647</td>\n",
       "      <td>Spectre</td>\n",
       "      <td>[{\"cast_id\": 1, \"character\": \"James Bond\", \"cr...</td>\n",
       "      <td>[{\"credit_id\": \"54805967c3a36829b5002c41\", \"de...</td>\n",
       "    </tr>\n",
       "    <tr>\n",
       "      <th>3</th>\n",
       "      <td>49026</td>\n",
       "      <td>The Dark Knight Rises</td>\n",
       "      <td>[{\"cast_id\": 2, \"character\": \"Bruce Wayne / Ba...</td>\n",
       "      <td>[{\"credit_id\": \"52fe4781c3a36847f81398c3\", \"de...</td>\n",
       "    </tr>\n",
       "    <tr>\n",
       "      <th>4</th>\n",
       "      <td>49529</td>\n",
       "      <td>John Carter</td>\n",
       "      <td>[{\"cast_id\": 5, \"character\": \"John Carter\", \"c...</td>\n",
       "      <td>[{\"credit_id\": \"52fe479ac3a36847f813eaa3\", \"de...</td>\n",
       "    </tr>\n",
       "  </tbody>\n",
       "</table>\n",
       "</div>"
      ],
      "text/plain": [
       "   movie_id                                     title  \\\n",
       "0     19995                                    Avatar   \n",
       "1       285  Pirates of the Caribbean: At World's End   \n",
       "2    206647                                   Spectre   \n",
       "3     49026                     The Dark Knight Rises   \n",
       "4     49529                               John Carter   \n",
       "\n",
       "                                                cast  \\\n",
       "0  [{\"cast_id\": 242, \"character\": \"Jake Sully\", \"...   \n",
       "1  [{\"cast_id\": 4, \"character\": \"Captain Jack Spa...   \n",
       "2  [{\"cast_id\": 1, \"character\": \"James Bond\", \"cr...   \n",
       "3  [{\"cast_id\": 2, \"character\": \"Bruce Wayne / Ba...   \n",
       "4  [{\"cast_id\": 5, \"character\": \"John Carter\", \"c...   \n",
       "\n",
       "                                                crew  \n",
       "0  [{\"credit_id\": \"52fe48009251416c750aca23\", \"de...  \n",
       "1  [{\"credit_id\": \"52fe4232c3a36847f800b579\", \"de...  \n",
       "2  [{\"credit_id\": \"54805967c3a36829b5002c41\", \"de...  \n",
       "3  [{\"credit_id\": \"52fe4781c3a36847f81398c3\", \"de...  \n",
       "4  [{\"credit_id\": \"52fe479ac3a36847f813eaa3\", \"de...  "
      ]
     },
     "execution_count": 4,
     "metadata": {},
     "output_type": "execute_result"
    }
   ],
   "source": [
    "df.head()"
   ]
  },
  {
   "cell_type": "code",
   "execution_count": 6,
   "metadata": {},
   "outputs": [
    {
     "data": {
      "text/plain": [
       "(4803, 4)"
      ]
     },
     "execution_count": 6,
     "metadata": {},
     "output_type": "execute_result"
    }
   ],
   "source": [
    "df.shape"
   ]
  },
  {
   "cell_type": "code",
   "execution_count": 7,
   "metadata": {},
   "outputs": [
    {
     "data": {
      "text/plain": [
       "Index(['movie_id', 'title', 'cast', 'crew'], dtype='object')"
      ]
     },
     "execution_count": 7,
     "metadata": {},
     "output_type": "execute_result"
    }
   ],
   "source": [
    "df.columns"
   ]
  },
  {
   "cell_type": "code",
   "execution_count": 8,
   "metadata": {},
   "outputs": [
    {
     "data": {
      "text/plain": [
       "RangeIndex(start=0, stop=4803, step=1)"
      ]
     },
     "execution_count": 8,
     "metadata": {},
     "output_type": "execute_result"
    }
   ],
   "source": [
    "df.index"
   ]
  },
  {
   "cell_type": "code",
   "execution_count": 9,
   "metadata": {},
   "outputs": [
    {
     "name": "stdout",
     "output_type": "stream",
     "text": [
      "<class 'pandas.core.frame.DataFrame'>\n",
      "RangeIndex: 4803 entries, 0 to 4802\n",
      "Data columns (total 4 columns):\n",
      " #   Column    Non-Null Count  Dtype \n",
      "---  ------    --------------  ----- \n",
      " 0   movie_id  4803 non-null   int64 \n",
      " 1   title     4803 non-null   object\n",
      " 2   cast      4803 non-null   object\n",
      " 3   crew      4803 non-null   object\n",
      "dtypes: int64(1), object(3)\n",
      "memory usage: 150.2+ KB\n"
     ]
    }
   ],
   "source": [
    "df.info()"
   ]
  },
  {
   "cell_type": "code",
   "execution_count": 15,
   "metadata": {},
   "outputs": [
    {
     "data": {
      "text/html": [
       "<div>\n",
       "<style scoped>\n",
       "    .dataframe tbody tr th:only-of-type {\n",
       "        vertical-align: middle;\n",
       "    }\n",
       "\n",
       "    .dataframe tbody tr th {\n",
       "        vertical-align: top;\n",
       "    }\n",
       "\n",
       "    .dataframe thead th {\n",
       "        text-align: right;\n",
       "    }\n",
       "</style>\n",
       "<table border=\"1\" class=\"dataframe\">\n",
       "  <thead>\n",
       "    <tr style=\"text-align: right;\">\n",
       "      <th></th>\n",
       "      <th>movie_id</th>\n",
       "      <th>title</th>\n",
       "      <th>cast</th>\n",
       "      <th>crew</th>\n",
       "    </tr>\n",
       "  </thead>\n",
       "  <tbody>\n",
       "    <tr>\n",
       "      <th>count</th>\n",
       "      <td>4803.000000</td>\n",
       "      <td>4803</td>\n",
       "      <td>4803</td>\n",
       "      <td>4803</td>\n",
       "    </tr>\n",
       "    <tr>\n",
       "      <th>unique</th>\n",
       "      <td>NaN</td>\n",
       "      <td>4800</td>\n",
       "      <td>4761</td>\n",
       "      <td>4776</td>\n",
       "    </tr>\n",
       "    <tr>\n",
       "      <th>top</th>\n",
       "      <td>NaN</td>\n",
       "      <td>Out of the Blue</td>\n",
       "      <td>[]</td>\n",
       "      <td>[]</td>\n",
       "    </tr>\n",
       "    <tr>\n",
       "      <th>freq</th>\n",
       "      <td>NaN</td>\n",
       "      <td>2</td>\n",
       "      <td>43</td>\n",
       "      <td>28</td>\n",
       "    </tr>\n",
       "    <tr>\n",
       "      <th>mean</th>\n",
       "      <td>57165.484281</td>\n",
       "      <td>NaN</td>\n",
       "      <td>NaN</td>\n",
       "      <td>NaN</td>\n",
       "    </tr>\n",
       "    <tr>\n",
       "      <th>std</th>\n",
       "      <td>88694.614033</td>\n",
       "      <td>NaN</td>\n",
       "      <td>NaN</td>\n",
       "      <td>NaN</td>\n",
       "    </tr>\n",
       "    <tr>\n",
       "      <th>min</th>\n",
       "      <td>5.000000</td>\n",
       "      <td>NaN</td>\n",
       "      <td>NaN</td>\n",
       "      <td>NaN</td>\n",
       "    </tr>\n",
       "    <tr>\n",
       "      <th>25%</th>\n",
       "      <td>9014.500000</td>\n",
       "      <td>NaN</td>\n",
       "      <td>NaN</td>\n",
       "      <td>NaN</td>\n",
       "    </tr>\n",
       "    <tr>\n",
       "      <th>50%</th>\n",
       "      <td>14629.000000</td>\n",
       "      <td>NaN</td>\n",
       "      <td>NaN</td>\n",
       "      <td>NaN</td>\n",
       "    </tr>\n",
       "    <tr>\n",
       "      <th>75%</th>\n",
       "      <td>58610.500000</td>\n",
       "      <td>NaN</td>\n",
       "      <td>NaN</td>\n",
       "      <td>NaN</td>\n",
       "    </tr>\n",
       "    <tr>\n",
       "      <th>max</th>\n",
       "      <td>459488.000000</td>\n",
       "      <td>NaN</td>\n",
       "      <td>NaN</td>\n",
       "      <td>NaN</td>\n",
       "    </tr>\n",
       "  </tbody>\n",
       "</table>\n",
       "</div>"
      ],
      "text/plain": [
       "             movie_id            title  cast  crew\n",
       "count     4803.000000             4803  4803  4803\n",
       "unique            NaN             4800  4761  4776\n",
       "top               NaN  Out of the Blue    []    []\n",
       "freq              NaN                2    43    28\n",
       "mean     57165.484281              NaN   NaN   NaN\n",
       "std      88694.614033              NaN   NaN   NaN\n",
       "min          5.000000              NaN   NaN   NaN\n",
       "25%       9014.500000              NaN   NaN   NaN\n",
       "50%      14629.000000              NaN   NaN   NaN\n",
       "75%      58610.500000              NaN   NaN   NaN\n",
       "max     459488.000000              NaN   NaN   NaN"
      ]
     },
     "execution_count": 15,
     "metadata": {},
     "output_type": "execute_result"
    }
   ],
   "source": [
    "df.describe(include='all')"
   ]
  },
  {
   "cell_type": "code",
   "execution_count": 22,
   "metadata": {},
   "outputs": [
    {
     "data": {
      "text/html": [
       "<div>\n",
       "<style scoped>\n",
       "    .dataframe tbody tr th:only-of-type {\n",
       "        vertical-align: middle;\n",
       "    }\n",
       "\n",
       "    .dataframe tbody tr th {\n",
       "        vertical-align: top;\n",
       "    }\n",
       "\n",
       "    .dataframe thead th {\n",
       "        text-align: right;\n",
       "    }\n",
       "</style>\n",
       "<table border=\"1\" class=\"dataframe\">\n",
       "  <thead>\n",
       "    <tr style=\"text-align: right;\">\n",
       "      <th></th>\n",
       "      <th>title</th>\n",
       "      <th>cast</th>\n",
       "    </tr>\n",
       "  </thead>\n",
       "  <tbody>\n",
       "    <tr>\n",
       "      <th>0</th>\n",
       "      <td>Avatar</td>\n",
       "      <td>[{\"cast_id\": 242, \"character\": \"Jake Sully\", \"...</td>\n",
       "    </tr>\n",
       "    <tr>\n",
       "      <th>1</th>\n",
       "      <td>Pirates of the Caribbean: At World's End</td>\n",
       "      <td>[{\"cast_id\": 4, \"character\": \"Captain Jack Spa...</td>\n",
       "    </tr>\n",
       "    <tr>\n",
       "      <th>2</th>\n",
       "      <td>Spectre</td>\n",
       "      <td>[{\"cast_id\": 1, \"character\": \"James Bond\", \"cr...</td>\n",
       "    </tr>\n",
       "    <tr>\n",
       "      <th>3</th>\n",
       "      <td>The Dark Knight Rises</td>\n",
       "      <td>[{\"cast_id\": 2, \"character\": \"Bruce Wayne / Ba...</td>\n",
       "    </tr>\n",
       "    <tr>\n",
       "      <th>4</th>\n",
       "      <td>John Carter</td>\n",
       "      <td>[{\"cast_id\": 5, \"character\": \"John Carter\", \"c...</td>\n",
       "    </tr>\n",
       "  </tbody>\n",
       "</table>\n",
       "</div>"
      ],
      "text/plain": [
       "                                      title  \\\n",
       "0                                    Avatar   \n",
       "1  Pirates of the Caribbean: At World's End   \n",
       "2                                   Spectre   \n",
       "3                     The Dark Knight Rises   \n",
       "4                               John Carter   \n",
       "\n",
       "                                                cast  \n",
       "0  [{\"cast_id\": 242, \"character\": \"Jake Sully\", \"...  \n",
       "1  [{\"cast_id\": 4, \"character\": \"Captain Jack Spa...  \n",
       "2  [{\"cast_id\": 1, \"character\": \"James Bond\", \"cr...  \n",
       "3  [{\"cast_id\": 2, \"character\": \"Bruce Wayne / Ba...  \n",
       "4  [{\"cast_id\": 5, \"character\": \"John Carter\", \"c...  "
      ]
     },
     "execution_count": 22,
     "metadata": {},
     "output_type": "execute_result"
    }
   ],
   "source": [
    "pd.DataFrame(df[['title','cast']].head())"
   ]
  },
  {
   "cell_type": "code",
   "execution_count": 24,
   "metadata": {},
   "outputs": [
    {
     "data": {
      "text/plain": [
       "45054    1\n",
       "19084    1\n",
       "41144    1\n",
       "13187    1\n",
       "8849     1\n",
       "Name: movie_id, dtype: int64"
      ]
     },
     "execution_count": 24,
     "metadata": {},
     "output_type": "execute_result"
    }
   ],
   "source": [
    "df.movie_id.value_counts().head()"
   ]
  },
  {
   "cell_type": "code",
   "execution_count": 27,
   "metadata": {},
   "outputs": [
    {
     "data": {
      "text/plain": [
       "'[{\"cast_id\": 242, \"character\": \"Jake Sully\", \"credit_id\": \"5602a8a7c3a3685532001c9a\", \"gender\": 2, \"id\": 65731, \"name\": \"Sam Worthington\", \"order\": 0}, {\"cast_id\": 3, \"character\": \"Neytiri\", \"credit_id\": \"52fe48009251416c750ac9cb\", \"gender\": 1, \"id\": 8691, \"name\": \"Zoe Saldana\", \"order\": 1}, {\"cast_id\": 25, \"character\": \"Dr. Grace Augustine\", \"credit_id\": \"52fe48009251416c750aca39\", \"gender\": 1, \"id\": 10205, \"name\": \"Sigourney Weaver\", \"order\": 2}, {\"cast_id\": 4, \"character\": \"Col. Quaritch\", \"credit_id\": \"52fe48009251416c750ac9cf\", \"gender\": 2, \"id\": 32747, \"name\": \"Stephen Lang\", \"order\": 3}, {\"cast_id\": 5, \"character\": \"Trudy Chacon\", \"credit_id\": \"52fe48009251416c750ac9d3\", \"gender\": 1, \"id\": 17647, \"name\": \"Michelle Rodriguez\", \"order\": 4}, {\"cast_id\": 8, \"character\": \"Selfridge\", \"credit_id\": \"52fe48009251416c750ac9e1\", \"gender\": 2, \"id\": 1771, \"name\": \"Giovanni Ribisi\", \"order\": 5}, {\"cast_id\": 7, \"character\": \"Norm Spellman\", \"credit_id\": \"52fe48009251416c750ac9dd\", \"gender\": 2, \"id\": 59231, \"name\": \"Joel David Moore\", \"order\": 6}, {\"cast_id\": 9, \"character\": \"Moat\", \"credit_id\": \"52fe48009251416c750ac9e5\", \"gender\": 1, \"id\": 30485, \"name\": \"CCH Pounder\", \"order\": 7}, {\"cast_id\": 11, \"character\": \"Eytukan\", \"credit_id\": \"52fe48009251416c750ac9ed\", \"gender\": 2, \"id\": 15853, \"name\": \"Wes Studi\", \"order\": 8}, {\"cast_id\": 10, \"character\": \"Tsu\\'Tey\", \"credit_id\": \"52fe48009251416c750ac9e9\", \"gender\": 2, \"id\": 10964, \"name\": \"Laz Alonso\", \"order\": 9}, {\"cast_id\": 12, \"character\": \"Dr. Max Patel\", \"credit_id\": \"52fe48009251416c750ac9f1\", \"gender\": 2, \"id\": 95697, \"name\": \"Dileep Rao\", \"order\": 10}, {\"cast_id\": 13, \"character\": \"Lyle Wainfleet\", \"credit_id\": \"52fe48009251416c750ac9f5\", \"gender\": 2, \"id\": 98215, \"name\": \"Matt Gerald\", \"order\": 11}, {\"cast_id\": 32, \"character\": \"Private Fike\", \"credit_id\": \"52fe48009251416c750aca5b\", \"gender\": 2, \"id\": 154153, \"name\": \"Sean Anthony Moran\", \"order\": 12}, {\"cast_id\": 33, \"character\": \"Cryo Vault Med Tech\", \"credit_id\": \"52fe48009251416c750aca5f\", \"gender\": 2, \"id\": 397312, \"name\": \"Jason Whyte\", \"order\": 13}, {\"cast_id\": 34, \"character\": \"Venture Star Crew Chief\", \"credit_id\": \"52fe48009251416c750aca63\", \"gender\": 2, \"id\": 42317, \"name\": \"Scott Lawrence\", \"order\": 14}, {\"cast_id\": 35, \"character\": \"Lock Up Trooper\", \"credit_id\": \"52fe48009251416c750aca67\", \"gender\": 2, \"id\": 986734, \"name\": \"Kelly Kilgour\", \"order\": 15}, {\"cast_id\": 36, \"character\": \"Shuttle Pilot\", \"credit_id\": \"52fe48009251416c750aca6b\", \"gender\": 0, \"id\": 1207227, \"name\": \"James Patrick Pitt\", \"order\": 16}, {\"cast_id\": 37, \"character\": \"Shuttle Co-Pilot\", \"credit_id\": \"52fe48009251416c750aca6f\", \"gender\": 0, \"id\": 1180936, \"name\": \"Sean Patrick Murphy\", \"order\": 17}, {\"cast_id\": 38, \"character\": \"Shuttle Crew Chief\", \"credit_id\": \"52fe48009251416c750aca73\", \"gender\": 2, \"id\": 1019578, \"name\": \"Peter Dillon\", \"order\": 18}, {\"cast_id\": 39, \"character\": \"Tractor Operator / Troupe\", \"credit_id\": \"52fe48009251416c750aca77\", \"gender\": 0, \"id\": 91443, \"name\": \"Kevin Dorman\", \"order\": 19}, {\"cast_id\": 40, \"character\": \"Dragon Gunship Pilot\", \"credit_id\": \"52fe48009251416c750aca7b\", \"gender\": 2, \"id\": 173391, \"name\": \"Kelson Henderson\", \"order\": 20}, {\"cast_id\": 41, \"character\": \"Dragon Gunship Gunner\", \"credit_id\": \"52fe48009251416c750aca7f\", \"gender\": 0, \"id\": 1207236, \"name\": \"David Van Horn\", \"order\": 21}, {\"cast_id\": 42, \"character\": \"Dragon Gunship Navigator\", \"credit_id\": \"52fe48009251416c750aca83\", \"gender\": 0, \"id\": 215913, \"name\": \"Jacob Tomuri\", \"order\": 22}, {\"cast_id\": 43, \"character\": \"Suit #1\", \"credit_id\": \"52fe48009251416c750aca87\", \"gender\": 0, \"id\": 143206, \"name\": \"Michael Blain-Rozgay\", \"order\": 23}, {\"cast_id\": 44, \"character\": \"Suit #2\", \"credit_id\": \"52fe48009251416c750aca8b\", \"gender\": 2, \"id\": 169676, \"name\": \"Jon Curry\", \"order\": 24}, {\"cast_id\": 46, \"character\": \"Ambient Room Tech\", \"credit_id\": \"52fe48009251416c750aca8f\", \"gender\": 0, \"id\": 1048610, \"name\": \"Luke Hawker\", \"order\": 25}, {\"cast_id\": 47, \"character\": \"Ambient Room Tech / Troupe\", \"credit_id\": \"52fe48009251416c750aca93\", \"gender\": 0, \"id\": 42288, \"name\": \"Woody Schultz\", \"order\": 26}, {\"cast_id\": 48, \"character\": \"Horse Clan Leader\", \"credit_id\": \"52fe48009251416c750aca97\", \"gender\": 2, \"id\": 68278, \"name\": \"Peter Mensah\", \"order\": 27}, {\"cast_id\": 49, \"character\": \"Link Room Tech\", \"credit_id\": \"52fe48009251416c750aca9b\", \"gender\": 0, \"id\": 1207247, \"name\": \"Sonia Yee\", \"order\": 28}, {\"cast_id\": 50, \"character\": \"Basketball Avatar / Troupe\", \"credit_id\": \"52fe48009251416c750aca9f\", \"gender\": 1, \"id\": 1207248, \"name\": \"Jahnel Curfman\", \"order\": 29}, {\"cast_id\": 51, \"character\": \"Basketball Avatar\", \"credit_id\": \"52fe48009251416c750acaa3\", \"gender\": 0, \"id\": 89714, \"name\": \"Ilram Choi\", \"order\": 30}, {\"cast_id\": 52, \"character\": \"Na\\'vi Child\", \"credit_id\": \"52fe48009251416c750acaa7\", \"gender\": 0, \"id\": 1207249, \"name\": \"Kyla Warren\", \"order\": 31}, {\"cast_id\": 53, \"character\": \"Troupe\", \"credit_id\": \"52fe48009251416c750acaab\", \"gender\": 0, \"id\": 1207250, \"name\": \"Lisa Roumain\", \"order\": 32}, {\"cast_id\": 54, \"character\": \"Troupe\", \"credit_id\": \"52fe48009251416c750acaaf\", \"gender\": 1, \"id\": 83105, \"name\": \"Debra Wilson\", \"order\": 33}, {\"cast_id\": 57, \"character\": \"Troupe\", \"credit_id\": \"52fe48009251416c750acabb\", \"gender\": 0, \"id\": 1207253, \"name\": \"Chris Mala\", \"order\": 34}, {\"cast_id\": 55, \"character\": \"Troupe\", \"credit_id\": \"52fe48009251416c750acab3\", \"gender\": 0, \"id\": 1207251, \"name\": \"Taylor Kibby\", \"order\": 35}, {\"cast_id\": 56, \"character\": \"Troupe\", \"credit_id\": \"52fe48009251416c750acab7\", \"gender\": 0, \"id\": 1207252, \"name\": \"Jodie Landau\", \"order\": 36}, {\"cast_id\": 58, \"character\": \"Troupe\", \"credit_id\": \"52fe48009251416c750acabf\", \"gender\": 0, \"id\": 1207254, \"name\": \"Julie Lamm\", \"order\": 37}, {\"cast_id\": 59, \"character\": \"Troupe\", \"credit_id\": \"52fe48009251416c750acac3\", \"gender\": 0, \"id\": 1207257, \"name\": \"Cullen B. Madden\", \"order\": 38}, {\"cast_id\": 60, \"character\": \"Troupe\", \"credit_id\": \"52fe48009251416c750acac7\", \"gender\": 0, \"id\": 1207259, \"name\": \"Joseph Brady Madden\", \"order\": 39}, {\"cast_id\": 61, \"character\": \"Troupe\", \"credit_id\": \"52fe48009251416c750acacb\", \"gender\": 0, \"id\": 1207262, \"name\": \"Frankie Torres\", \"order\": 40}, {\"cast_id\": 62, \"character\": \"Troupe\", \"credit_id\": \"52fe48009251416c750acacf\", \"gender\": 1, \"id\": 1158600, \"name\": \"Austin Wilson\", \"order\": 41}, {\"cast_id\": 63, \"character\": \"Troupe\", \"credit_id\": \"52fe48019251416c750acad3\", \"gender\": 1, \"id\": 983705, \"name\": \"Sara Wilson\", \"order\": 42}, {\"cast_id\": 64, \"character\": \"Troupe\", \"credit_id\": \"52fe48019251416c750acad7\", \"gender\": 0, \"id\": 1207263, \"name\": \"Tamica Washington-Miller\", \"order\": 43}, {\"cast_id\": 65, \"character\": \"Op Center Staff\", \"credit_id\": \"52fe48019251416c750acadb\", \"gender\": 1, \"id\": 1145098, \"name\": \"Lucy Briant\", \"order\": 44}, {\"cast_id\": 66, \"character\": \"Op Center Staff\", \"credit_id\": \"52fe48019251416c750acadf\", \"gender\": 2, \"id\": 33305, \"name\": \"Nathan Meister\", \"order\": 45}, {\"cast_id\": 67, \"character\": \"Op Center Staff\", \"credit_id\": \"52fe48019251416c750acae3\", \"gender\": 0, \"id\": 1207264, \"name\": \"Gerry Blair\", \"order\": 46}, {\"cast_id\": 68, \"character\": \"Op Center Staff\", \"credit_id\": \"52fe48019251416c750acae7\", \"gender\": 2, \"id\": 33311, \"name\": \"Matthew Chamberlain\", \"order\": 47}, {\"cast_id\": 69, \"character\": \"Op Center Staff\", \"credit_id\": \"52fe48019251416c750acaeb\", \"gender\": 0, \"id\": 1207265, \"name\": \"Paul Yates\", \"order\": 48}, {\"cast_id\": 70, \"character\": \"Op Center Duty Officer\", \"credit_id\": \"52fe48019251416c750acaef\", \"gender\": 0, \"id\": 1207266, \"name\": \"Wray Wilson\", \"order\": 49}, {\"cast_id\": 71, \"character\": \"Op Center Staff\", \"credit_id\": \"52fe48019251416c750acaf3\", \"gender\": 2, \"id\": 54492, \"name\": \"James Gaylyn\", \"order\": 50}, {\"cast_id\": 72, \"character\": \"Dancer\", \"credit_id\": \"52fe48019251416c750acaf7\", \"gender\": 0, \"id\": 1207267, \"name\": \"Melvin Leno Clark III\", \"order\": 51}, {\"cast_id\": 73, \"character\": \"Dancer\", \"credit_id\": \"52fe48019251416c750acafb\", \"gender\": 0, \"id\": 1207268, \"name\": \"Carvon Futrell\", \"order\": 52}, {\"cast_id\": 74, \"character\": \"Dancer\", \"credit_id\": \"52fe48019251416c750acaff\", \"gender\": 0, \"id\": 1207269, \"name\": \"Brandon Jelkes\", \"order\": 53}, {\"cast_id\": 75, \"character\": \"Dancer\", \"credit_id\": \"52fe48019251416c750acb03\", \"gender\": 0, \"id\": 1207270, \"name\": \"Micah Moch\", \"order\": 54}, {\"cast_id\": 76, \"character\": \"Dancer\", \"credit_id\": \"52fe48019251416c750acb07\", \"gender\": 0, \"id\": 1207271, \"name\": \"Hanniyah Muhammad\", \"order\": 55}, {\"cast_id\": 77, \"character\": \"Dancer\", \"credit_id\": \"52fe48019251416c750acb0b\", \"gender\": 0, \"id\": 1207272, \"name\": \"Christopher Nolen\", \"order\": 56}, {\"cast_id\": 78, \"character\": \"Dancer\", \"credit_id\": \"52fe48019251416c750acb0f\", \"gender\": 0, \"id\": 1207273, \"name\": \"Christa Oliver\", \"order\": 57}, {\"cast_id\": 79, \"character\": \"Dancer\", \"credit_id\": \"52fe48019251416c750acb13\", \"gender\": 0, \"id\": 1207274, \"name\": \"April Marie Thomas\", \"order\": 58}, {\"cast_id\": 80, \"character\": \"Dancer\", \"credit_id\": \"52fe48019251416c750acb17\", \"gender\": 0, \"id\": 1207275, \"name\": \"Bravita A. Threatt\", \"order\": 59}, {\"cast_id\": 81, \"character\": \"Mining Chief (uncredited)\", \"credit_id\": \"52fe48019251416c750acb1b\", \"gender\": 0, \"id\": 1207276, \"name\": \"Colin Bleasdale\", \"order\": 60}, {\"cast_id\": 82, \"character\": \"Veteran Miner (uncredited)\", \"credit_id\": \"52fe48019251416c750acb1f\", \"gender\": 0, \"id\": 107969, \"name\": \"Mike Bodnar\", \"order\": 61}, {\"cast_id\": 83, \"character\": \"Richard (uncredited)\", \"credit_id\": \"52fe48019251416c750acb23\", \"gender\": 0, \"id\": 1207278, \"name\": \"Matt Clayton\", \"order\": 62}, {\"cast_id\": 84, \"character\": \"Nav\\'i (uncredited)\", \"credit_id\": \"52fe48019251416c750acb27\", \"gender\": 1, \"id\": 147898, \"name\": \"Nicole Dionne\", \"order\": 63}, {\"cast_id\": 85, \"character\": \"Trooper (uncredited)\", \"credit_id\": \"52fe48019251416c750acb2b\", \"gender\": 0, \"id\": 1207280, \"name\": \"Jamie Harrison\", \"order\": 64}, {\"cast_id\": 86, \"character\": \"Trooper (uncredited)\", \"credit_id\": \"52fe48019251416c750acb2f\", \"gender\": 0, \"id\": 1207281, \"name\": \"Allan Henry\", \"order\": 65}, {\"cast_id\": 87, \"character\": \"Ground Technician (uncredited)\", \"credit_id\": \"52fe48019251416c750acb33\", \"gender\": 2, \"id\": 1207282, \"name\": \"Anthony Ingruber\", \"order\": 66}, {\"cast_id\": 88, \"character\": \"Flight Crew Mechanic (uncredited)\", \"credit_id\": \"52fe48019251416c750acb37\", \"gender\": 0, \"id\": 1207283, \"name\": \"Ashley Jeffery\", \"order\": 67}, {\"cast_id\": 14, \"character\": \"Samson Pilot\", \"credit_id\": \"52fe48009251416c750ac9f9\", \"gender\": 0, \"id\": 98216, \"name\": \"Dean Knowsley\", \"order\": 68}, {\"cast_id\": 89, \"character\": \"Trooper (uncredited)\", \"credit_id\": \"52fe48019251416c750acb3b\", \"gender\": 0, \"id\": 1201399, \"name\": \"Joseph Mika-Hunt\", \"order\": 69}, {\"cast_id\": 90, \"character\": \"Banshee (uncredited)\", \"credit_id\": \"52fe48019251416c750acb3f\", \"gender\": 0, \"id\": 236696, \"name\": \"Terry Notary\", \"order\": 70}, {\"cast_id\": 91, \"character\": \"Soldier (uncredited)\", \"credit_id\": \"52fe48019251416c750acb43\", \"gender\": 0, \"id\": 1207287, \"name\": \"Kai Pantano\", \"order\": 71}, {\"cast_id\": 92, \"character\": \"Blast Technician (uncredited)\", \"credit_id\": \"52fe48019251416c750acb47\", \"gender\": 0, \"id\": 1207288, \"name\": \"Logan Pithyou\", \"order\": 72}, {\"cast_id\": 93, \"character\": \"Vindum Raah (uncredited)\", \"credit_id\": \"52fe48019251416c750acb4b\", \"gender\": 0, \"id\": 1207289, \"name\": \"Stuart Pollock\", \"order\": 73}, {\"cast_id\": 94, \"character\": \"Hero (uncredited)\", \"credit_id\": \"52fe48019251416c750acb4f\", \"gender\": 0, \"id\": 584868, \"name\": \"Raja\", \"order\": 74}, {\"cast_id\": 95, \"character\": \"Ops Centreworker (uncredited)\", \"credit_id\": \"52fe48019251416c750acb53\", \"gender\": 0, \"id\": 1207290, \"name\": \"Gareth Ruck\", \"order\": 75}, {\"cast_id\": 96, \"character\": \"Engineer (uncredited)\", \"credit_id\": \"52fe48019251416c750acb57\", \"gender\": 0, \"id\": 1062463, \"name\": \"Rhian Sheehan\", \"order\": 76}, {\"cast_id\": 97, \"character\": \"Col. Quaritch\\'s Mech Suit (uncredited)\", \"credit_id\": \"52fe48019251416c750acb5b\", \"gender\": 0, \"id\": 60656, \"name\": \"T. J. Storm\", \"order\": 77}, {\"cast_id\": 98, \"character\": \"Female Marine (uncredited)\", \"credit_id\": \"52fe48019251416c750acb5f\", \"gender\": 0, \"id\": 1207291, \"name\": \"Jodie Taylor\", \"order\": 78}, {\"cast_id\": 99, \"character\": \"Ikran Clan Leader (uncredited)\", \"credit_id\": \"52fe48019251416c750acb63\", \"gender\": 1, \"id\": 1186027, \"name\": \"Alicia Vela-Bailey\", \"order\": 79}, {\"cast_id\": 100, \"character\": \"Geologist (uncredited)\", \"credit_id\": \"52fe48019251416c750acb67\", \"gender\": 0, \"id\": 1207292, \"name\": \"Richard Whiteside\", \"order\": 80}, {\"cast_id\": 101, \"character\": \"Na\\'vi (uncredited)\", \"credit_id\": \"52fe48019251416c750acb6b\", \"gender\": 0, \"id\": 103259, \"name\": \"Nikie Zambo\", \"order\": 81}, {\"cast_id\": 102, \"character\": \"Ambient Room Tech / Troupe\", \"credit_id\": \"52fe48019251416c750acb6f\", \"gender\": 1, \"id\": 42286, \"name\": \"Julene Renee\", \"order\": 82}]'"
      ]
     },
     "execution_count": 27,
     "metadata": {},
     "output_type": "execute_result"
    }
   ],
   "source": [
    "df['cast'][0]"
   ]
  },
  {
   "cell_type": "markdown",
   "metadata": {},
   "source": [
    "### Select the row using slicing"
   ]
  },
  {
   "cell_type": "code",
   "execution_count": 28,
   "metadata": {},
   "outputs": [
    {
     "data": {
      "text/html": [
       "<div>\n",
       "<style scoped>\n",
       "    .dataframe tbody tr th:only-of-type {\n",
       "        vertical-align: middle;\n",
       "    }\n",
       "\n",
       "    .dataframe tbody tr th {\n",
       "        vertical-align: top;\n",
       "    }\n",
       "\n",
       "    .dataframe thead th {\n",
       "        text-align: right;\n",
       "    }\n",
       "</style>\n",
       "<table border=\"1\" class=\"dataframe\">\n",
       "  <thead>\n",
       "    <tr style=\"text-align: right;\">\n",
       "      <th></th>\n",
       "      <th>movie_id</th>\n",
       "      <th>title</th>\n",
       "      <th>cast</th>\n",
       "      <th>crew</th>\n",
       "    </tr>\n",
       "  </thead>\n",
       "  <tbody>\n",
       "    <tr>\n",
       "      <th>0</th>\n",
       "      <td>19995</td>\n",
       "      <td>Avatar</td>\n",
       "      <td>[{\"cast_id\": 242, \"character\": \"Jake Sully\", \"...</td>\n",
       "      <td>[{\"credit_id\": \"52fe48009251416c750aca23\", \"de...</td>\n",
       "    </tr>\n",
       "  </tbody>\n",
       "</table>\n",
       "</div>"
      ],
      "text/plain": [
       "   movie_id   title                                               cast  \\\n",
       "0     19995  Avatar  [{\"cast_id\": 242, \"character\": \"Jake Sully\", \"...   \n",
       "\n",
       "                                                crew  \n",
       "0  [{\"credit_id\": \"52fe48009251416c750aca23\", \"de...  "
      ]
     },
     "execution_count": 28,
     "metadata": {},
     "output_type": "execute_result"
    }
   ],
   "source": [
    "df[0:1]"
   ]
  },
  {
   "cell_type": "markdown",
   "metadata": {},
   "source": [
    "# iloc"
   ]
  },
  {
   "cell_type": "code",
   "execution_count": 29,
   "metadata": {},
   "outputs": [
    {
     "data": {
      "text/plain": [
       "movie_id                                                19995\n",
       "title                                                  Avatar\n",
       "cast        [{\"cast_id\": 242, \"character\": \"Jake Sully\", \"...\n",
       "crew        [{\"credit_id\": \"52fe48009251416c750aca23\", \"de...\n",
       "Name: 0, dtype: object"
      ]
     },
     "execution_count": 29,
     "metadata": {},
     "output_type": "execute_result"
    }
   ],
   "source": [
    "df.iloc[0]"
   ]
  },
  {
   "cell_type": "code",
   "execution_count": 32,
   "metadata": {},
   "outputs": [
    {
     "data": {
      "text/html": [
       "<div>\n",
       "<style scoped>\n",
       "    .dataframe tbody tr th:only-of-type {\n",
       "        vertical-align: middle;\n",
       "    }\n",
       "\n",
       "    .dataframe tbody tr th {\n",
       "        vertical-align: top;\n",
       "    }\n",
       "\n",
       "    .dataframe thead th {\n",
       "        text-align: right;\n",
       "    }\n",
       "</style>\n",
       "<table border=\"1\" class=\"dataframe\">\n",
       "  <thead>\n",
       "    <tr style=\"text-align: right;\">\n",
       "      <th></th>\n",
       "      <th>movie_id</th>\n",
       "      <th>title</th>\n",
       "      <th>cast</th>\n",
       "      <th>crew</th>\n",
       "    </tr>\n",
       "  </thead>\n",
       "  <tbody>\n",
       "    <tr>\n",
       "      <th>0</th>\n",
       "      <td>19995</td>\n",
       "      <td>Avatar</td>\n",
       "      <td>[{\"cast_id\": 242, \"character\": \"Jake Sully\", \"...</td>\n",
       "      <td>[{\"credit_id\": \"52fe48009251416c750aca23\", \"de...</td>\n",
       "    </tr>\n",
       "    <tr>\n",
       "      <th>1</th>\n",
       "      <td>285</td>\n",
       "      <td>Pirates of the Caribbean: At World's End</td>\n",
       "      <td>[{\"cast_id\": 4, \"character\": \"Captain Jack Spa...</td>\n",
       "      <td>[{\"credit_id\": \"52fe4232c3a36847f800b579\", \"de...</td>\n",
       "    </tr>\n",
       "    <tr>\n",
       "      <th>2</th>\n",
       "      <td>206647</td>\n",
       "      <td>Spectre</td>\n",
       "      <td>[{\"cast_id\": 1, \"character\": \"James Bond\", \"cr...</td>\n",
       "      <td>[{\"credit_id\": \"54805967c3a36829b5002c41\", \"de...</td>\n",
       "    </tr>\n",
       "  </tbody>\n",
       "</table>\n",
       "</div>"
      ],
      "text/plain": [
       "   movie_id                                     title  \\\n",
       "0     19995                                    Avatar   \n",
       "1       285  Pirates of the Caribbean: At World's End   \n",
       "2    206647                                   Spectre   \n",
       "\n",
       "                                                cast  \\\n",
       "0  [{\"cast_id\": 242, \"character\": \"Jake Sully\", \"...   \n",
       "1  [{\"cast_id\": 4, \"character\": \"Captain Jack Spa...   \n",
       "2  [{\"cast_id\": 1, \"character\": \"James Bond\", \"cr...   \n",
       "\n",
       "                                                crew  \n",
       "0  [{\"credit_id\": \"52fe48009251416c750aca23\", \"de...  \n",
       "1  [{\"credit_id\": \"52fe4232c3a36847f800b579\", \"de...  \n",
       "2  [{\"credit_id\": \"54805967c3a36829b5002c41\", \"de...  "
      ]
     },
     "execution_count": 32,
     "metadata": {},
     "output_type": "execute_result"
    }
   ],
   "source": [
    "df.iloc[0:3]"
   ]
  },
  {
   "cell_type": "code",
   "execution_count": 36,
   "metadata": {},
   "outputs": [
    {
     "data": {
      "text/html": [
       "<div>\n",
       "<style scoped>\n",
       "    .dataframe tbody tr th:only-of-type {\n",
       "        vertical-align: middle;\n",
       "    }\n",
       "\n",
       "    .dataframe tbody tr th {\n",
       "        vertical-align: top;\n",
       "    }\n",
       "\n",
       "    .dataframe thead th {\n",
       "        text-align: right;\n",
       "    }\n",
       "</style>\n",
       "<table border=\"1\" class=\"dataframe\">\n",
       "  <thead>\n",
       "    <tr style=\"text-align: right;\">\n",
       "      <th></th>\n",
       "      <th>movie_id</th>\n",
       "      <th>title</th>\n",
       "      <th>cast</th>\n",
       "      <th>crew</th>\n",
       "    </tr>\n",
       "  </thead>\n",
       "  <tbody>\n",
       "    <tr>\n",
       "      <th>0</th>\n",
       "      <td>19995</td>\n",
       "      <td>Avatar</td>\n",
       "      <td>[{\"cast_id\": 242, \"character\": \"Jake Sully\", \"...</td>\n",
       "      <td>[{\"credit_id\": \"52fe48009251416c750aca23\", \"de...</td>\n",
       "    </tr>\n",
       "    <tr>\n",
       "      <th>1</th>\n",
       "      <td>285</td>\n",
       "      <td>Pirates of the Caribbean: At World's End</td>\n",
       "      <td>[{\"cast_id\": 4, \"character\": \"Captain Jack Spa...</td>\n",
       "      <td>[{\"credit_id\": \"52fe4232c3a36847f800b579\", \"de...</td>\n",
       "    </tr>\n",
       "    <tr>\n",
       "      <th>3</th>\n",
       "      <td>49026</td>\n",
       "      <td>The Dark Knight Rises</td>\n",
       "      <td>[{\"cast_id\": 2, \"character\": \"Bruce Wayne / Ba...</td>\n",
       "      <td>[{\"credit_id\": \"52fe4781c3a36847f81398c3\", \"de...</td>\n",
       "    </tr>\n",
       "    <tr>\n",
       "      <th>5</th>\n",
       "      <td>559</td>\n",
       "      <td>Spider-Man 3</td>\n",
       "      <td>[{\"cast_id\": 30, \"character\": \"Peter Parker / ...</td>\n",
       "      <td>[{\"credit_id\": \"52fe4252c3a36847f80151a5\", \"de...</td>\n",
       "    </tr>\n",
       "    <tr>\n",
       "      <th>10</th>\n",
       "      <td>1452</td>\n",
       "      <td>Superman Returns</td>\n",
       "      <td>[{\"cast_id\": 3, \"character\": \"Superman / Clark...</td>\n",
       "      <td>[{\"credit_id\": \"553bef6a9251416874003c8f\", \"de...</td>\n",
       "    </tr>\n",
       "  </tbody>\n",
       "</table>\n",
       "</div>"
      ],
      "text/plain": [
       "    movie_id                                     title  \\\n",
       "0      19995                                    Avatar   \n",
       "1        285  Pirates of the Caribbean: At World's End   \n",
       "3      49026                     The Dark Knight Rises   \n",
       "5        559                              Spider-Man 3   \n",
       "10      1452                          Superman Returns   \n",
       "\n",
       "                                                 cast  \\\n",
       "0   [{\"cast_id\": 242, \"character\": \"Jake Sully\", \"...   \n",
       "1   [{\"cast_id\": 4, \"character\": \"Captain Jack Spa...   \n",
       "3   [{\"cast_id\": 2, \"character\": \"Bruce Wayne / Ba...   \n",
       "5   [{\"cast_id\": 30, \"character\": \"Peter Parker / ...   \n",
       "10  [{\"cast_id\": 3, \"character\": \"Superman / Clark...   \n",
       "\n",
       "                                                 crew  \n",
       "0   [{\"credit_id\": \"52fe48009251416c750aca23\", \"de...  \n",
       "1   [{\"credit_id\": \"52fe4232c3a36847f800b579\", \"de...  \n",
       "3   [{\"credit_id\": \"52fe4781c3a36847f81398c3\", \"de...  \n",
       "5   [{\"credit_id\": \"52fe4252c3a36847f80151a5\", \"de...  \n",
       "10  [{\"credit_id\": \"553bef6a9251416874003c8f\", \"de...  "
      ]
     },
     "execution_count": 36,
     "metadata": {},
     "output_type": "execute_result"
    }
   ],
   "source": [
    "# we can also pass the index  also\n",
    "df.iloc[[0,1,3,5,10]]"
   ]
  },
  {
   "cell_type": "markdown",
   "metadata": {},
   "source": [
    "* Select the particular row and columns"
   ]
  },
  {
   "cell_type": "code",
   "execution_count": 37,
   "metadata": {},
   "outputs": [
    {
     "data": {
      "text/html": [
       "<div>\n",
       "<style scoped>\n",
       "    .dataframe tbody tr th:only-of-type {\n",
       "        vertical-align: middle;\n",
       "    }\n",
       "\n",
       "    .dataframe tbody tr th {\n",
       "        vertical-align: top;\n",
       "    }\n",
       "\n",
       "    .dataframe thead th {\n",
       "        text-align: right;\n",
       "    }\n",
       "</style>\n",
       "<table border=\"1\" class=\"dataframe\">\n",
       "  <thead>\n",
       "    <tr style=\"text-align: right;\">\n",
       "      <th></th>\n",
       "      <th>crew</th>\n",
       "      <th>title</th>\n",
       "    </tr>\n",
       "  </thead>\n",
       "  <tbody>\n",
       "    <tr>\n",
       "      <th>0</th>\n",
       "      <td>[{\"credit_id\": \"52fe48009251416c750aca23\", \"de...</td>\n",
       "      <td>Avatar</td>\n",
       "    </tr>\n",
       "    <tr>\n",
       "      <th>1</th>\n",
       "      <td>[{\"credit_id\": \"52fe4232c3a36847f800b579\", \"de...</td>\n",
       "      <td>Pirates of the Caribbean: At World's End</td>\n",
       "    </tr>\n",
       "    <tr>\n",
       "      <th>3</th>\n",
       "      <td>[{\"credit_id\": \"52fe4781c3a36847f81398c3\", \"de...</td>\n",
       "      <td>The Dark Knight Rises</td>\n",
       "    </tr>\n",
       "    <tr>\n",
       "      <th>5</th>\n",
       "      <td>[{\"credit_id\": \"52fe4252c3a36847f80151a5\", \"de...</td>\n",
       "      <td>Spider-Man 3</td>\n",
       "    </tr>\n",
       "    <tr>\n",
       "      <th>10</th>\n",
       "      <td>[{\"credit_id\": \"553bef6a9251416874003c8f\", \"de...</td>\n",
       "      <td>Superman Returns</td>\n",
       "    </tr>\n",
       "  </tbody>\n",
       "</table>\n",
       "</div>"
      ],
      "text/plain": [
       "                                                 crew  \\\n",
       "0   [{\"credit_id\": \"52fe48009251416c750aca23\", \"de...   \n",
       "1   [{\"credit_id\": \"52fe4232c3a36847f800b579\", \"de...   \n",
       "3   [{\"credit_id\": \"52fe4781c3a36847f81398c3\", \"de...   \n",
       "5   [{\"credit_id\": \"52fe4252c3a36847f80151a5\", \"de...   \n",
       "10  [{\"credit_id\": \"553bef6a9251416874003c8f\", \"de...   \n",
       "\n",
       "                                       title  \n",
       "0                                     Avatar  \n",
       "1   Pirates of the Caribbean: At World's End  \n",
       "3                      The Dark Knight Rises  \n",
       "5                               Spider-Man 3  \n",
       "10                          Superman Returns  "
      ]
     },
     "execution_count": 37,
     "metadata": {},
     "output_type": "execute_result"
    }
   ],
   "source": [
    "df.iloc[[0,1,3,5,10],[3,1]]    # df.iloc[[row index list],[col index list]]"
   ]
  },
  {
   "cell_type": "markdown",
   "metadata": {},
   "source": [
    "# loc\n",
    "* location based indexing"
   ]
  },
  {
   "cell_type": "code",
   "execution_count": 41,
   "metadata": {},
   "outputs": [
    {
     "data": {
      "text/html": [
       "<div>\n",
       "<style scoped>\n",
       "    .dataframe tbody tr th:only-of-type {\n",
       "        vertical-align: middle;\n",
       "    }\n",
       "\n",
       "    .dataframe tbody tr th {\n",
       "        vertical-align: top;\n",
       "    }\n",
       "\n",
       "    .dataframe thead th {\n",
       "        text-align: right;\n",
       "    }\n",
       "</style>\n",
       "<table border=\"1\" class=\"dataframe\">\n",
       "  <thead>\n",
       "    <tr style=\"text-align: right;\">\n",
       "      <th></th>\n",
       "      <th>movie_id</th>\n",
       "      <th>cast</th>\n",
       "      <th>crew</th>\n",
       "    </tr>\n",
       "    <tr>\n",
       "      <th>title</th>\n",
       "      <th></th>\n",
       "      <th></th>\n",
       "      <th></th>\n",
       "    </tr>\n",
       "  </thead>\n",
       "  <tbody>\n",
       "    <tr>\n",
       "      <th>Avatar</th>\n",
       "      <td>19995</td>\n",
       "      <td>[{\"cast_id\": 242, \"character\": \"Jake Sully\", \"...</td>\n",
       "      <td>[{\"credit_id\": \"52fe48009251416c750aca23\", \"de...</td>\n",
       "    </tr>\n",
       "    <tr>\n",
       "      <th>Pirates of the Caribbean: At World's End</th>\n",
       "      <td>285</td>\n",
       "      <td>[{\"cast_id\": 4, \"character\": \"Captain Jack Spa...</td>\n",
       "      <td>[{\"credit_id\": \"52fe4232c3a36847f800b579\", \"de...</td>\n",
       "    </tr>\n",
       "    <tr>\n",
       "      <th>Spectre</th>\n",
       "      <td>206647</td>\n",
       "      <td>[{\"cast_id\": 1, \"character\": \"James Bond\", \"cr...</td>\n",
       "      <td>[{\"credit_id\": \"54805967c3a36829b5002c41\", \"de...</td>\n",
       "    </tr>\n",
       "    <tr>\n",
       "      <th>The Dark Knight Rises</th>\n",
       "      <td>49026</td>\n",
       "      <td>[{\"cast_id\": 2, \"character\": \"Bruce Wayne / Ba...</td>\n",
       "      <td>[{\"credit_id\": \"52fe4781c3a36847f81398c3\", \"de...</td>\n",
       "    </tr>\n",
       "    <tr>\n",
       "      <th>John Carter</th>\n",
       "      <td>49529</td>\n",
       "      <td>[{\"cast_id\": 5, \"character\": \"John Carter\", \"c...</td>\n",
       "      <td>[{\"credit_id\": \"52fe479ac3a36847f813eaa3\", \"de...</td>\n",
       "    </tr>\n",
       "    <tr>\n",
       "      <th>...</th>\n",
       "      <td>...</td>\n",
       "      <td>...</td>\n",
       "      <td>...</td>\n",
       "    </tr>\n",
       "    <tr>\n",
       "      <th>El Mariachi</th>\n",
       "      <td>9367</td>\n",
       "      <td>[{\"cast_id\": 1, \"character\": \"El Mariachi\", \"c...</td>\n",
       "      <td>[{\"credit_id\": \"52fe44eec3a36847f80b280b\", \"de...</td>\n",
       "    </tr>\n",
       "    <tr>\n",
       "      <th>Newlyweds</th>\n",
       "      <td>72766</td>\n",
       "      <td>[{\"cast_id\": 1, \"character\": \"Buzzy\", \"credit_...</td>\n",
       "      <td>[{\"credit_id\": \"52fe487dc3a368484e0fb013\", \"de...</td>\n",
       "    </tr>\n",
       "    <tr>\n",
       "      <th>Signed, Sealed, Delivered</th>\n",
       "      <td>231617</td>\n",
       "      <td>[{\"cast_id\": 8, \"character\": \"Oliver O\\u2019To...</td>\n",
       "      <td>[{\"credit_id\": \"52fe4df3c3a36847f8275ecf\", \"de...</td>\n",
       "    </tr>\n",
       "    <tr>\n",
       "      <th>Shanghai Calling</th>\n",
       "      <td>126186</td>\n",
       "      <td>[{\"cast_id\": 3, \"character\": \"Sam\", \"credit_id...</td>\n",
       "      <td>[{\"credit_id\": \"52fe4ad9c3a368484e16a36b\", \"de...</td>\n",
       "    </tr>\n",
       "    <tr>\n",
       "      <th>My Date with Drew</th>\n",
       "      <td>25975</td>\n",
       "      <td>[{\"cast_id\": 3, \"character\": \"Herself\", \"credi...</td>\n",
       "      <td>[{\"credit_id\": \"58ce021b9251415a390165d9\", \"de...</td>\n",
       "    </tr>\n",
       "  </tbody>\n",
       "</table>\n",
       "<p>4803 rows × 3 columns</p>\n",
       "</div>"
      ],
      "text/plain": [
       "                                          movie_id  \\\n",
       "title                                                \n",
       "Avatar                                       19995   \n",
       "Pirates of the Caribbean: At World's End       285   \n",
       "Spectre                                     206647   \n",
       "The Dark Knight Rises                        49026   \n",
       "John Carter                                  49529   \n",
       "...                                            ...   \n",
       "El Mariachi                                   9367   \n",
       "Newlyweds                                    72766   \n",
       "Signed, Sealed, Delivered                   231617   \n",
       "Shanghai Calling                            126186   \n",
       "My Date with Drew                            25975   \n",
       "\n",
       "                                                                                       cast  \\\n",
       "title                                                                                         \n",
       "Avatar                                    [{\"cast_id\": 242, \"character\": \"Jake Sully\", \"...   \n",
       "Pirates of the Caribbean: At World's End  [{\"cast_id\": 4, \"character\": \"Captain Jack Spa...   \n",
       "Spectre                                   [{\"cast_id\": 1, \"character\": \"James Bond\", \"cr...   \n",
       "The Dark Knight Rises                     [{\"cast_id\": 2, \"character\": \"Bruce Wayne / Ba...   \n",
       "John Carter                               [{\"cast_id\": 5, \"character\": \"John Carter\", \"c...   \n",
       "...                                                                                     ...   \n",
       "El Mariachi                               [{\"cast_id\": 1, \"character\": \"El Mariachi\", \"c...   \n",
       "Newlyweds                                 [{\"cast_id\": 1, \"character\": \"Buzzy\", \"credit_...   \n",
       "Signed, Sealed, Delivered                 [{\"cast_id\": 8, \"character\": \"Oliver O\\u2019To...   \n",
       "Shanghai Calling                          [{\"cast_id\": 3, \"character\": \"Sam\", \"credit_id...   \n",
       "My Date with Drew                         [{\"cast_id\": 3, \"character\": \"Herself\", \"credi...   \n",
       "\n",
       "                                                                                       crew  \n",
       "title                                                                                        \n",
       "Avatar                                    [{\"credit_id\": \"52fe48009251416c750aca23\", \"de...  \n",
       "Pirates of the Caribbean: At World's End  [{\"credit_id\": \"52fe4232c3a36847f800b579\", \"de...  \n",
       "Spectre                                   [{\"credit_id\": \"54805967c3a36829b5002c41\", \"de...  \n",
       "The Dark Knight Rises                     [{\"credit_id\": \"52fe4781c3a36847f81398c3\", \"de...  \n",
       "John Carter                               [{\"credit_id\": \"52fe479ac3a36847f813eaa3\", \"de...  \n",
       "...                                                                                     ...  \n",
       "El Mariachi                               [{\"credit_id\": \"52fe44eec3a36847f80b280b\", \"de...  \n",
       "Newlyweds                                 [{\"credit_id\": \"52fe487dc3a368484e0fb013\", \"de...  \n",
       "Signed, Sealed, Delivered                 [{\"credit_id\": \"52fe4df3c3a36847f8275ecf\", \"de...  \n",
       "Shanghai Calling                          [{\"credit_id\": \"52fe4ad9c3a368484e16a36b\", \"de...  \n",
       "My Date with Drew                         [{\"credit_id\": \"58ce021b9251415a390165d9\", \"de...  \n",
       "\n",
       "[4803 rows x 3 columns]"
      ]
     },
     "execution_count": 41,
     "metadata": {},
     "output_type": "execute_result"
    }
   ],
   "source": [
    "df1 = pd.read_csv('/home/arcgate/Downloads/tmdb_5000_credits.csv',index_col='title')\n",
    "df1"
   ]
  },
  {
   "cell_type": "code",
   "execution_count": 45,
   "metadata": {},
   "outputs": [
    {
     "data": {
      "text/html": [
       "<div>\n",
       "<style scoped>\n",
       "    .dataframe tbody tr th:only-of-type {\n",
       "        vertical-align: middle;\n",
       "    }\n",
       "\n",
       "    .dataframe tbody tr th {\n",
       "        vertical-align: top;\n",
       "    }\n",
       "\n",
       "    .dataframe thead th {\n",
       "        text-align: right;\n",
       "    }\n",
       "</style>\n",
       "<table border=\"1\" class=\"dataframe\">\n",
       "  <thead>\n",
       "    <tr style=\"text-align: right;\">\n",
       "      <th></th>\n",
       "      <th>crew</th>\n",
       "      <th>cast</th>\n",
       "    </tr>\n",
       "    <tr>\n",
       "      <th>title</th>\n",
       "      <th></th>\n",
       "      <th></th>\n",
       "    </tr>\n",
       "  </thead>\n",
       "  <tbody>\n",
       "    <tr>\n",
       "      <th>El Mariachi</th>\n",
       "      <td>[{\"credit_id\": \"52fe44eec3a36847f80b280b\", \"de...</td>\n",
       "      <td>[{\"cast_id\": 1, \"character\": \"El Mariachi\", \"c...</td>\n",
       "    </tr>\n",
       "    <tr>\n",
       "      <th>John Carter</th>\n",
       "      <td>[{\"credit_id\": \"52fe479ac3a36847f813eaa3\", \"de...</td>\n",
       "      <td>[{\"cast_id\": 5, \"character\": \"John Carter\", \"c...</td>\n",
       "    </tr>\n",
       "  </tbody>\n",
       "</table>\n",
       "</div>"
      ],
      "text/plain": [
       "                                                          crew  \\\n",
       "title                                                            \n",
       "El Mariachi  [{\"credit_id\": \"52fe44eec3a36847f80b280b\", \"de...   \n",
       "John Carter  [{\"credit_id\": \"52fe479ac3a36847f813eaa3\", \"de...   \n",
       "\n",
       "                                                          cast  \n",
       "title                                                           \n",
       "El Mariachi  [{\"cast_id\": 1, \"character\": \"El Mariachi\", \"c...  \n",
       "John Carter  [{\"cast_id\": 5, \"character\": \"John Carter\", \"c...  "
      ]
     },
     "execution_count": 45,
     "metadata": {},
     "output_type": "execute_result"
    }
   ],
   "source": [
    "df1.loc[['El Mariachi', 'John Carter'],['crew','cast']]"
   ]
  },
  {
   "cell_type": "markdown",
   "metadata": {},
   "source": [
    "# Series"
   ]
  },
  {
   "cell_type": "code",
   "execution_count": 49,
   "metadata": {},
   "outputs": [],
   "source": [
    "ser = df['movie_id']"
   ]
  },
  {
   "cell_type": "markdown",
   "metadata": {},
   "source": [
    "### count vs size\n",
    "* count give non missing value \n",
    "* size give missing + non missing value total"
   ]
  },
  {
   "cell_type": "code",
   "execution_count": 51,
   "metadata": {},
   "outputs": [
    {
     "data": {
      "text/plain": [
       "4803"
      ]
     },
     "execution_count": 51,
     "metadata": {},
     "output_type": "execute_result"
    }
   ],
   "source": [
    "ser.count()"
   ]
  },
  {
   "cell_type": "code",
   "execution_count": 53,
   "metadata": {},
   "outputs": [
    {
     "data": {
      "text/plain": [
       "4803"
      ]
     },
     "execution_count": 53,
     "metadata": {},
     "output_type": "execute_result"
    }
   ],
   "source": [
    "ser.size"
   ]
  },
  {
   "cell_type": "code",
   "execution_count": 55,
   "metadata": {},
   "outputs": [
    {
     "data": {
      "text/plain": [
       "array([ 19995,    285, 206647, ..., 231617, 126186,  25975])"
      ]
     },
     "execution_count": 55,
     "metadata": {},
     "output_type": "execute_result"
    }
   ],
   "source": [
    "ser.unique()"
   ]
  },
  {
   "cell_type": "code",
   "execution_count": 57,
   "metadata": {},
   "outputs": [
    {
     "data": {
      "text/plain": [
       "4803"
      ]
     },
     "execution_count": 57,
     "metadata": {},
     "output_type": "execute_result"
    }
   ],
   "source": [
    "ser.nunique()"
   ]
  },
  {
   "cell_type": "code",
   "execution_count": 59,
   "metadata": {},
   "outputs": [
    {
     "data": {
      "text/plain": [
       "4803"
      ]
     },
     "execution_count": 59,
     "metadata": {},
     "output_type": "execute_result"
    }
   ],
   "source": [
    "ser.nunique(dropna=False)"
   ]
  },
  {
   "cell_type": "code",
   "execution_count": 62,
   "metadata": {},
   "outputs": [
    {
     "data": {
      "text/plain": [
       "(-454.484, 153166.0]    4163\n",
       "(153166.0, 306327.0]     473\n",
       "(306327.0, 459488.0]     167\n",
       "Name: movie_id, dtype: int64"
      ]
     },
     "execution_count": 62,
     "metadata": {},
     "output_type": "execute_result"
    }
   ],
   "source": [
    "ser.value_counts(ascending=False, bins = 3)"
   ]
  },
  {
   "cell_type": "code",
   "execution_count": null,
   "metadata": {},
   "outputs": [],
   "source": []
  },
  {
   "cell_type": "code",
   "execution_count": 66,
   "metadata": {},
   "outputs": [],
   "source": [
    "anime = ['Ashish','Nanu','Yuvi','Devraj','Kunsa']\n",
    "anime_series = pd.Series(anime, name = 'Sibling')"
   ]
  },
  {
   "cell_type": "code",
   "execution_count": 67,
   "metadata": {},
   "outputs": [
    {
     "data": {
      "text/plain": [
       "0    Ashish\n",
       "1      Nanu\n",
       "2      Yuvi\n",
       "3    Devraj\n",
       "4     Kunsa\n",
       "Name: Sibling, dtype: object"
      ]
     },
     "execution_count": 67,
     "metadata": {},
     "output_type": "execute_result"
    }
   ],
   "source": [
    "anime_series"
   ]
  },
  {
   "cell_type": "code",
   "execution_count": null,
   "metadata": {},
   "outputs": [],
   "source": []
  },
  {
   "cell_type": "code",
   "execution_count": null,
   "metadata": {},
   "outputs": [],
   "source": []
  },
  {
   "cell_type": "markdown",
   "metadata": {},
   "source": [
    "### Sorting\n",
    "* Sorting on the bases of index and values"
   ]
  },
  {
   "cell_type": "code",
   "execution_count": 69,
   "metadata": {},
   "outputs": [],
   "source": [
    "dict = {1:'one',3:'three',2:'two',4:'four'}\n",
    "ser = pd.Series(dict, name = 'numbers')"
   ]
  },
  {
   "cell_type": "code",
   "execution_count": 70,
   "metadata": {},
   "outputs": [
    {
     "data": {
      "text/plain": [
       "1      one\n",
       "3    three\n",
       "2      two\n",
       "4     four\n",
       "Name: numbers, dtype: object"
      ]
     },
     "execution_count": 70,
     "metadata": {},
     "output_type": "execute_result"
    }
   ],
   "source": [
    "ser"
   ]
  },
  {
   "cell_type": "code",
   "execution_count": null,
   "metadata": {},
   "outputs": [],
   "source": []
  },
  {
   "cell_type": "code",
   "execution_count": 75,
   "metadata": {},
   "outputs": [
    {
     "data": {
      "text/plain": [
       "4     four\n",
       "3    three\n",
       "2      two\n",
       "1      one\n",
       "Name: numbers, dtype: object"
      ]
     },
     "execution_count": 75,
     "metadata": {},
     "output_type": "execute_result"
    }
   ],
   "source": [
    "ser.sort_index(ascending=False, inplace=False)   # inplace is used to sort permanentley"
   ]
  },
  {
   "cell_type": "code",
   "execution_count": 73,
   "metadata": {},
   "outputs": [
    {
     "data": {
      "text/plain": [
       "4     four\n",
       "1      one\n",
       "3    three\n",
       "2      two\n",
       "Name: numbers, dtype: object"
      ]
     },
     "execution_count": 73,
     "metadata": {},
     "output_type": "execute_result"
    }
   ],
   "source": [
    "ser.sort_values()"
   ]
  },
  {
   "cell_type": "code",
   "execution_count": 74,
   "metadata": {},
   "outputs": [
    {
     "data": {
      "text/plain": [
       "1      one\n",
       "3    three\n",
       "2      two\n",
       "4     four\n",
       "Name: numbers, dtype: object"
      ]
     },
     "execution_count": 74,
     "metadata": {},
     "output_type": "execute_result"
    }
   ],
   "source": [
    "ser   # original not changes"
   ]
  },
  {
   "cell_type": "code",
   "execution_count": null,
   "metadata": {},
   "outputs": [],
   "source": []
  },
  {
   "cell_type": "markdown",
   "metadata": {},
   "source": [
    "### Convert Series to list \n",
    "* values()\n",
    "* tolist()"
   ]
  },
  {
   "cell_type": "code",
   "execution_count": 76,
   "metadata": {},
   "outputs": [
    {
     "data": {
      "text/plain": [
       "['one', 'three', 'two', 'four']"
      ]
     },
     "execution_count": 76,
     "metadata": {},
     "output_type": "execute_result"
    }
   ],
   "source": [
    "ser.tolist()"
   ]
  },
  {
   "cell_type": "code",
   "execution_count": 77,
   "metadata": {},
   "outputs": [
    {
     "data": {
      "text/plain": [
       "1      one\n",
       "3    three\n",
       "2      two\n",
       "4     four\n",
       "Name: numbers, dtype: object"
      ]
     },
     "execution_count": 77,
     "metadata": {},
     "output_type": "execute_result"
    }
   ],
   "source": [
    "ser"
   ]
  },
  {
   "cell_type": "code",
   "execution_count": 78,
   "metadata": {},
   "outputs": [
    {
     "data": {
      "text/plain": [
       "array(['one', 'three', 'two', 'four'], dtype=object)"
      ]
     },
     "execution_count": 78,
     "metadata": {},
     "output_type": "execute_result"
    }
   ],
   "source": [
    "ser.values"
   ]
  },
  {
   "cell_type": "code",
   "execution_count": 80,
   "metadata": {},
   "outputs": [
    {
     "data": {
      "text/plain": [
       "numpy.ndarray"
      ]
     },
     "execution_count": 80,
     "metadata": {},
     "output_type": "execute_result"
    }
   ],
   "source": [
    "type(ser.values)"
   ]
  },
  {
   "cell_type": "markdown",
   "metadata": {},
   "source": [
    "## nsmallest, nlargest, idxmin, idxmax"
   ]
  },
  {
   "cell_type": "code",
   "execution_count": 87,
   "metadata": {},
   "outputs": [
    {
     "data": {
      "text/plain": [
       "1       285\n",
       "2    206647\n",
       "3     49026\n",
       "4     49529\n",
       "5       559\n",
       "6     38757\n",
       "7     99861\n",
       "8       767\n",
       "9    209112\n",
       "Name: movie_id, dtype: int64"
      ]
     },
     "execution_count": 87,
     "metadata": {},
     "output_type": "execute_result"
    }
   ],
   "source": [
    "new_Ser = df.movie_id.iloc[1:10]\n",
    "new_Ser"
   ]
  },
  {
   "cell_type": "code",
   "execution_count": 88,
   "metadata": {},
   "outputs": [
    {
     "data": {
      "text/plain": [
       "1      285\n",
       "5      559\n",
       "8      767\n",
       "6    38757\n",
       "3    49026\n",
       "Name: movie_id, dtype: int64"
      ]
     },
     "execution_count": 88,
     "metadata": {},
     "output_type": "execute_result"
    }
   ],
   "source": [
    "new_Ser.nsmallest()"
   ]
  },
  {
   "cell_type": "code",
   "execution_count": 90,
   "metadata": {},
   "outputs": [
    {
     "data": {
      "text/plain": [
       "1    285\n",
       "5    559\n",
       "8    767\n",
       "Name: movie_id, dtype: int64"
      ]
     },
     "execution_count": 90,
     "metadata": {},
     "output_type": "execute_result"
    }
   ],
   "source": [
    "new_Ser.nsmallest(3)"
   ]
  },
  {
   "cell_type": "code",
   "execution_count": 91,
   "metadata": {},
   "outputs": [
    {
     "data": {
      "text/plain": [
       "9    209112\n",
       "2    206647\n",
       "7     99861\n",
       "4     49529\n",
       "3     49026\n",
       "6     38757\n",
       "Name: movie_id, dtype: int64"
      ]
     },
     "execution_count": 91,
     "metadata": {},
     "output_type": "execute_result"
    }
   ],
   "source": [
    "new_Ser.nlargest(6)"
   ]
  },
  {
   "cell_type": "code",
   "execution_count": 98,
   "metadata": {},
   "outputs": [
    {
     "data": {
      "text/plain": [
       "209112"
      ]
     },
     "execution_count": 98,
     "metadata": {},
     "output_type": "execute_result"
    }
   ],
   "source": [
    "new_Ser.nlargest().values[0]"
   ]
  },
  {
   "cell_type": "code",
   "execution_count": 99,
   "metadata": {},
   "outputs": [
    {
     "data": {
      "text/plain": [
       "9"
      ]
     },
     "execution_count": 99,
     "metadata": {},
     "output_type": "execute_result"
    }
   ],
   "source": [
    "new_Ser.nlargest().index[0]"
   ]
  },
  {
   "cell_type": "code",
   "execution_count": 94,
   "metadata": {},
   "outputs": [
    {
     "data": {
      "text/plain": [
       "9"
      ]
     },
     "execution_count": 94,
     "metadata": {},
     "output_type": "execute_result"
    }
   ],
   "source": [
    "new_Ser.idxmax()"
   ]
  },
  {
   "cell_type": "code",
   "execution_count": 95,
   "metadata": {},
   "outputs": [
    {
     "data": {
      "text/plain": [
       "1"
      ]
     },
     "execution_count": 95,
     "metadata": {},
     "output_type": "execute_result"
    }
   ],
   "source": [
    "new_Ser.idxmin()"
   ]
  },
  {
   "cell_type": "code",
   "execution_count": null,
   "metadata": {},
   "outputs": [],
   "source": []
  },
  {
   "cell_type": "markdown",
   "metadata": {},
   "source": [
    "# Reset index, set index, Indexing and slicing of index object, get_loc, is_unique, create index object from scratch"
   ]
  },
  {
   "cell_type": "code",
   "execution_count": 103,
   "metadata": {},
   "outputs": [
    {
     "data": {
      "text/plain": [
       "movie_id                                                19995\n",
       "cast        [{\"cast_id\": 242, \"character\": \"Jake Sully\", \"...\n",
       "crew        [{\"credit_id\": \"52fe48009251416c750aca23\", \"de...\n",
       "Name: Avatar, dtype: object"
      ]
     },
     "execution_count": 103,
     "metadata": {},
     "output_type": "execute_result"
    }
   ],
   "source": [
    "df1.loc['Avatar']"
   ]
  },
  {
   "cell_type": "code",
   "execution_count": 104,
   "metadata": {},
   "outputs": [
    {
     "data": {
      "text/html": [
       "<div>\n",
       "<style scoped>\n",
       "    .dataframe tbody tr th:only-of-type {\n",
       "        vertical-align: middle;\n",
       "    }\n",
       "\n",
       "    .dataframe tbody tr th {\n",
       "        vertical-align: top;\n",
       "    }\n",
       "\n",
       "    .dataframe thead th {\n",
       "        text-align: right;\n",
       "    }\n",
       "</style>\n",
       "<table border=\"1\" class=\"dataframe\">\n",
       "  <thead>\n",
       "    <tr style=\"text-align: right;\">\n",
       "      <th></th>\n",
       "      <th>movie_id</th>\n",
       "      <th>cast</th>\n",
       "      <th>crew</th>\n",
       "    </tr>\n",
       "    <tr>\n",
       "      <th>title</th>\n",
       "      <th></th>\n",
       "      <th></th>\n",
       "      <th></th>\n",
       "    </tr>\n",
       "  </thead>\n",
       "  <tbody>\n",
       "    <tr>\n",
       "      <th>Avatar</th>\n",
       "      <td>19995</td>\n",
       "      <td>[{\"cast_id\": 242, \"character\": \"Jake Sully\", \"...</td>\n",
       "      <td>[{\"credit_id\": \"52fe48009251416c750aca23\", \"de...</td>\n",
       "    </tr>\n",
       "    <tr>\n",
       "      <th>Pirates of the Caribbean: At World's End</th>\n",
       "      <td>285</td>\n",
       "      <td>[{\"cast_id\": 4, \"character\": \"Captain Jack Spa...</td>\n",
       "      <td>[{\"credit_id\": \"52fe4232c3a36847f800b579\", \"de...</td>\n",
       "    </tr>\n",
       "    <tr>\n",
       "      <th>Spectre</th>\n",
       "      <td>206647</td>\n",
       "      <td>[{\"cast_id\": 1, \"character\": \"James Bond\", \"cr...</td>\n",
       "      <td>[{\"credit_id\": \"54805967c3a36829b5002c41\", \"de...</td>\n",
       "    </tr>\n",
       "    <tr>\n",
       "      <th>The Dark Knight Rises</th>\n",
       "      <td>49026</td>\n",
       "      <td>[{\"cast_id\": 2, \"character\": \"Bruce Wayne / Ba...</td>\n",
       "      <td>[{\"credit_id\": \"52fe4781c3a36847f81398c3\", \"de...</td>\n",
       "    </tr>\n",
       "    <tr>\n",
       "      <th>John Carter</th>\n",
       "      <td>49529</td>\n",
       "      <td>[{\"cast_id\": 5, \"character\": \"John Carter\", \"c...</td>\n",
       "      <td>[{\"credit_id\": \"52fe479ac3a36847f813eaa3\", \"de...</td>\n",
       "    </tr>\n",
       "  </tbody>\n",
       "</table>\n",
       "</div>"
      ],
      "text/plain": [
       "                                          movie_id  \\\n",
       "title                                                \n",
       "Avatar                                       19995   \n",
       "Pirates of the Caribbean: At World's End       285   \n",
       "Spectre                                     206647   \n",
       "The Dark Knight Rises                        49026   \n",
       "John Carter                                  49529   \n",
       "\n",
       "                                                                                       cast  \\\n",
       "title                                                                                         \n",
       "Avatar                                    [{\"cast_id\": 242, \"character\": \"Jake Sully\", \"...   \n",
       "Pirates of the Caribbean: At World's End  [{\"cast_id\": 4, \"character\": \"Captain Jack Spa...   \n",
       "Spectre                                   [{\"cast_id\": 1, \"character\": \"James Bond\", \"cr...   \n",
       "The Dark Knight Rises                     [{\"cast_id\": 2, \"character\": \"Bruce Wayne / Ba...   \n",
       "John Carter                               [{\"cast_id\": 5, \"character\": \"John Carter\", \"c...   \n",
       "\n",
       "                                                                                       crew  \n",
       "title                                                                                        \n",
       "Avatar                                    [{\"credit_id\": \"52fe48009251416c750aca23\", \"de...  \n",
       "Pirates of the Caribbean: At World's End  [{\"credit_id\": \"52fe4232c3a36847f800b579\", \"de...  \n",
       "Spectre                                   [{\"credit_id\": \"54805967c3a36829b5002c41\", \"de...  \n",
       "The Dark Knight Rises                     [{\"credit_id\": \"52fe4781c3a36847f81398c3\", \"de...  \n",
       "John Carter                               [{\"credit_id\": \"52fe479ac3a36847f813eaa3\", \"de...  "
      ]
     },
     "execution_count": 104,
     "metadata": {},
     "output_type": "execute_result"
    }
   ],
   "source": [
    "df1.head()"
   ]
  },
  {
   "cell_type": "markdown",
   "metadata": {},
   "source": [
    "* Now we want to reset the index "
   ]
  },
  {
   "cell_type": "code",
   "execution_count": 107,
   "metadata": {},
   "outputs": [
    {
     "data": {
      "text/html": [
       "<div>\n",
       "<style scoped>\n",
       "    .dataframe tbody tr th:only-of-type {\n",
       "        vertical-align: middle;\n",
       "    }\n",
       "\n",
       "    .dataframe tbody tr th {\n",
       "        vertical-align: top;\n",
       "    }\n",
       "\n",
       "    .dataframe thead th {\n",
       "        text-align: right;\n",
       "    }\n",
       "</style>\n",
       "<table border=\"1\" class=\"dataframe\">\n",
       "  <thead>\n",
       "    <tr style=\"text-align: right;\">\n",
       "      <th></th>\n",
       "      <th>title</th>\n",
       "      <th>movie_id</th>\n",
       "      <th>cast</th>\n",
       "      <th>crew</th>\n",
       "    </tr>\n",
       "  </thead>\n",
       "  <tbody>\n",
       "    <tr>\n",
       "      <th>0</th>\n",
       "      <td>Avatar</td>\n",
       "      <td>19995</td>\n",
       "      <td>[{\"cast_id\": 242, \"character\": \"Jake Sully\", \"...</td>\n",
       "      <td>[{\"credit_id\": \"52fe48009251416c750aca23\", \"de...</td>\n",
       "    </tr>\n",
       "    <tr>\n",
       "      <th>1</th>\n",
       "      <td>Pirates of the Caribbean: At World's End</td>\n",
       "      <td>285</td>\n",
       "      <td>[{\"cast_id\": 4, \"character\": \"Captain Jack Spa...</td>\n",
       "      <td>[{\"credit_id\": \"52fe4232c3a36847f800b579\", \"de...</td>\n",
       "    </tr>\n",
       "    <tr>\n",
       "      <th>2</th>\n",
       "      <td>Spectre</td>\n",
       "      <td>206647</td>\n",
       "      <td>[{\"cast_id\": 1, \"character\": \"James Bond\", \"cr...</td>\n",
       "      <td>[{\"credit_id\": \"54805967c3a36829b5002c41\", \"de...</td>\n",
       "    </tr>\n",
       "    <tr>\n",
       "      <th>3</th>\n",
       "      <td>The Dark Knight Rises</td>\n",
       "      <td>49026</td>\n",
       "      <td>[{\"cast_id\": 2, \"character\": \"Bruce Wayne / Ba...</td>\n",
       "      <td>[{\"credit_id\": \"52fe4781c3a36847f81398c3\", \"de...</td>\n",
       "    </tr>\n",
       "    <tr>\n",
       "      <th>4</th>\n",
       "      <td>John Carter</td>\n",
       "      <td>49529</td>\n",
       "      <td>[{\"cast_id\": 5, \"character\": \"John Carter\", \"c...</td>\n",
       "      <td>[{\"credit_id\": \"52fe479ac3a36847f813eaa3\", \"de...</td>\n",
       "    </tr>\n",
       "    <tr>\n",
       "      <th>...</th>\n",
       "      <td>...</td>\n",
       "      <td>...</td>\n",
       "      <td>...</td>\n",
       "      <td>...</td>\n",
       "    </tr>\n",
       "    <tr>\n",
       "      <th>4798</th>\n",
       "      <td>El Mariachi</td>\n",
       "      <td>9367</td>\n",
       "      <td>[{\"cast_id\": 1, \"character\": \"El Mariachi\", \"c...</td>\n",
       "      <td>[{\"credit_id\": \"52fe44eec3a36847f80b280b\", \"de...</td>\n",
       "    </tr>\n",
       "    <tr>\n",
       "      <th>4799</th>\n",
       "      <td>Newlyweds</td>\n",
       "      <td>72766</td>\n",
       "      <td>[{\"cast_id\": 1, \"character\": \"Buzzy\", \"credit_...</td>\n",
       "      <td>[{\"credit_id\": \"52fe487dc3a368484e0fb013\", \"de...</td>\n",
       "    </tr>\n",
       "    <tr>\n",
       "      <th>4800</th>\n",
       "      <td>Signed, Sealed, Delivered</td>\n",
       "      <td>231617</td>\n",
       "      <td>[{\"cast_id\": 8, \"character\": \"Oliver O\\u2019To...</td>\n",
       "      <td>[{\"credit_id\": \"52fe4df3c3a36847f8275ecf\", \"de...</td>\n",
       "    </tr>\n",
       "    <tr>\n",
       "      <th>4801</th>\n",
       "      <td>Shanghai Calling</td>\n",
       "      <td>126186</td>\n",
       "      <td>[{\"cast_id\": 3, \"character\": \"Sam\", \"credit_id...</td>\n",
       "      <td>[{\"credit_id\": \"52fe4ad9c3a368484e16a36b\", \"de...</td>\n",
       "    </tr>\n",
       "    <tr>\n",
       "      <th>4802</th>\n",
       "      <td>My Date with Drew</td>\n",
       "      <td>25975</td>\n",
       "      <td>[{\"cast_id\": 3, \"character\": \"Herself\", \"credi...</td>\n",
       "      <td>[{\"credit_id\": \"58ce021b9251415a390165d9\", \"de...</td>\n",
       "    </tr>\n",
       "  </tbody>\n",
       "</table>\n",
       "<p>4803 rows × 4 columns</p>\n",
       "</div>"
      ],
      "text/plain": [
       "                                         title  movie_id  \\\n",
       "0                                       Avatar     19995   \n",
       "1     Pirates of the Caribbean: At World's End       285   \n",
       "2                                      Spectre    206647   \n",
       "3                        The Dark Knight Rises     49026   \n",
       "4                                  John Carter     49529   \n",
       "...                                        ...       ...   \n",
       "4798                               El Mariachi      9367   \n",
       "4799                                 Newlyweds     72766   \n",
       "4800                 Signed, Sealed, Delivered    231617   \n",
       "4801                          Shanghai Calling    126186   \n",
       "4802                         My Date with Drew     25975   \n",
       "\n",
       "                                                   cast  \\\n",
       "0     [{\"cast_id\": 242, \"character\": \"Jake Sully\", \"...   \n",
       "1     [{\"cast_id\": 4, \"character\": \"Captain Jack Spa...   \n",
       "2     [{\"cast_id\": 1, \"character\": \"James Bond\", \"cr...   \n",
       "3     [{\"cast_id\": 2, \"character\": \"Bruce Wayne / Ba...   \n",
       "4     [{\"cast_id\": 5, \"character\": \"John Carter\", \"c...   \n",
       "...                                                 ...   \n",
       "4798  [{\"cast_id\": 1, \"character\": \"El Mariachi\", \"c...   \n",
       "4799  [{\"cast_id\": 1, \"character\": \"Buzzy\", \"credit_...   \n",
       "4800  [{\"cast_id\": 8, \"character\": \"Oliver O\\u2019To...   \n",
       "4801  [{\"cast_id\": 3, \"character\": \"Sam\", \"credit_id...   \n",
       "4802  [{\"cast_id\": 3, \"character\": \"Herself\", \"credi...   \n",
       "\n",
       "                                                   crew  \n",
       "0     [{\"credit_id\": \"52fe48009251416c750aca23\", \"de...  \n",
       "1     [{\"credit_id\": \"52fe4232c3a36847f800b579\", \"de...  \n",
       "2     [{\"credit_id\": \"54805967c3a36829b5002c41\", \"de...  \n",
       "3     [{\"credit_id\": \"52fe4781c3a36847f81398c3\", \"de...  \n",
       "4     [{\"credit_id\": \"52fe479ac3a36847f813eaa3\", \"de...  \n",
       "...                                                 ...  \n",
       "4798  [{\"credit_id\": \"52fe44eec3a36847f80b280b\", \"de...  \n",
       "4799  [{\"credit_id\": \"52fe487dc3a368484e0fb013\", \"de...  \n",
       "4800  [{\"credit_id\": \"52fe4df3c3a36847f8275ecf\", \"de...  \n",
       "4801  [{\"credit_id\": \"52fe4ad9c3a368484e16a36b\", \"de...  \n",
       "4802  [{\"credit_id\": \"58ce021b9251415a390165d9\", \"de...  \n",
       "\n",
       "[4803 rows x 4 columns]"
      ]
     },
     "execution_count": 107,
     "metadata": {},
     "output_type": "execute_result"
    }
   ],
   "source": [
    "df1.reset_index(inplace=False)"
   ]
  },
  {
   "cell_type": "markdown",
   "metadata": {},
   "source": [
    "### set_index()"
   ]
  },
  {
   "cell_type": "code",
   "execution_count": 109,
   "metadata": {},
   "outputs": [
    {
     "data": {
      "text/html": [
       "<div>\n",
       "<style scoped>\n",
       "    .dataframe tbody tr th:only-of-type {\n",
       "        vertical-align: middle;\n",
       "    }\n",
       "\n",
       "    .dataframe tbody tr th {\n",
       "        vertical-align: top;\n",
       "    }\n",
       "\n",
       "    .dataframe thead th {\n",
       "        text-align: right;\n",
       "    }\n",
       "</style>\n",
       "<table border=\"1\" class=\"dataframe\">\n",
       "  <thead>\n",
       "    <tr style=\"text-align: right;\">\n",
       "      <th></th>\n",
       "      <th>cast</th>\n",
       "      <th>crew</th>\n",
       "    </tr>\n",
       "    <tr>\n",
       "      <th>movie_id</th>\n",
       "      <th></th>\n",
       "      <th></th>\n",
       "    </tr>\n",
       "  </thead>\n",
       "  <tbody>\n",
       "    <tr>\n",
       "      <th>19995</th>\n",
       "      <td>[{\"cast_id\": 242, \"character\": \"Jake Sully\", \"...</td>\n",
       "      <td>[{\"credit_id\": \"52fe48009251416c750aca23\", \"de...</td>\n",
       "    </tr>\n",
       "    <tr>\n",
       "      <th>285</th>\n",
       "      <td>[{\"cast_id\": 4, \"character\": \"Captain Jack Spa...</td>\n",
       "      <td>[{\"credit_id\": \"52fe4232c3a36847f800b579\", \"de...</td>\n",
       "    </tr>\n",
       "    <tr>\n",
       "      <th>206647</th>\n",
       "      <td>[{\"cast_id\": 1, \"character\": \"James Bond\", \"cr...</td>\n",
       "      <td>[{\"credit_id\": \"54805967c3a36829b5002c41\", \"de...</td>\n",
       "    </tr>\n",
       "    <tr>\n",
       "      <th>49026</th>\n",
       "      <td>[{\"cast_id\": 2, \"character\": \"Bruce Wayne / Ba...</td>\n",
       "      <td>[{\"credit_id\": \"52fe4781c3a36847f81398c3\", \"de...</td>\n",
       "    </tr>\n",
       "    <tr>\n",
       "      <th>49529</th>\n",
       "      <td>[{\"cast_id\": 5, \"character\": \"John Carter\", \"c...</td>\n",
       "      <td>[{\"credit_id\": \"52fe479ac3a36847f813eaa3\", \"de...</td>\n",
       "    </tr>\n",
       "    <tr>\n",
       "      <th>...</th>\n",
       "      <td>...</td>\n",
       "      <td>...</td>\n",
       "    </tr>\n",
       "    <tr>\n",
       "      <th>9367</th>\n",
       "      <td>[{\"cast_id\": 1, \"character\": \"El Mariachi\", \"c...</td>\n",
       "      <td>[{\"credit_id\": \"52fe44eec3a36847f80b280b\", \"de...</td>\n",
       "    </tr>\n",
       "    <tr>\n",
       "      <th>72766</th>\n",
       "      <td>[{\"cast_id\": 1, \"character\": \"Buzzy\", \"credit_...</td>\n",
       "      <td>[{\"credit_id\": \"52fe487dc3a368484e0fb013\", \"de...</td>\n",
       "    </tr>\n",
       "    <tr>\n",
       "      <th>231617</th>\n",
       "      <td>[{\"cast_id\": 8, \"character\": \"Oliver O\\u2019To...</td>\n",
       "      <td>[{\"credit_id\": \"52fe4df3c3a36847f8275ecf\", \"de...</td>\n",
       "    </tr>\n",
       "    <tr>\n",
       "      <th>126186</th>\n",
       "      <td>[{\"cast_id\": 3, \"character\": \"Sam\", \"credit_id...</td>\n",
       "      <td>[{\"credit_id\": \"52fe4ad9c3a368484e16a36b\", \"de...</td>\n",
       "    </tr>\n",
       "    <tr>\n",
       "      <th>25975</th>\n",
       "      <td>[{\"cast_id\": 3, \"character\": \"Herself\", \"credi...</td>\n",
       "      <td>[{\"credit_id\": \"58ce021b9251415a390165d9\", \"de...</td>\n",
       "    </tr>\n",
       "  </tbody>\n",
       "</table>\n",
       "<p>4803 rows × 2 columns</p>\n",
       "</div>"
      ],
      "text/plain": [
       "                                                       cast  \\\n",
       "movie_id                                                      \n",
       "19995     [{\"cast_id\": 242, \"character\": \"Jake Sully\", \"...   \n",
       "285       [{\"cast_id\": 4, \"character\": \"Captain Jack Spa...   \n",
       "206647    [{\"cast_id\": 1, \"character\": \"James Bond\", \"cr...   \n",
       "49026     [{\"cast_id\": 2, \"character\": \"Bruce Wayne / Ba...   \n",
       "49529     [{\"cast_id\": 5, \"character\": \"John Carter\", \"c...   \n",
       "...                                                     ...   \n",
       "9367      [{\"cast_id\": 1, \"character\": \"El Mariachi\", \"c...   \n",
       "72766     [{\"cast_id\": 1, \"character\": \"Buzzy\", \"credit_...   \n",
       "231617    [{\"cast_id\": 8, \"character\": \"Oliver O\\u2019To...   \n",
       "126186    [{\"cast_id\": 3, \"character\": \"Sam\", \"credit_id...   \n",
       "25975     [{\"cast_id\": 3, \"character\": \"Herself\", \"credi...   \n",
       "\n",
       "                                                       crew  \n",
       "movie_id                                                     \n",
       "19995     [{\"credit_id\": \"52fe48009251416c750aca23\", \"de...  \n",
       "285       [{\"credit_id\": \"52fe4232c3a36847f800b579\", \"de...  \n",
       "206647    [{\"credit_id\": \"54805967c3a36829b5002c41\", \"de...  \n",
       "49026     [{\"credit_id\": \"52fe4781c3a36847f81398c3\", \"de...  \n",
       "49529     [{\"credit_id\": \"52fe479ac3a36847f813eaa3\", \"de...  \n",
       "...                                                     ...  \n",
       "9367      [{\"credit_id\": \"52fe44eec3a36847f80b280b\", \"de...  \n",
       "72766     [{\"credit_id\": \"52fe487dc3a368484e0fb013\", \"de...  \n",
       "231617    [{\"credit_id\": \"52fe4df3c3a36847f8275ecf\", \"de...  \n",
       "126186    [{\"credit_id\": \"52fe4ad9c3a368484e16a36b\", \"de...  \n",
       "25975     [{\"credit_id\": \"58ce021b9251415a390165d9\", \"de...  \n",
       "\n",
       "[4803 rows x 2 columns]"
      ]
     },
     "execution_count": 109,
     "metadata": {},
     "output_type": "execute_result"
    }
   ],
   "source": [
    "df1.set_index('movie_id')"
   ]
  },
  {
   "cell_type": "code",
   "execution_count": 111,
   "metadata": {},
   "outputs": [
    {
     "data": {
      "text/plain": [
       "Index(['Avatar', 'Pirates of the Caribbean: At World's End', 'Spectre',\n",
       "       'The Dark Knight Rises', 'John Carter', 'Spider-Man 3', 'Tangled',\n",
       "       'Avengers: Age of Ultron', 'Harry Potter and the Half-Blood Prince',\n",
       "       'Batman v Superman: Dawn of Justice',\n",
       "       ...\n",
       "       'On The Downlow', 'Sanctuary: Quite a Conundrum', 'Bang', 'Primer',\n",
       "       'Cavite', 'El Mariachi', 'Newlyweds', 'Signed, Sealed, Delivered',\n",
       "       'Shanghai Calling', 'My Date with Drew'],\n",
       "      dtype='object', name='title', length=4803)"
      ]
     },
     "execution_count": 111,
     "metadata": {},
     "output_type": "execute_result"
    }
   ],
   "source": [
    "df1.index"
   ]
  },
  {
   "cell_type": "code",
   "execution_count": 112,
   "metadata": {},
   "outputs": [
    {
     "data": {
      "text/plain": [
       "Index(['movie_id', 'cast', 'crew'], dtype='object')"
      ]
     },
     "execution_count": 112,
     "metadata": {},
     "output_type": "execute_result"
    }
   ],
   "source": [
    "df1.columns"
   ]
  },
  {
   "cell_type": "code",
   "execution_count": 115,
   "metadata": {},
   "outputs": [
    {
     "data": {
      "text/plain": [
       "'Spider-Man 3'"
      ]
     },
     "execution_count": 115,
     "metadata": {},
     "output_type": "execute_result"
    }
   ],
   "source": [
    "df1.index[5]"
   ]
  },
  {
   "cell_type": "code",
   "execution_count": 116,
   "metadata": {},
   "outputs": [
    {
     "data": {
      "text/plain": [
       "Index(['Avatar', 'Pirates of the Caribbean: At World's End', 'Spectre',\n",
       "       'The Dark Knight Rises', 'John Carter', 'Spider-Man 3'],\n",
       "      dtype='object', name='title')"
      ]
     },
     "execution_count": 116,
     "metadata": {},
     "output_type": "execute_result"
    }
   ],
   "source": [
    "df1.index[:6]"
   ]
  },
  {
   "cell_type": "markdown",
   "metadata": {},
   "source": [
    "### get_loc --\n",
    "* is used to get index location of any index value"
   ]
  },
  {
   "cell_type": "code",
   "execution_count": 119,
   "metadata": {},
   "outputs": [
    {
     "data": {
      "text/plain": [
       "2"
      ]
     },
     "execution_count": 119,
     "metadata": {},
     "output_type": "execute_result"
    }
   ],
   "source": [
    "df1.index.get_loc('Spectre')"
   ]
  },
  {
   "cell_type": "code",
   "execution_count": 120,
   "metadata": {},
   "outputs": [
    {
     "data": {
      "text/plain": [
       "2"
      ]
     },
     "execution_count": 120,
     "metadata": {},
     "output_type": "execute_result"
    }
   ],
   "source": [
    "df1.columns.get_loc('crew')"
   ]
  },
  {
   "cell_type": "markdown",
   "metadata": {},
   "source": [
    "### is_unique  ->\n",
    "* is used to check index is unique or not"
   ]
  },
  {
   "cell_type": "code",
   "execution_count": 122,
   "metadata": {},
   "outputs": [
    {
     "data": {
      "text/plain": [
       "True"
      ]
     },
     "execution_count": 122,
     "metadata": {},
     "output_type": "execute_result"
    }
   ],
   "source": [
    "df1.columns.is_unique   # it mean all col are unique"
   ]
  },
  {
   "cell_type": "code",
   "execution_count": 123,
   "metadata": {},
   "outputs": [
    {
     "data": {
      "text/plain": [
       "False"
      ]
     },
     "execution_count": 123,
     "metadata": {},
     "output_type": "execute_result"
    }
   ],
   "source": [
    "df1.index.is_unique"
   ]
  },
  {
   "cell_type": "markdown",
   "metadata": {},
   "source": [
    "### create Index object"
   ]
  },
  {
   "cell_type": "code",
   "execution_count": 126,
   "metadata": {},
   "outputs": [
    {
     "data": {
      "text/plain": [
       "Index(['A', 'B', 'C'], dtype='object')"
      ]
     },
     "execution_count": 126,
     "metadata": {},
     "output_type": "execute_result"
    }
   ],
   "source": [
    "xyz = pd.Index(['A','B','C'])\n",
    "xyz"
   ]
  },
  {
   "cell_type": "code",
   "execution_count": 128,
   "metadata": {},
   "outputs": [],
   "source": [
    "neser = pd.Series([1,4,5], index =xyz)"
   ]
  },
  {
   "cell_type": "code",
   "execution_count": 129,
   "metadata": {},
   "outputs": [
    {
     "data": {
      "text/plain": [
       "A    1\n",
       "B    4\n",
       "C    5\n",
       "dtype: int64"
      ]
     },
     "execution_count": 129,
     "metadata": {},
     "output_type": "execute_result"
    }
   ],
   "source": [
    "neser"
   ]
  },
  {
   "cell_type": "code",
   "execution_count": null,
   "metadata": {},
   "outputs": [],
   "source": []
  },
  {
   "cell_type": "code",
   "execution_count": null,
   "metadata": {},
   "outputs": [],
   "source": []
  },
  {
   "cell_type": "markdown",
   "metadata": {},
   "source": [
    "# Pandas Filter Data"
   ]
  },
  {
   "cell_type": "code",
   "execution_count": 132,
   "metadata": {},
   "outputs": [
    {
     "data": {
      "text/html": [
       "<div>\n",
       "<style scoped>\n",
       "    .dataframe tbody tr th:only-of-type {\n",
       "        vertical-align: middle;\n",
       "    }\n",
       "\n",
       "    .dataframe tbody tr th {\n",
       "        vertical-align: top;\n",
       "    }\n",
       "\n",
       "    .dataframe thead th {\n",
       "        text-align: right;\n",
       "    }\n",
       "</style>\n",
       "<table border=\"1\" class=\"dataframe\">\n",
       "  <thead>\n",
       "    <tr style=\"text-align: right;\">\n",
       "      <th></th>\n",
       "      <th>country</th>\n",
       "      <th>year</th>\n",
       "      <th>sex</th>\n",
       "      <th>age</th>\n",
       "      <th>suicides_no</th>\n",
       "      <th>population</th>\n",
       "      <th>suicides/100k pop</th>\n",
       "      <th>country-year</th>\n",
       "      <th>HDI for year</th>\n",
       "      <th>gdp_for_year ($)</th>\n",
       "      <th>gdp_per_capita ($)</th>\n",
       "      <th>generation</th>\n",
       "    </tr>\n",
       "  </thead>\n",
       "  <tbody>\n",
       "    <tr>\n",
       "      <th>0</th>\n",
       "      <td>Albania</td>\n",
       "      <td>1987</td>\n",
       "      <td>male</td>\n",
       "      <td>15-24 years</td>\n",
       "      <td>21</td>\n",
       "      <td>312900</td>\n",
       "      <td>6.71</td>\n",
       "      <td>Albania1987</td>\n",
       "      <td>NaN</td>\n",
       "      <td>2,156,624,900</td>\n",
       "      <td>796</td>\n",
       "      <td>Generation X</td>\n",
       "    </tr>\n",
       "    <tr>\n",
       "      <th>1</th>\n",
       "      <td>Albania</td>\n",
       "      <td>1987</td>\n",
       "      <td>male</td>\n",
       "      <td>35-54 years</td>\n",
       "      <td>16</td>\n",
       "      <td>308000</td>\n",
       "      <td>5.19</td>\n",
       "      <td>Albania1987</td>\n",
       "      <td>NaN</td>\n",
       "      <td>2,156,624,900</td>\n",
       "      <td>796</td>\n",
       "      <td>Silent</td>\n",
       "    </tr>\n",
       "    <tr>\n",
       "      <th>2</th>\n",
       "      <td>Albania</td>\n",
       "      <td>1987</td>\n",
       "      <td>female</td>\n",
       "      <td>15-24 years</td>\n",
       "      <td>14</td>\n",
       "      <td>289700</td>\n",
       "      <td>4.83</td>\n",
       "      <td>Albania1987</td>\n",
       "      <td>NaN</td>\n",
       "      <td>2,156,624,900</td>\n",
       "      <td>796</td>\n",
       "      <td>Generation X</td>\n",
       "    </tr>\n",
       "    <tr>\n",
       "      <th>3</th>\n",
       "      <td>Albania</td>\n",
       "      <td>1987</td>\n",
       "      <td>male</td>\n",
       "      <td>75+ years</td>\n",
       "      <td>1</td>\n",
       "      <td>21800</td>\n",
       "      <td>4.59</td>\n",
       "      <td>Albania1987</td>\n",
       "      <td>NaN</td>\n",
       "      <td>2,156,624,900</td>\n",
       "      <td>796</td>\n",
       "      <td>G.I. Generation</td>\n",
       "    </tr>\n",
       "    <tr>\n",
       "      <th>4</th>\n",
       "      <td>Albania</td>\n",
       "      <td>1987</td>\n",
       "      <td>male</td>\n",
       "      <td>25-34 years</td>\n",
       "      <td>9</td>\n",
       "      <td>274300</td>\n",
       "      <td>3.28</td>\n",
       "      <td>Albania1987</td>\n",
       "      <td>NaN</td>\n",
       "      <td>2,156,624,900</td>\n",
       "      <td>796</td>\n",
       "      <td>Boomers</td>\n",
       "    </tr>\n",
       "    <tr>\n",
       "      <th>...</th>\n",
       "      <td>...</td>\n",
       "      <td>...</td>\n",
       "      <td>...</td>\n",
       "      <td>...</td>\n",
       "      <td>...</td>\n",
       "      <td>...</td>\n",
       "      <td>...</td>\n",
       "      <td>...</td>\n",
       "      <td>...</td>\n",
       "      <td>...</td>\n",
       "      <td>...</td>\n",
       "      <td>...</td>\n",
       "    </tr>\n",
       "    <tr>\n",
       "      <th>27815</th>\n",
       "      <td>Uzbekistan</td>\n",
       "      <td>2014</td>\n",
       "      <td>female</td>\n",
       "      <td>35-54 years</td>\n",
       "      <td>107</td>\n",
       "      <td>3620833</td>\n",
       "      <td>2.96</td>\n",
       "      <td>Uzbekistan2014</td>\n",
       "      <td>0.675</td>\n",
       "      <td>63,067,077,179</td>\n",
       "      <td>2309</td>\n",
       "      <td>Generation X</td>\n",
       "    </tr>\n",
       "    <tr>\n",
       "      <th>27816</th>\n",
       "      <td>Uzbekistan</td>\n",
       "      <td>2014</td>\n",
       "      <td>female</td>\n",
       "      <td>75+ years</td>\n",
       "      <td>9</td>\n",
       "      <td>348465</td>\n",
       "      <td>2.58</td>\n",
       "      <td>Uzbekistan2014</td>\n",
       "      <td>0.675</td>\n",
       "      <td>63,067,077,179</td>\n",
       "      <td>2309</td>\n",
       "      <td>Silent</td>\n",
       "    </tr>\n",
       "    <tr>\n",
       "      <th>27817</th>\n",
       "      <td>Uzbekistan</td>\n",
       "      <td>2014</td>\n",
       "      <td>male</td>\n",
       "      <td>5-14 years</td>\n",
       "      <td>60</td>\n",
       "      <td>2762158</td>\n",
       "      <td>2.17</td>\n",
       "      <td>Uzbekistan2014</td>\n",
       "      <td>0.675</td>\n",
       "      <td>63,067,077,179</td>\n",
       "      <td>2309</td>\n",
       "      <td>Generation Z</td>\n",
       "    </tr>\n",
       "    <tr>\n",
       "      <th>27818</th>\n",
       "      <td>Uzbekistan</td>\n",
       "      <td>2014</td>\n",
       "      <td>female</td>\n",
       "      <td>5-14 years</td>\n",
       "      <td>44</td>\n",
       "      <td>2631600</td>\n",
       "      <td>1.67</td>\n",
       "      <td>Uzbekistan2014</td>\n",
       "      <td>0.675</td>\n",
       "      <td>63,067,077,179</td>\n",
       "      <td>2309</td>\n",
       "      <td>Generation Z</td>\n",
       "    </tr>\n",
       "    <tr>\n",
       "      <th>27819</th>\n",
       "      <td>Uzbekistan</td>\n",
       "      <td>2014</td>\n",
       "      <td>female</td>\n",
       "      <td>55-74 years</td>\n",
       "      <td>21</td>\n",
       "      <td>1438935</td>\n",
       "      <td>1.46</td>\n",
       "      <td>Uzbekistan2014</td>\n",
       "      <td>0.675</td>\n",
       "      <td>63,067,077,179</td>\n",
       "      <td>2309</td>\n",
       "      <td>Boomers</td>\n",
       "    </tr>\n",
       "  </tbody>\n",
       "</table>\n",
       "<p>27820 rows × 12 columns</p>\n",
       "</div>"
      ],
      "text/plain": [
       "          country  year     sex          age  suicides_no  population  \\\n",
       "0         Albania  1987    male  15-24 years           21      312900   \n",
       "1         Albania  1987    male  35-54 years           16      308000   \n",
       "2         Albania  1987  female  15-24 years           14      289700   \n",
       "3         Albania  1987    male    75+ years            1       21800   \n",
       "4         Albania  1987    male  25-34 years            9      274300   \n",
       "...           ...   ...     ...          ...          ...         ...   \n",
       "27815  Uzbekistan  2014  female  35-54 years          107     3620833   \n",
       "27816  Uzbekistan  2014  female    75+ years            9      348465   \n",
       "27817  Uzbekistan  2014    male   5-14 years           60     2762158   \n",
       "27818  Uzbekistan  2014  female   5-14 years           44     2631600   \n",
       "27819  Uzbekistan  2014  female  55-74 years           21     1438935   \n",
       "\n",
       "       suicides/100k pop    country-year  HDI for year  gdp_for_year ($)   \\\n",
       "0                   6.71     Albania1987           NaN      2,156,624,900   \n",
       "1                   5.19     Albania1987           NaN      2,156,624,900   \n",
       "2                   4.83     Albania1987           NaN      2,156,624,900   \n",
       "3                   4.59     Albania1987           NaN      2,156,624,900   \n",
       "4                   3.28     Albania1987           NaN      2,156,624,900   \n",
       "...                  ...             ...           ...                ...   \n",
       "27815               2.96  Uzbekistan2014         0.675     63,067,077,179   \n",
       "27816               2.58  Uzbekistan2014         0.675     63,067,077,179   \n",
       "27817               2.17  Uzbekistan2014         0.675     63,067,077,179   \n",
       "27818               1.67  Uzbekistan2014         0.675     63,067,077,179   \n",
       "27819               1.46  Uzbekistan2014         0.675     63,067,077,179   \n",
       "\n",
       "       gdp_per_capita ($)       generation  \n",
       "0                     796     Generation X  \n",
       "1                     796           Silent  \n",
       "2                     796     Generation X  \n",
       "3                     796  G.I. Generation  \n",
       "4                     796          Boomers  \n",
       "...                   ...              ...  \n",
       "27815                2309     Generation X  \n",
       "27816                2309           Silent  \n",
       "27817                2309     Generation Z  \n",
       "27818                2309     Generation Z  \n",
       "27819                2309          Boomers  \n",
       "\n",
       "[27820 rows x 12 columns]"
      ]
     },
     "execution_count": 132,
     "metadata": {},
     "output_type": "execute_result"
    }
   ],
   "source": [
    "df3 = pd.read_csv('/home/arcgate/Downloads/master.csv')\n",
    "df3"
   ]
  },
  {
   "cell_type": "code",
   "execution_count": 136,
   "metadata": {},
   "outputs": [
    {
     "data": {
      "text/plain": [
       "Netherlands               382\n",
       "Austria                   382\n",
       "Mauritius                 382\n",
       "Iceland                   382\n",
       "Malta                     372\n",
       "                         ... \n",
       "Bosnia and Herzegovina     24\n",
       "Cabo Verde                 12\n",
       "Dominica                   12\n",
       "Macau                      12\n",
       "Mongolia                   10\n",
       "Name: country, Length: 101, dtype: int64"
      ]
     },
     "execution_count": 136,
     "metadata": {},
     "output_type": "execute_result"
    }
   ],
   "source": [
    "df3.country.value_counts()"
   ]
  },
  {
   "cell_type": "code",
   "execution_count": 139,
   "metadata": {},
   "outputs": [
    {
     "data": {
      "text/html": [
       "<div>\n",
       "<style scoped>\n",
       "    .dataframe tbody tr th:only-of-type {\n",
       "        vertical-align: middle;\n",
       "    }\n",
       "\n",
       "    .dataframe tbody tr th {\n",
       "        vertical-align: top;\n",
       "    }\n",
       "\n",
       "    .dataframe thead th {\n",
       "        text-align: right;\n",
       "    }\n",
       "</style>\n",
       "<table border=\"1\" class=\"dataframe\">\n",
       "  <thead>\n",
       "    <tr style=\"text-align: right;\">\n",
       "      <th></th>\n",
       "      <th>country</th>\n",
       "    </tr>\n",
       "  </thead>\n",
       "  <tbody>\n",
       "    <tr>\n",
       "      <th>0</th>\n",
       "      <td>Albania</td>\n",
       "    </tr>\n",
       "    <tr>\n",
       "      <th>1</th>\n",
       "      <td>Albania</td>\n",
       "    </tr>\n",
       "    <tr>\n",
       "      <th>2</th>\n",
       "      <td>Albania</td>\n",
       "    </tr>\n",
       "    <tr>\n",
       "      <th>3</th>\n",
       "      <td>Albania</td>\n",
       "    </tr>\n",
       "    <tr>\n",
       "      <th>4</th>\n",
       "      <td>Albania</td>\n",
       "    </tr>\n",
       "  </tbody>\n",
       "</table>\n",
       "</div>"
      ],
      "text/plain": [
       "   country\n",
       "0  Albania\n",
       "1  Albania\n",
       "2  Albania\n",
       "3  Albania\n",
       "4  Albania"
      ]
     },
     "execution_count": 139,
     "metadata": {},
     "output_type": "execute_result"
    }
   ],
   "source": [
    "df3[['country']].head()"
   ]
  },
  {
   "cell_type": "code",
   "execution_count": 140,
   "metadata": {},
   "outputs": [
    {
     "data": {
      "text/plain": [
       "array(['Albania', 'Antigua and Barbuda', 'Argentina', 'Armenia', 'Aruba',\n",
       "       'Australia', 'Austria', 'Azerbaijan', 'Bahamas', 'Bahrain',\n",
       "       'Barbados', 'Belarus', 'Belgium', 'Belize',\n",
       "       'Bosnia and Herzegovina', 'Brazil', 'Bulgaria', 'Cabo Verde',\n",
       "       'Canada', 'Chile', 'Colombia', 'Costa Rica', 'Croatia', 'Cuba',\n",
       "       'Cyprus', 'Czech Republic', 'Denmark', 'Dominica', 'Ecuador',\n",
       "       'El Salvador', 'Estonia', 'Fiji', 'Finland', 'France', 'Georgia',\n",
       "       'Germany', 'Greece', 'Grenada', 'Guatemala', 'Guyana', 'Hungary',\n",
       "       'Iceland', 'Ireland', 'Israel', 'Italy', 'Jamaica', 'Japan',\n",
       "       'Kazakhstan', 'Kiribati', 'Kuwait', 'Kyrgyzstan', 'Latvia',\n",
       "       'Lithuania', 'Luxembourg', 'Macau', 'Maldives', 'Malta',\n",
       "       'Mauritius', 'Mexico', 'Mongolia', 'Montenegro', 'Netherlands',\n",
       "       'New Zealand', 'Nicaragua', 'Norway', 'Oman', 'Panama', 'Paraguay',\n",
       "       'Philippines', 'Poland', 'Portugal', 'Puerto Rico', 'Qatar',\n",
       "       'Republic of Korea', 'Romania', 'Russian Federation',\n",
       "       'Saint Kitts and Nevis', 'Saint Lucia',\n",
       "       'Saint Vincent and Grenadines', 'San Marino', 'Serbia',\n",
       "       'Seychelles', 'Singapore', 'Slovakia', 'Slovenia', 'South Africa',\n",
       "       'Spain', 'Sri Lanka', 'Suriname', 'Sweden', 'Switzerland',\n",
       "       'Thailand', 'Trinidad and Tobago', 'Turkey', 'Turkmenistan',\n",
       "       'Ukraine', 'United Arab Emirates', 'United Kingdom',\n",
       "       'United States', 'Uruguay', 'Uzbekistan'], dtype=object)"
      ]
     },
     "execution_count": 140,
     "metadata": {},
     "output_type": "execute_result"
    }
   ],
   "source": [
    "df3.country.unique()"
   ]
  },
  {
   "cell_type": "markdown",
   "metadata": {},
   "source": [
    "### & and -- | or "
   ]
  },
  {
   "cell_type": "code",
   "execution_count": 152,
   "metadata": {},
   "outputs": [
    {
     "data": {
      "text/html": [
       "<div>\n",
       "<style scoped>\n",
       "    .dataframe tbody tr th:only-of-type {\n",
       "        vertical-align: middle;\n",
       "    }\n",
       "\n",
       "    .dataframe tbody tr th {\n",
       "        vertical-align: top;\n",
       "    }\n",
       "\n",
       "    .dataframe thead th {\n",
       "        text-align: right;\n",
       "    }\n",
       "</style>\n",
       "<table border=\"1\" class=\"dataframe\">\n",
       "  <thead>\n",
       "    <tr style=\"text-align: right;\">\n",
       "      <th></th>\n",
       "      <th>country</th>\n",
       "      <th>year</th>\n",
       "      <th>sex</th>\n",
       "      <th>age</th>\n",
       "    </tr>\n",
       "  </thead>\n",
       "  <tbody>\n",
       "    <tr>\n",
       "      <th>1762</th>\n",
       "      <td>Australia</td>\n",
       "      <td>2014</td>\n",
       "      <td>male</td>\n",
       "      <td>35-54 years</td>\n",
       "    </tr>\n",
       "    <tr>\n",
       "      <th>1763</th>\n",
       "      <td>Australia</td>\n",
       "      <td>2014</td>\n",
       "      <td>male</td>\n",
       "      <td>75+ years</td>\n",
       "    </tr>\n",
       "    <tr>\n",
       "      <th>1764</th>\n",
       "      <td>Australia</td>\n",
       "      <td>2014</td>\n",
       "      <td>male</td>\n",
       "      <td>25-34 years</td>\n",
       "    </tr>\n",
       "    <tr>\n",
       "      <th>1765</th>\n",
       "      <td>Australia</td>\n",
       "      <td>2014</td>\n",
       "      <td>male</td>\n",
       "      <td>55-74 years</td>\n",
       "    </tr>\n",
       "    <tr>\n",
       "      <th>1766</th>\n",
       "      <td>Australia</td>\n",
       "      <td>2014</td>\n",
       "      <td>male</td>\n",
       "      <td>15-24 years</td>\n",
       "    </tr>\n",
       "    <tr>\n",
       "      <th>1773</th>\n",
       "      <td>Australia</td>\n",
       "      <td>2014</td>\n",
       "      <td>male</td>\n",
       "      <td>5-14 years</td>\n",
       "    </tr>\n",
       "    <tr>\n",
       "      <th>1774</th>\n",
       "      <td>Australia</td>\n",
       "      <td>2015</td>\n",
       "      <td>male</td>\n",
       "      <td>35-54 years</td>\n",
       "    </tr>\n",
       "    <tr>\n",
       "      <th>1775</th>\n",
       "      <td>Australia</td>\n",
       "      <td>2015</td>\n",
       "      <td>male</td>\n",
       "      <td>75+ years</td>\n",
       "    </tr>\n",
       "    <tr>\n",
       "      <th>1776</th>\n",
       "      <td>Australia</td>\n",
       "      <td>2015</td>\n",
       "      <td>male</td>\n",
       "      <td>25-34 years</td>\n",
       "    </tr>\n",
       "    <tr>\n",
       "      <th>1777</th>\n",
       "      <td>Australia</td>\n",
       "      <td>2015</td>\n",
       "      <td>male</td>\n",
       "      <td>55-74 years</td>\n",
       "    </tr>\n",
       "    <tr>\n",
       "      <th>1778</th>\n",
       "      <td>Australia</td>\n",
       "      <td>2015</td>\n",
       "      <td>male</td>\n",
       "      <td>15-24 years</td>\n",
       "    </tr>\n",
       "    <tr>\n",
       "      <th>1785</th>\n",
       "      <td>Australia</td>\n",
       "      <td>2015</td>\n",
       "      <td>male</td>\n",
       "      <td>5-14 years</td>\n",
       "    </tr>\n",
       "  </tbody>\n",
       "</table>\n",
       "</div>"
      ],
      "text/plain": [
       "        country  year   sex          age\n",
       "1762  Australia  2014  male  35-54 years\n",
       "1763  Australia  2014  male    75+ years\n",
       "1764  Australia  2014  male  25-34 years\n",
       "1765  Australia  2014  male  55-74 years\n",
       "1766  Australia  2014  male  15-24 years\n",
       "1773  Australia  2014  male   5-14 years\n",
       "1774  Australia  2015  male  35-54 years\n",
       "1775  Australia  2015  male    75+ years\n",
       "1776  Australia  2015  male  25-34 years\n",
       "1777  Australia  2015  male  55-74 years\n",
       "1778  Australia  2015  male  15-24 years\n",
       "1785  Australia  2015  male   5-14 years"
      ]
     },
     "execution_count": 152,
     "metadata": {},
     "output_type": "execute_result"
    }
   ],
   "source": [
    "df3.loc[(df3.country =='Australia')&(df3.sex == 'male')& (df3.year.between(2014,2016)),['country', 'year','sex','age']]"
   ]
  },
  {
   "cell_type": "code",
   "execution_count": 148,
   "metadata": {},
   "outputs": [
    {
     "data": {
      "text/html": [
       "<div>\n",
       "<style scoped>\n",
       "    .dataframe tbody tr th:only-of-type {\n",
       "        vertical-align: middle;\n",
       "    }\n",
       "\n",
       "    .dataframe tbody tr th {\n",
       "        vertical-align: top;\n",
       "    }\n",
       "\n",
       "    .dataframe thead th {\n",
       "        text-align: right;\n",
       "    }\n",
       "</style>\n",
       "<table border=\"1\" class=\"dataframe\">\n",
       "  <thead>\n",
       "    <tr style=\"text-align: right;\">\n",
       "      <th></th>\n",
       "      <th>country</th>\n",
       "      <th>year</th>\n",
       "      <th>sex</th>\n",
       "      <th>age</th>\n",
       "      <th>suicides_no</th>\n",
       "      <th>population</th>\n",
       "      <th>suicides/100k pop</th>\n",
       "      <th>country-year</th>\n",
       "      <th>HDI for year</th>\n",
       "      <th>gdp_for_year ($)</th>\n",
       "      <th>gdp_per_capita ($)</th>\n",
       "      <th>generation</th>\n",
       "    </tr>\n",
       "  </thead>\n",
       "  <tbody>\n",
       "    <tr>\n",
       "      <th>564</th>\n",
       "      <td>Antigua and Barbuda</td>\n",
       "      <td>2014</td>\n",
       "      <td>female</td>\n",
       "      <td>15-24 years</td>\n",
       "      <td>0</td>\n",
       "      <td>8537</td>\n",
       "      <td>0.00</td>\n",
       "      <td>Antigua and Barbuda2014</td>\n",
       "      <td>0.783</td>\n",
       "      <td>1,280,133,333</td>\n",
       "      <td>14093</td>\n",
       "      <td>Millenials</td>\n",
       "    </tr>\n",
       "    <tr>\n",
       "      <th>565</th>\n",
       "      <td>Antigua and Barbuda</td>\n",
       "      <td>2014</td>\n",
       "      <td>female</td>\n",
       "      <td>25-34 years</td>\n",
       "      <td>0</td>\n",
       "      <td>7578</td>\n",
       "      <td>0.00</td>\n",
       "      <td>Antigua and Barbuda2014</td>\n",
       "      <td>0.783</td>\n",
       "      <td>1,280,133,333</td>\n",
       "      <td>14093</td>\n",
       "      <td>Millenials</td>\n",
       "    </tr>\n",
       "    <tr>\n",
       "      <th>566</th>\n",
       "      <td>Antigua and Barbuda</td>\n",
       "      <td>2014</td>\n",
       "      <td>female</td>\n",
       "      <td>35-54 years</td>\n",
       "      <td>0</td>\n",
       "      <td>15273</td>\n",
       "      <td>0.00</td>\n",
       "      <td>Antigua and Barbuda2014</td>\n",
       "      <td>0.783</td>\n",
       "      <td>1,280,133,333</td>\n",
       "      <td>14093</td>\n",
       "      <td>Generation X</td>\n",
       "    </tr>\n",
       "    <tr>\n",
       "      <th>567</th>\n",
       "      <td>Antigua and Barbuda</td>\n",
       "      <td>2014</td>\n",
       "      <td>female</td>\n",
       "      <td>5-14 years</td>\n",
       "      <td>0</td>\n",
       "      <td>8296</td>\n",
       "      <td>0.00</td>\n",
       "      <td>Antigua and Barbuda2014</td>\n",
       "      <td>0.783</td>\n",
       "      <td>1,280,133,333</td>\n",
       "      <td>14093</td>\n",
       "      <td>Generation Z</td>\n",
       "    </tr>\n",
       "    <tr>\n",
       "      <th>568</th>\n",
       "      <td>Antigua and Barbuda</td>\n",
       "      <td>2014</td>\n",
       "      <td>female</td>\n",
       "      <td>55-74 years</td>\n",
       "      <td>0</td>\n",
       "      <td>6085</td>\n",
       "      <td>0.00</td>\n",
       "      <td>Antigua and Barbuda2014</td>\n",
       "      <td>0.783</td>\n",
       "      <td>1,280,133,333</td>\n",
       "      <td>14093</td>\n",
       "      <td>Boomers</td>\n",
       "    </tr>\n",
       "    <tr>\n",
       "      <th>...</th>\n",
       "      <td>...</td>\n",
       "      <td>...</td>\n",
       "      <td>...</td>\n",
       "      <td>...</td>\n",
       "      <td>...</td>\n",
       "      <td>...</td>\n",
       "      <td>...</td>\n",
       "      <td>...</td>\n",
       "      <td>...</td>\n",
       "      <td>...</td>\n",
       "      <td>...</td>\n",
       "      <td>...</td>\n",
       "    </tr>\n",
       "    <tr>\n",
       "      <th>27815</th>\n",
       "      <td>Uzbekistan</td>\n",
       "      <td>2014</td>\n",
       "      <td>female</td>\n",
       "      <td>35-54 years</td>\n",
       "      <td>107</td>\n",
       "      <td>3620833</td>\n",
       "      <td>2.96</td>\n",
       "      <td>Uzbekistan2014</td>\n",
       "      <td>0.675</td>\n",
       "      <td>63,067,077,179</td>\n",
       "      <td>2309</td>\n",
       "      <td>Generation X</td>\n",
       "    </tr>\n",
       "    <tr>\n",
       "      <th>27816</th>\n",
       "      <td>Uzbekistan</td>\n",
       "      <td>2014</td>\n",
       "      <td>female</td>\n",
       "      <td>75+ years</td>\n",
       "      <td>9</td>\n",
       "      <td>348465</td>\n",
       "      <td>2.58</td>\n",
       "      <td>Uzbekistan2014</td>\n",
       "      <td>0.675</td>\n",
       "      <td>63,067,077,179</td>\n",
       "      <td>2309</td>\n",
       "      <td>Silent</td>\n",
       "    </tr>\n",
       "    <tr>\n",
       "      <th>27817</th>\n",
       "      <td>Uzbekistan</td>\n",
       "      <td>2014</td>\n",
       "      <td>male</td>\n",
       "      <td>5-14 years</td>\n",
       "      <td>60</td>\n",
       "      <td>2762158</td>\n",
       "      <td>2.17</td>\n",
       "      <td>Uzbekistan2014</td>\n",
       "      <td>0.675</td>\n",
       "      <td>63,067,077,179</td>\n",
       "      <td>2309</td>\n",
       "      <td>Generation Z</td>\n",
       "    </tr>\n",
       "    <tr>\n",
       "      <th>27818</th>\n",
       "      <td>Uzbekistan</td>\n",
       "      <td>2014</td>\n",
       "      <td>female</td>\n",
       "      <td>5-14 years</td>\n",
       "      <td>44</td>\n",
       "      <td>2631600</td>\n",
       "      <td>1.67</td>\n",
       "      <td>Uzbekistan2014</td>\n",
       "      <td>0.675</td>\n",
       "      <td>63,067,077,179</td>\n",
       "      <td>2309</td>\n",
       "      <td>Generation Z</td>\n",
       "    </tr>\n",
       "    <tr>\n",
       "      <th>27819</th>\n",
       "      <td>Uzbekistan</td>\n",
       "      <td>2014</td>\n",
       "      <td>female</td>\n",
       "      <td>55-74 years</td>\n",
       "      <td>21</td>\n",
       "      <td>1438935</td>\n",
       "      <td>1.46</td>\n",
       "      <td>Uzbekistan2014</td>\n",
       "      <td>0.675</td>\n",
       "      <td>63,067,077,179</td>\n",
       "      <td>2309</td>\n",
       "      <td>Boomers</td>\n",
       "    </tr>\n",
       "  </tbody>\n",
       "</table>\n",
       "<p>1840 rows × 12 columns</p>\n",
       "</div>"
      ],
      "text/plain": [
       "                   country  year     sex          age  suicides_no  \\\n",
       "564    Antigua and Barbuda  2014  female  15-24 years            0   \n",
       "565    Antigua and Barbuda  2014  female  25-34 years            0   \n",
       "566    Antigua and Barbuda  2014  female  35-54 years            0   \n",
       "567    Antigua and Barbuda  2014  female   5-14 years            0   \n",
       "568    Antigua and Barbuda  2014  female  55-74 years            0   \n",
       "...                    ...   ...     ...          ...          ...   \n",
       "27815           Uzbekistan  2014  female  35-54 years          107   \n",
       "27816           Uzbekistan  2014  female    75+ years            9   \n",
       "27817           Uzbekistan  2014    male   5-14 years           60   \n",
       "27818           Uzbekistan  2014  female   5-14 years           44   \n",
       "27819           Uzbekistan  2014  female  55-74 years           21   \n",
       "\n",
       "       population  suicides/100k pop             country-year  HDI for year  \\\n",
       "564          8537               0.00  Antigua and Barbuda2014         0.783   \n",
       "565          7578               0.00  Antigua and Barbuda2014         0.783   \n",
       "566         15273               0.00  Antigua and Barbuda2014         0.783   \n",
       "567          8296               0.00  Antigua and Barbuda2014         0.783   \n",
       "568          6085               0.00  Antigua and Barbuda2014         0.783   \n",
       "...           ...                ...                      ...           ...   \n",
       "27815     3620833               2.96           Uzbekistan2014         0.675   \n",
       "27816      348465               2.58           Uzbekistan2014         0.675   \n",
       "27817     2762158               2.17           Uzbekistan2014         0.675   \n",
       "27818     2631600               1.67           Uzbekistan2014         0.675   \n",
       "27819     1438935               1.46           Uzbekistan2014         0.675   \n",
       "\n",
       "       gdp_for_year ($)   gdp_per_capita ($)    generation  \n",
       "564        1,280,133,333               14093    Millenials  \n",
       "565        1,280,133,333               14093    Millenials  \n",
       "566        1,280,133,333               14093  Generation X  \n",
       "567        1,280,133,333               14093  Generation Z  \n",
       "568        1,280,133,333               14093       Boomers  \n",
       "...                  ...                 ...           ...  \n",
       "27815     63,067,077,179                2309  Generation X  \n",
       "27816     63,067,077,179                2309        Silent  \n",
       "27817     63,067,077,179                2309  Generation Z  \n",
       "27818     63,067,077,179                2309  Generation Z  \n",
       "27819     63,067,077,179                2309       Boomers  \n",
       "\n",
       "[1840 rows x 12 columns]"
      ]
     },
     "execution_count": 148,
     "metadata": {},
     "output_type": "execute_result"
    }
   ],
   "source": [
    "df3[df3.year.between(2014,2016)]"
   ]
  },
  {
   "cell_type": "markdown",
   "metadata": {},
   "source": [
    "### Without loc "
   ]
  },
  {
   "cell_type": "code",
   "execution_count": 157,
   "metadata": {},
   "outputs": [
    {
     "data": {
      "text/html": [
       "<div>\n",
       "<style scoped>\n",
       "    .dataframe tbody tr th:only-of-type {\n",
       "        vertical-align: middle;\n",
       "    }\n",
       "\n",
       "    .dataframe tbody tr th {\n",
       "        vertical-align: top;\n",
       "    }\n",
       "\n",
       "    .dataframe thead th {\n",
       "        text-align: right;\n",
       "    }\n",
       "</style>\n",
       "<table border=\"1\" class=\"dataframe\">\n",
       "  <thead>\n",
       "    <tr style=\"text-align: right;\">\n",
       "      <th></th>\n",
       "      <th>country</th>\n",
       "      <th>sex</th>\n",
       "      <th>age</th>\n",
       "      <th>population</th>\n",
       "    </tr>\n",
       "  </thead>\n",
       "  <tbody>\n",
       "    <tr>\n",
       "      <th>1762</th>\n",
       "      <td>Australia</td>\n",
       "      <td>male</td>\n",
       "      <td>35-54 years</td>\n",
       "      <td>3130341</td>\n",
       "    </tr>\n",
       "    <tr>\n",
       "      <th>1763</th>\n",
       "      <td>Australia</td>\n",
       "      <td>male</td>\n",
       "      <td>75+ years</td>\n",
       "      <td>649925</td>\n",
       "    </tr>\n",
       "    <tr>\n",
       "      <th>1764</th>\n",
       "      <td>Australia</td>\n",
       "      <td>male</td>\n",
       "      <td>25-34 years</td>\n",
       "      <td>1730968</td>\n",
       "    </tr>\n",
       "    <tr>\n",
       "      <th>1765</th>\n",
       "      <td>Australia</td>\n",
       "      <td>male</td>\n",
       "      <td>55-74 years</td>\n",
       "      <td>2279114</td>\n",
       "    </tr>\n",
       "    <tr>\n",
       "      <th>1766</th>\n",
       "      <td>Australia</td>\n",
       "      <td>male</td>\n",
       "      <td>15-24 years</td>\n",
       "      <td>1604935</td>\n",
       "    </tr>\n",
       "    <tr>\n",
       "      <th>1773</th>\n",
       "      <td>Australia</td>\n",
       "      <td>male</td>\n",
       "      <td>5-14 years</td>\n",
       "      <td>1485754</td>\n",
       "    </tr>\n",
       "    <tr>\n",
       "      <th>1774</th>\n",
       "      <td>Australia</td>\n",
       "      <td>male</td>\n",
       "      <td>35-54 years</td>\n",
       "      <td>3149299</td>\n",
       "    </tr>\n",
       "    <tr>\n",
       "      <th>1775</th>\n",
       "      <td>Australia</td>\n",
       "      <td>male</td>\n",
       "      <td>75+ years</td>\n",
       "      <td>673787</td>\n",
       "    </tr>\n",
       "    <tr>\n",
       "      <th>1776</th>\n",
       "      <td>Australia</td>\n",
       "      <td>male</td>\n",
       "      <td>25-34 years</td>\n",
       "      <td>1762265</td>\n",
       "    </tr>\n",
       "    <tr>\n",
       "      <th>1777</th>\n",
       "      <td>Australia</td>\n",
       "      <td>male</td>\n",
       "      <td>55-74 years</td>\n",
       "      <td>2337430</td>\n",
       "    </tr>\n",
       "    <tr>\n",
       "      <th>1778</th>\n",
       "      <td>Australia</td>\n",
       "      <td>male</td>\n",
       "      <td>15-24 years</td>\n",
       "      <td>1608990</td>\n",
       "    </tr>\n",
       "    <tr>\n",
       "      <th>1785</th>\n",
       "      <td>Australia</td>\n",
       "      <td>male</td>\n",
       "      <td>5-14 years</td>\n",
       "      <td>1507502</td>\n",
       "    </tr>\n",
       "  </tbody>\n",
       "</table>\n",
       "</div>"
      ],
      "text/plain": [
       "        country   sex          age  population\n",
       "1762  Australia  male  35-54 years     3130341\n",
       "1763  Australia  male    75+ years      649925\n",
       "1764  Australia  male  25-34 years     1730968\n",
       "1765  Australia  male  55-74 years     2279114\n",
       "1766  Australia  male  15-24 years     1604935\n",
       "1773  Australia  male   5-14 years     1485754\n",
       "1774  Australia  male  35-54 years     3149299\n",
       "1775  Australia  male    75+ years      673787\n",
       "1776  Australia  male  25-34 years     1762265\n",
       "1777  Australia  male  55-74 years     2337430\n",
       "1778  Australia  male  15-24 years     1608990\n",
       "1785  Australia  male   5-14 years     1507502"
      ]
     },
     "execution_count": 157,
     "metadata": {},
     "output_type": "execute_result"
    }
   ],
   "source": [
    "a = df3[(df3.country =='Australia')&(df3.sex == 'male')& (df3.year.between(2014,2016))][['country','sex','age','population']]\n",
    "a"
   ]
  },
  {
   "cell_type": "code",
   "execution_count": 166,
   "metadata": {},
   "outputs": [
    {
     "data": {
      "text/html": [
       "<div>\n",
       "<style scoped>\n",
       "    .dataframe tbody tr th:only-of-type {\n",
       "        vertical-align: middle;\n",
       "    }\n",
       "\n",
       "    .dataframe tbody tr th {\n",
       "        vertical-align: top;\n",
       "    }\n",
       "\n",
       "    .dataframe thead th {\n",
       "        text-align: right;\n",
       "    }\n",
       "</style>\n",
       "<table border=\"1\" class=\"dataframe\">\n",
       "  <thead>\n",
       "    <tr style=\"text-align: right;\">\n",
       "      <th></th>\n",
       "      <th>age b/w</th>\n",
       "      <th>counts</th>\n",
       "    </tr>\n",
       "  </thead>\n",
       "  <tbody>\n",
       "    <tr>\n",
       "      <th>0</th>\n",
       "      <td>25-34 years</td>\n",
       "      <td>2</td>\n",
       "    </tr>\n",
       "    <tr>\n",
       "      <th>1</th>\n",
       "      <td>5-14 years</td>\n",
       "      <td>2</td>\n",
       "    </tr>\n",
       "    <tr>\n",
       "      <th>2</th>\n",
       "      <td>55-74 years</td>\n",
       "      <td>2</td>\n",
       "    </tr>\n",
       "    <tr>\n",
       "      <th>3</th>\n",
       "      <td>75+ years</td>\n",
       "      <td>2</td>\n",
       "    </tr>\n",
       "    <tr>\n",
       "      <th>4</th>\n",
       "      <td>35-54 years</td>\n",
       "      <td>2</td>\n",
       "    </tr>\n",
       "    <tr>\n",
       "      <th>5</th>\n",
       "      <td>15-24 years</td>\n",
       "      <td>2</td>\n",
       "    </tr>\n",
       "  </tbody>\n",
       "</table>\n",
       "</div>"
      ],
      "text/plain": [
       "       age b/w  counts\n",
       "0  25-34 years       2\n",
       "1   5-14 years       2\n",
       "2  55-74 years       2\n",
       "3    75+ years       2\n",
       "4  35-54 years       2\n",
       "5  15-24 years       2"
      ]
     },
     "execution_count": 166,
     "metadata": {},
     "output_type": "execute_result"
    }
   ],
   "source": [
    "b= pd.DataFrame(a.age.value_counts()).reset_index()\n",
    "b.rename(columns = {'index':'age b/w','age':'counts'}, inplace = True)\n",
    "b"
   ]
  },
  {
   "cell_type": "markdown",
   "metadata": {},
   "source": [
    "## Sum in the columns"
   ]
  },
  {
   "cell_type": "code",
   "execution_count": 170,
   "metadata": {},
   "outputs": [
    {
     "data": {
      "text/plain": [
       "12"
      ]
     },
     "execution_count": 170,
     "metadata": {},
     "output_type": "execute_result"
    }
   ],
   "source": [
    "b.sum().counts"
   ]
  },
  {
   "cell_type": "markdown",
   "metadata": {},
   "source": [
    "## isin"
   ]
  },
  {
   "cell_type": "code",
   "execution_count": 173,
   "metadata": {},
   "outputs": [
    {
     "data": {
      "text/html": [
       "<div>\n",
       "<style scoped>\n",
       "    .dataframe tbody tr th:only-of-type {\n",
       "        vertical-align: middle;\n",
       "    }\n",
       "\n",
       "    .dataframe tbody tr th {\n",
       "        vertical-align: top;\n",
       "    }\n",
       "\n",
       "    .dataframe thead th {\n",
       "        text-align: right;\n",
       "    }\n",
       "</style>\n",
       "<table border=\"1\" class=\"dataframe\">\n",
       "  <thead>\n",
       "    <tr style=\"text-align: right;\">\n",
       "      <th></th>\n",
       "      <th>country</th>\n",
       "      <th>year</th>\n",
       "      <th>sex</th>\n",
       "      <th>age</th>\n",
       "      <th>suicides_no</th>\n",
       "      <th>population</th>\n",
       "      <th>suicides/100k pop</th>\n",
       "      <th>country-year</th>\n",
       "      <th>HDI for year</th>\n",
       "      <th>gdp_for_year ($)</th>\n",
       "      <th>gdp_per_capita ($)</th>\n",
       "      <th>generation</th>\n",
       "    </tr>\n",
       "  </thead>\n",
       "  <tbody>\n",
       "    <tr>\n",
       "      <th>132</th>\n",
       "      <td>Albania</td>\n",
       "      <td>2000</td>\n",
       "      <td>male</td>\n",
       "      <td>25-34 years</td>\n",
       "      <td>17</td>\n",
       "      <td>232000</td>\n",
       "      <td>7.33</td>\n",
       "      <td>Albania2000</td>\n",
       "      <td>0.656</td>\n",
       "      <td>3,632,043,908</td>\n",
       "      <td>1299</td>\n",
       "      <td>Generation X</td>\n",
       "    </tr>\n",
       "    <tr>\n",
       "      <th>133</th>\n",
       "      <td>Albania</td>\n",
       "      <td>2000</td>\n",
       "      <td>male</td>\n",
       "      <td>55-74 years</td>\n",
       "      <td>10</td>\n",
       "      <td>177400</td>\n",
       "      <td>5.64</td>\n",
       "      <td>Albania2000</td>\n",
       "      <td>0.656</td>\n",
       "      <td>3,632,043,908</td>\n",
       "      <td>1299</td>\n",
       "      <td>Silent</td>\n",
       "    </tr>\n",
       "    <tr>\n",
       "      <th>134</th>\n",
       "      <td>Albania</td>\n",
       "      <td>2000</td>\n",
       "      <td>female</td>\n",
       "      <td>75+ years</td>\n",
       "      <td>2</td>\n",
       "      <td>37800</td>\n",
       "      <td>5.29</td>\n",
       "      <td>Albania2000</td>\n",
       "      <td>0.656</td>\n",
       "      <td>3,632,043,908</td>\n",
       "      <td>1299</td>\n",
       "      <td>G.I. Generation</td>\n",
       "    </tr>\n",
       "    <tr>\n",
       "      <th>135</th>\n",
       "      <td>Albania</td>\n",
       "      <td>2000</td>\n",
       "      <td>male</td>\n",
       "      <td>75+ years</td>\n",
       "      <td>1</td>\n",
       "      <td>24900</td>\n",
       "      <td>4.02</td>\n",
       "      <td>Albania2000</td>\n",
       "      <td>0.656</td>\n",
       "      <td>3,632,043,908</td>\n",
       "      <td>1299</td>\n",
       "      <td>G.I. Generation</td>\n",
       "    </tr>\n",
       "    <tr>\n",
       "      <th>136</th>\n",
       "      <td>Albania</td>\n",
       "      <td>2000</td>\n",
       "      <td>female</td>\n",
       "      <td>15-24 years</td>\n",
       "      <td>6</td>\n",
       "      <td>263900</td>\n",
       "      <td>2.27</td>\n",
       "      <td>Albania2000</td>\n",
       "      <td>0.656</td>\n",
       "      <td>3,632,043,908</td>\n",
       "      <td>1299</td>\n",
       "      <td>Generation X</td>\n",
       "    </tr>\n",
       "    <tr>\n",
       "      <th>...</th>\n",
       "      <td>...</td>\n",
       "      <td>...</td>\n",
       "      <td>...</td>\n",
       "      <td>...</td>\n",
       "      <td>...</td>\n",
       "      <td>...</td>\n",
       "      <td>...</td>\n",
       "      <td>...</td>\n",
       "      <td>...</td>\n",
       "      <td>...</td>\n",
       "      <td>...</td>\n",
       "      <td>...</td>\n",
       "    </tr>\n",
       "    <tr>\n",
       "      <th>27815</th>\n",
       "      <td>Uzbekistan</td>\n",
       "      <td>2014</td>\n",
       "      <td>female</td>\n",
       "      <td>35-54 years</td>\n",
       "      <td>107</td>\n",
       "      <td>3620833</td>\n",
       "      <td>2.96</td>\n",
       "      <td>Uzbekistan2014</td>\n",
       "      <td>0.675</td>\n",
       "      <td>63,067,077,179</td>\n",
       "      <td>2309</td>\n",
       "      <td>Generation X</td>\n",
       "    </tr>\n",
       "    <tr>\n",
       "      <th>27816</th>\n",
       "      <td>Uzbekistan</td>\n",
       "      <td>2014</td>\n",
       "      <td>female</td>\n",
       "      <td>75+ years</td>\n",
       "      <td>9</td>\n",
       "      <td>348465</td>\n",
       "      <td>2.58</td>\n",
       "      <td>Uzbekistan2014</td>\n",
       "      <td>0.675</td>\n",
       "      <td>63,067,077,179</td>\n",
       "      <td>2309</td>\n",
       "      <td>Silent</td>\n",
       "    </tr>\n",
       "    <tr>\n",
       "      <th>27817</th>\n",
       "      <td>Uzbekistan</td>\n",
       "      <td>2014</td>\n",
       "      <td>male</td>\n",
       "      <td>5-14 years</td>\n",
       "      <td>60</td>\n",
       "      <td>2762158</td>\n",
       "      <td>2.17</td>\n",
       "      <td>Uzbekistan2014</td>\n",
       "      <td>0.675</td>\n",
       "      <td>63,067,077,179</td>\n",
       "      <td>2309</td>\n",
       "      <td>Generation Z</td>\n",
       "    </tr>\n",
       "    <tr>\n",
       "      <th>27818</th>\n",
       "      <td>Uzbekistan</td>\n",
       "      <td>2014</td>\n",
       "      <td>female</td>\n",
       "      <td>5-14 years</td>\n",
       "      <td>44</td>\n",
       "      <td>2631600</td>\n",
       "      <td>1.67</td>\n",
       "      <td>Uzbekistan2014</td>\n",
       "      <td>0.675</td>\n",
       "      <td>63,067,077,179</td>\n",
       "      <td>2309</td>\n",
       "      <td>Generation Z</td>\n",
       "    </tr>\n",
       "    <tr>\n",
       "      <th>27819</th>\n",
       "      <td>Uzbekistan</td>\n",
       "      <td>2014</td>\n",
       "      <td>female</td>\n",
       "      <td>55-74 years</td>\n",
       "      <td>21</td>\n",
       "      <td>1438935</td>\n",
       "      <td>1.46</td>\n",
       "      <td>Uzbekistan2014</td>\n",
       "      <td>0.675</td>\n",
       "      <td>63,067,077,179</td>\n",
       "      <td>2309</td>\n",
       "      <td>Boomers</td>\n",
       "    </tr>\n",
       "  </tbody>\n",
       "</table>\n",
       "<p>1968 rows × 12 columns</p>\n",
       "</div>"
      ],
      "text/plain": [
       "          country  year     sex          age  suicides_no  population  \\\n",
       "132       Albania  2000    male  25-34 years           17      232000   \n",
       "133       Albania  2000    male  55-74 years           10      177400   \n",
       "134       Albania  2000  female    75+ years            2       37800   \n",
       "135       Albania  2000    male    75+ years            1       24900   \n",
       "136       Albania  2000  female  15-24 years            6      263900   \n",
       "...           ...   ...     ...          ...          ...         ...   \n",
       "27815  Uzbekistan  2014  female  35-54 years          107     3620833   \n",
       "27816  Uzbekistan  2014  female    75+ years            9      348465   \n",
       "27817  Uzbekistan  2014    male   5-14 years           60     2762158   \n",
       "27818  Uzbekistan  2014  female   5-14 years           44     2631600   \n",
       "27819  Uzbekistan  2014  female  55-74 years           21     1438935   \n",
       "\n",
       "       suicides/100k pop    country-year  HDI for year  gdp_for_year ($)   \\\n",
       "132                 7.33     Albania2000         0.656      3,632,043,908   \n",
       "133                 5.64     Albania2000         0.656      3,632,043,908   \n",
       "134                 5.29     Albania2000         0.656      3,632,043,908   \n",
       "135                 4.02     Albania2000         0.656      3,632,043,908   \n",
       "136                 2.27     Albania2000         0.656      3,632,043,908   \n",
       "...                  ...             ...           ...                ...   \n",
       "27815               2.96  Uzbekistan2014         0.675     63,067,077,179   \n",
       "27816               2.58  Uzbekistan2014         0.675     63,067,077,179   \n",
       "27817               2.17  Uzbekistan2014         0.675     63,067,077,179   \n",
       "27818               1.67  Uzbekistan2014         0.675     63,067,077,179   \n",
       "27819               1.46  Uzbekistan2014         0.675     63,067,077,179   \n",
       "\n",
       "       gdp_per_capita ($)       generation  \n",
       "132                  1299     Generation X  \n",
       "133                  1299           Silent  \n",
       "134                  1299  G.I. Generation  \n",
       "135                  1299  G.I. Generation  \n",
       "136                  1299     Generation X  \n",
       "...                   ...              ...  \n",
       "27815                2309     Generation X  \n",
       "27816                2309           Silent  \n",
       "27817                2309     Generation Z  \n",
       "27818                2309     Generation Z  \n",
       "27819                2309          Boomers  \n",
       "\n",
       "[1968 rows x 12 columns]"
      ]
     },
     "execution_count": 173,
     "metadata": {},
     "output_type": "execute_result"
    }
   ],
   "source": [
    "t = df3[df3.year.isin([2000,2014])]\n",
    "t"
   ]
  },
  {
   "cell_type": "code",
   "execution_count": 174,
   "metadata": {},
   "outputs": [
    {
     "data": {
      "text/plain": [
       "2000    1032\n",
       "2014     936\n",
       "Name: year, dtype: int64"
      ]
     },
     "execution_count": 174,
     "metadata": {},
     "output_type": "execute_result"
    }
   ],
   "source": [
    "t.year.value_counts()"
   ]
  },
  {
   "cell_type": "code",
   "execution_count": 181,
   "metadata": {},
   "outputs": [
    {
     "data": {
      "text/html": [
       "<div>\n",
       "<style scoped>\n",
       "    .dataframe tbody tr th:only-of-type {\n",
       "        vertical-align: middle;\n",
       "    }\n",
       "\n",
       "    .dataframe tbody tr th {\n",
       "        vertical-align: top;\n",
       "    }\n",
       "\n",
       "    .dataframe thead th {\n",
       "        text-align: right;\n",
       "    }\n",
       "</style>\n",
       "<table border=\"1\" class=\"dataframe\">\n",
       "  <thead>\n",
       "    <tr style=\"text-align: right;\">\n",
       "      <th></th>\n",
       "      <th>country</th>\n",
       "      <th>year</th>\n",
       "      <th>sex</th>\n",
       "    </tr>\n",
       "  </thead>\n",
       "  <tbody>\n",
       "    <tr>\n",
       "      <th>1426</th>\n",
       "      <td>Australia</td>\n",
       "      <td>1985</td>\n",
       "      <td>male</td>\n",
       "    </tr>\n",
       "    <tr>\n",
       "      <th>1427</th>\n",
       "      <td>Australia</td>\n",
       "      <td>1985</td>\n",
       "      <td>male</td>\n",
       "    </tr>\n",
       "    <tr>\n",
       "      <th>1428</th>\n",
       "      <td>Australia</td>\n",
       "      <td>1985</td>\n",
       "      <td>male</td>\n",
       "    </tr>\n",
       "    <tr>\n",
       "      <th>1429</th>\n",
       "      <td>Australia</td>\n",
       "      <td>1985</td>\n",
       "      <td>male</td>\n",
       "    </tr>\n",
       "    <tr>\n",
       "      <th>1430</th>\n",
       "      <td>Australia</td>\n",
       "      <td>1985</td>\n",
       "      <td>male</td>\n",
       "    </tr>\n",
       "    <tr>\n",
       "      <th>...</th>\n",
       "      <td>...</td>\n",
       "      <td>...</td>\n",
       "      <td>...</td>\n",
       "    </tr>\n",
       "    <tr>\n",
       "      <th>1781</th>\n",
       "      <td>Australia</td>\n",
       "      <td>2015</td>\n",
       "      <td>female</td>\n",
       "    </tr>\n",
       "    <tr>\n",
       "      <th>1782</th>\n",
       "      <td>Australia</td>\n",
       "      <td>2015</td>\n",
       "      <td>female</td>\n",
       "    </tr>\n",
       "    <tr>\n",
       "      <th>1783</th>\n",
       "      <td>Australia</td>\n",
       "      <td>2015</td>\n",
       "      <td>female</td>\n",
       "    </tr>\n",
       "    <tr>\n",
       "      <th>1784</th>\n",
       "      <td>Australia</td>\n",
       "      <td>2015</td>\n",
       "      <td>female</td>\n",
       "    </tr>\n",
       "    <tr>\n",
       "      <th>1785</th>\n",
       "      <td>Australia</td>\n",
       "      <td>2015</td>\n",
       "      <td>male</td>\n",
       "    </tr>\n",
       "  </tbody>\n",
       "</table>\n",
       "<p>336 rows × 3 columns</p>\n",
       "</div>"
      ],
      "text/plain": [
       "        country  year     sex\n",
       "1426  Australia  1985    male\n",
       "1427  Australia  1985    male\n",
       "1428  Australia  1985    male\n",
       "1429  Australia  1985    male\n",
       "1430  Australia  1985    male\n",
       "...         ...   ...     ...\n",
       "1781  Australia  2015  female\n",
       "1782  Australia  2015  female\n",
       "1783  Australia  2015  female\n",
       "1784  Australia  2015  female\n",
       "1785  Australia  2015    male\n",
       "\n",
       "[336 rows x 3 columns]"
      ]
     },
     "execution_count": 181,
     "metadata": {},
     "output_type": "execute_result"
    }
   ],
   "source": [
    "# in this view except 2000 and 2014 year\n",
    "\n",
    "mask = df3.year.isin([2000,2014])\n",
    "\n",
    "f = df3.loc[(df3.country=='Australia') & ~(mask) ,['country','year','sex']]\n",
    "f"
   ]
  },
  {
   "cell_type": "code",
   "execution_count": 183,
   "metadata": {},
   "outputs": [
    {
     "data": {
      "text/plain": [
       "array([1985, 1986, 1987, 1988, 1989, 1990, 1991, 1992, 1993, 1994, 1995,\n",
       "       1996, 1997, 1998, 1999, 2001, 2002, 2003, 2004, 2006, 2007, 2008,\n",
       "       2009, 2010, 2011, 2012, 2013, 2015])"
      ]
     },
     "execution_count": 183,
     "metadata": {},
     "output_type": "execute_result"
    }
   ],
   "source": [
    "f.year.unique()"
   ]
  },
  {
   "cell_type": "markdown",
   "metadata": {},
   "source": [
    "* In this 2000 and 2014 not include"
   ]
  },
  {
   "cell_type": "code",
   "execution_count": null,
   "metadata": {},
   "outputs": [],
   "source": []
  }
 ],
 "metadata": {
  "kernelspec": {
   "display_name": "Python 3",
   "language": "python",
   "name": "python3"
  },
  "language_info": {
   "codemirror_mode": {
    "name": "ipython",
    "version": 3
   },
   "file_extension": ".py",
   "mimetype": "text/x-python",
   "name": "python",
   "nbconvert_exporter": "python",
   "pygments_lexer": "ipython3",
   "version": "3.6.10"
  }
 },
 "nbformat": 4,
 "nbformat_minor": 4
}
