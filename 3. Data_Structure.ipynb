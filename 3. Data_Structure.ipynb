{
 "cells": [
  {
   "cell_type": "markdown",
   "metadata": {},
   "source": [
    "# Lists"
   ]
  },
  {
   "cell_type": "markdown",
   "metadata": {},
   "source": [
    "Data Structure:\n",
    "\n",
    "A data structure is a collection of data elements (such as numbers or characters—or even other data structures) that is structured in some way, for example, by numbering the elements. The most basic data structure in Python is the \"sequence\".\n",
    "\n",
    "-> List is one of the Sequence Data structure\n",
    "\n",
    "-> Lists are collection of items (Strings, integers or even other lists)\n",
    "\n",
    "-> Lists are enclosed in [ ]\n",
    "\n",
    "-> Each item in the list has an assigned index value.\n",
    "\n",
    "-> Each item in a list is separated by a comma\n",
    "\n",
    "-> Lists are mutable, which means they can be changed."
   ]
  },
  {
   "cell_type": "markdown",
   "metadata": {},
   "source": [
    "## List Creation "
   ]
  },
  {
   "cell_type": "code",
   "execution_count": 3,
   "metadata": {},
   "outputs": [
    {
     "name": "stdout",
     "output_type": "stream",
     "text": [
      "list of list :  [[1, 2], [5, 6]]\n",
      "[1, 2.4, 'ashish', 24]\n"
     ]
    }
   ],
   "source": [
    "empty_list = []          # creation of empty list\n",
    "\n",
    "lst1 = [\"one\",\"Two\",\"Three\"]   # list of strings\n",
    "\n",
    "lst2 = [1,2,3,4]                 # list of strings\n",
    "\n",
    "lst3 = [[1,2] , [5,6]]             # list of list \n",
    "\n",
    "lst4 = [1, 2.4, \"ashish\", 24]       # list of different datatype\n",
    "\n",
    "print(\"list of list : \", lst3)\n",
    "print(lst4)"
   ]
  },
  {
   "cell_type": "markdown",
   "metadata": {},
   "source": [
    "## List Length"
   ]
  },
  {
   "cell_type": "code",
   "execution_count": 5,
   "metadata": {},
   "outputs": [
    {
     "name": "stdout",
     "output_type": "stream",
     "text": [
      "4\n"
     ]
    }
   ],
   "source": [
    "lst = [\"one\",\"two\",\"three\",\"four\"]\n",
    "\n",
    "print(len(lst))           # len() function is used to print the len of list"
   ]
  },
  {
   "cell_type": "markdown",
   "metadata": {},
   "source": [
    "## List Append"
   ]
  },
  {
   "cell_type": "raw",
   "metadata": {},
   "source": [
    "Syntax - lst.append()"
   ]
  },
  {
   "cell_type": "code",
   "execution_count": 11,
   "metadata": {},
   "outputs": [
    {
     "name": "stdout",
     "output_type": "stream",
     "text": [
      "['one', 'two', 'three', 'four', '7']\n"
     ]
    }
   ],
   "source": [
    "lst = [\"one\",\"two\",\"three\",\"four\"]\n",
    "\n",
    "lst.append(\"7\")    #append will add the iteam in the end\n",
    "print(lst)\n",
    "\n",
    "# here 7 is string"
   ]
  },
  {
   "cell_type": "markdown",
   "metadata": {},
   "source": [
    "## List Insert"
   ]
  },
  {
   "cell_type": "raw",
   "metadata": {},
   "source": [
    "Syntax :  lst.insert(x,y)\n",
    "x -> is the position\n",
    "y -> is the element to insert"
   ]
  },
  {
   "cell_type": "code",
   "execution_count": 15,
   "metadata": {},
   "outputs": [
    {
     "name": "stdout",
     "output_type": "stream",
     "text": [
      "['one', 'two', 'Three', 'four']\n"
     ]
    }
   ],
   "source": [
    "lst = [\"one\",\"two\",\"four\"]\n",
    "\n",
    "lst.insert(2, \"Three\")       # will add the element y at location of x\n",
    "print(lst)"
   ]
  },
  {
   "cell_type": "markdown",
   "metadata": {},
   "source": [
    "## List Remove"
   ]
  },
  {
   "cell_type": "raw",
   "metadata": {},
   "source": [
    "syntax --> lst.remove(x)\n",
    "in case \"remove\" is used to remove the 1st occurance of \"x\" in list "
   ]
  },
  {
   "cell_type": "code",
   "execution_count": 17,
   "metadata": {},
   "outputs": [
    {
     "name": "stdout",
     "output_type": "stream",
     "text": [
      "['one', 'three', 'four', 'two']\n"
     ]
    }
   ],
   "source": [
    "lst = [\"one\",\"two\",\"three\",\"four\",\"two\"]\n",
    "lst.remove(\"two\")                         \n",
    "print(lst)"
   ]
  },
  {
   "cell_type": "markdown",
   "metadata": {},
   "source": [
    "## List Append & Extend"
   ]
  },
  {
   "cell_type": "raw",
   "metadata": {},
   "source": [
    "Append -> in case append form the   \"list of list\" [...[..]] \n",
    "Extend -> in case extend form the \"single whole list \""
   ]
  },
  {
   "cell_type": "code",
   "execution_count": 18,
   "metadata": {},
   "outputs": [
    {
     "name": "stdout",
     "output_type": "stream",
     "text": [
      "['one', 'Two', 'Three', [1, 2, 3]]\n"
     ]
    }
   ],
   "source": [
    "lst1 = [\"one\", \"Two\", \"Three\"]\n",
    "lst2= [1,2,3]\n",
    "# append\n",
    "\n",
    "lst1.append(lst2)\n",
    "print(lst1)"
   ]
  },
  {
   "cell_type": "code",
   "execution_count": 19,
   "metadata": {},
   "outputs": [
    {
     "name": "stdout",
     "output_type": "stream",
     "text": [
      "['one', 'Two', 'Three', 1, 2, 3]\n"
     ]
    }
   ],
   "source": [
    "lst1 = [\"one\", \"Two\", \"Three\"]\n",
    "lst2= [1,2,3]\n",
    "\n",
    "# extend\n",
    "\n",
    "lst1.extend(lst2)\n",
    "print(lst1)\n"
   ]
  },
  {
   "cell_type": "markdown",
   "metadata": {},
   "source": [
    "## List Delete"
   ]
  },
  {
   "cell_type": "raw",
   "metadata": {},
   "source": [
    " \"del & pop \"  -> both remove the item using the index position\n",
    " \"remove\"  -> in case no index value only the element name inside the list"
   ]
  },
  {
   "cell_type": "code",
   "execution_count": 31,
   "metadata": {},
   "outputs": [
    {
     "name": "stdout",
     "output_type": "stream",
     "text": [
      "['one', 'Three', 'four']\n"
     ]
    }
   ],
   "source": [
    "lst1 = [\"one\", \"Two\", \"Three\", \"four\"]\n",
    "\n",
    "del lst1[1]\n",
    "print(lst1)\n"
   ]
  },
  {
   "cell_type": "code",
   "execution_count": 32,
   "metadata": {},
   "outputs": [
    {
     "name": "stdout",
     "output_type": "stream",
     "text": [
      "Three\n",
      "['one', 'four']\n"
     ]
    }
   ],
   "source": [
    "# or we can use the \"pop () \"\" method\n",
    "\n",
    "a = lst1.pop(1)               # a is the pop element to remove\n",
    "print(a)\n",
    "\n",
    "print(lst1)"
   ]
  },
  {
   "cell_type": "code",
   "execution_count": 33,
   "metadata": {},
   "outputs": [
    {
     "name": "stdout",
     "output_type": "stream",
     "text": [
      "['one', 'Two', 'five', 'six']\n"
     ]
    }
   ],
   "source": [
    "lst1 = [\"one\", \"Two\", \"Three\",\"five\",\"six\"]\n",
    "\n",
    "# remove an item from the list\n",
    "lst1.remove(\"Three\")\n",
    "print(lst1)\n",
    "\n"
   ]
  },
  {
   "cell_type": "markdown",
   "metadata": {},
   "source": [
    "##  List related Keywords in Python"
   ]
  },
  {
   "cell_type": "raw",
   "metadata": {},
   "source": [
    "\"in\" --> used to test item in list"
   ]
  },
  {
   "cell_type": "code",
   "execution_count": 34,
   "metadata": {},
   "outputs": [
    {
     "name": "stdout",
     "output_type": "stream",
     "text": [
      "hello ashish\n",
      "jello apni zindagi\n"
     ]
    }
   ],
   "source": [
    "lst1 = [\"one\", \"Two\", \"Three\"]\n",
    "\n",
    "if \"Two\" in lst1:\n",
    "    print(\"hello ashish\")\n",
    "    \n",
    "# \"not in \"\n",
    "\n",
    "if \"four\" not in lst1:\n",
    "    print(\"jello apni zindagi\")"
   ]
  },
  {
   "cell_type": "markdown",
   "metadata": {},
   "source": [
    "## List Reverse"
   ]
  },
  {
   "cell_type": "code",
   "execution_count": 35,
   "metadata": {},
   "outputs": [
    {
     "name": "stdout",
     "output_type": "stream",
     "text": [
      "['Three', 'Two', 'one']\n"
     ]
    }
   ],
   "source": [
    "lst1 = [\"one\", \"Two\", \"Three\"]\n",
    "\n",
    "lst1.reverse()\n",
    "print(lst1)"
   ]
  },
  {
   "cell_type": "markdown",
   "metadata": {},
   "source": [
    "## List Sorting"
   ]
  },
  {
   "cell_type": "markdown",
   "metadata": {},
   "source": [
    "Sorted(list)\n",
    "\n",
    "The easiest way to sort a List is with the sorted(list) function.\n",
    "\n",
    "That takes a list and returns a new list with those elements in sorted order.\n",
    "\n",
    "**The original list is not changed.**\n",
    "\n",
    "The sorted() optional argument reverse=True, e.g. sorted(list, reverse=True), makes it sort backwards."
   ]
  },
  {
   "cell_type": "raw",
   "metadata": {},
   "source": [
    "original list is not changed\n",
    "and \n",
    "sorted(list, reverse= True) # backward sort\n",
    "\n",
    "\n",
    "*  lst.sort() ----> in case change is store in itself\n",
    "*  sorted(lst) ----> in case change is store by creating a new element"
   ]
  },
  {
   "cell_type": "code",
   "execution_count": 37,
   "metadata": {},
   "outputs": [
    {
     "name": "stdout",
     "output_type": "stream",
     "text": [
      "sorted list :  [1, 2, 3, 5, 6, 7, 8]\n",
      "Original list : [3, 2, 5, 6, 7, 8, 1]\n"
     ]
    }
   ],
   "source": [
    "# creating the list with no.\n",
    "\n",
    "numbers= [3,2,5,6,7,8,1]\n",
    "\n",
    "# print(sorted(numbers))\n",
    "\n",
    "sorted_lst = sorted(numbers)\n",
    "print(\"sorted list : \", sorted_lst)\n",
    "\n",
    "# original list remain unchange\n",
    "print(\"Original list :\",numbers)"
   ]
  },
  {
   "cell_type": "code",
   "execution_count": 39,
   "metadata": {},
   "outputs": [
    {
     "name": "stdout",
     "output_type": "stream",
     "text": [
      "Reverse the sorted list:  [8, 7, 6, 5, 3, 2, 1]\n",
      "Original list :  [3, 2, 5, 6, 7, 8, 1]\n"
     ]
    }
   ],
   "source": [
    "# Print list in reverse sorted order\n",
    "\n",
    "print(\"Reverse the sorted list: \", sorted(numbers, reverse=True))\n",
    "\n",
    "# original list\n",
    "print(\"Original list : \",numbers)"
   ]
  },
  {
   "cell_type": "raw",
   "metadata": {},
   "source": [
    "Sort the list and stored in itself ----> \" lst.sort() \"   "
   ]
  },
  {
   "cell_type": "code",
   "execution_count": 42,
   "metadata": {},
   "outputs": [
    {
     "name": "stdout",
     "output_type": "stream",
     "text": [
      "Sorted list :  [1, 1.4, 1.5, 13, 20]\n"
     ]
    }
   ],
   "source": [
    "lst = [1,20,1.5,13,1.4]\n",
    "\n",
    "lst.sort()\n",
    "\n",
    "print(\"Sorted list : \",lst)"
   ]
  },
  {
   "cell_type": "code",
   "execution_count": 43,
   "metadata": {},
   "outputs": [
    {
     "ename": "TypeError",
     "evalue": "'<' not supported between instances of 'str' and 'float'",
     "output_type": "error",
     "traceback": [
      "\u001b[1;31m---------------------------------------------------------------------------\u001b[0m",
      "\u001b[1;31mTypeError\u001b[0m                                 Traceback (most recent call last)",
      "\u001b[1;32m<ipython-input-43-28cd53c154ff>\u001b[0m in \u001b[0;36m<module>\u001b[1;34m\u001b[0m\n\u001b[0;32m      1\u001b[0m \u001b[0mlst\u001b[0m \u001b[1;33m=\u001b[0m \u001b[1;33m[\u001b[0m\u001b[1;36m1\u001b[0m\u001b[1;33m,\u001b[0m\u001b[1;36m20\u001b[0m\u001b[1;33m,\u001b[0m\u001b[1;36m1.5\u001b[0m\u001b[1;33m,\u001b[0m\u001b[1;34m\"a\"\u001b[0m\u001b[1;33m,\u001b[0m\u001b[1;36m13\u001b[0m\u001b[1;33m,\u001b[0m\u001b[1;36m1.4\u001b[0m\u001b[1;33m,\u001b[0m\u001b[1;34m\"b\"\u001b[0m\u001b[1;33m]\u001b[0m\u001b[1;33m\u001b[0m\u001b[1;33m\u001b[0m\u001b[0m\n\u001b[0;32m      2\u001b[0m \u001b[1;33m\u001b[0m\u001b[0m\n\u001b[1;32m----> 3\u001b[1;33m \u001b[0mprint\u001b[0m\u001b[1;33m(\u001b[0m\u001b[0mlst\u001b[0m\u001b[1;33m.\u001b[0m\u001b[0msort\u001b[0m\u001b[1;33m(\u001b[0m\u001b[1;33m)\u001b[0m\u001b[1;33m)\u001b[0m\u001b[1;33m\u001b[0m\u001b[1;33m\u001b[0m\u001b[0m\n\u001b[0m",
      "\u001b[1;31mTypeError\u001b[0m: '<' not supported between instances of 'str' and 'float'"
     ]
    }
   ],
   "source": [
    "lst = [1,20,1.5,\"a\",13,1.4,\"b\"]\n",
    "\n",
    "print(lst.sort())          # sort element contain str element\n"
   ]
  },
  {
   "cell_type": "markdown",
   "metadata": {},
   "source": [
    "## List Having Multiple References"
   ]
  },
  {
   "cell_type": "code",
   "execution_count": 1,
   "metadata": {},
   "outputs": [
    {
     "name": "stdout",
     "output_type": "stream",
     "text": [
      "Original List :  [1, 2, 3, 4, 5, 6]\n",
      "referal list : [1, 2, 3, 4, 5, 6]\n"
     ]
    }
   ],
   "source": [
    "lst = [1,2,3,4,5]\n",
    "abc = lst\n",
    "abc.append(6)\n",
    "\n",
    "# print the original list\n",
    "print(\"Original List : \",lst)\n",
    "print(\"referal list :\",abc)"
   ]
  },
  {
   "cell_type": "raw",
   "metadata": {},
   "source": [
    "In case of reference if any of change it impact the original one .\n",
    "\n",
    "in case :-  lst and abc share the same memory location "
   ]
  },
  {
   "cell_type": "markdown",
   "metadata": {},
   "source": [
    "## String Split to create a list"
   ]
  },
  {
   "cell_type": "code",
   "execution_count": 23,
   "metadata": {},
   "outputs": [
    {
     "name": "stdout",
     "output_type": "stream",
     "text": [
      "['hello', 'my', 'name', 'is', 'ashish']\n"
     ]
    }
   ],
   "source": [
    "# let's take a string\n",
    "# split create the list in output\n",
    "\n",
    "a=\"hello my name is ashish\"\n",
    "stsp=a.split()              # in case split use default whitspace to split  --> split()     \n",
    "print(stsp)"
   ]
  },
  {
   "cell_type": "code",
   "execution_count": 24,
   "metadata": {},
   "outputs": [
    {
     "name": "stdout",
     "output_type": "stream",
     "text": [
      "['ashish', 'nanu', 'yuvi', 'dev', 'kunsa']\n"
     ]
    }
   ],
   "source": [
    "a = \"ashish,nanu,yuvi,dev,kunsa\"\n",
    "stsp=a.split(',')                      # in case split(',') it give arg that split b/w comma\n",
    "print(stsp)"
   ]
  },
  {
   "cell_type": "code",
   "execution_count": 27,
   "metadata": {},
   "outputs": [
    {
     "name": "stdout",
     "output_type": "stream",
     "text": [
      "['hello', 'ashish', 'nanu', 'dev', 'yuvi']\n"
     ]
    }
   ],
   "source": [
    "s = \"hello-ashish-nanu-dev-yuvi\"\n",
    "\n",
    "# in case split the string by passing the arg in b/w ---> -\n",
    "split_lst = s.split('-')\n",
    "print(split_lst)"
   ]
  },
  {
   "cell_type": "markdown",
   "metadata": {},
   "source": [
    "## List Indexing"
   ]
  },
  {
   "cell_type": "markdown",
   "metadata": {},
   "source": [
    "Each item in the list has an assigned index value starting from 0.\n",
    "\n",
    "Accessing elements in a list is called indexing."
   ]
  },
  {
   "cell_type": "code",
   "execution_count": 29,
   "metadata": {},
   "outputs": [
    {
     "name": "stdout",
     "output_type": "stream",
     "text": [
      "9\n",
      "7\n"
     ]
    }
   ],
   "source": [
    "lst = [2,5,9,7,4]\n",
    "print(lst[2])         # print the third element in list with index value 2\n",
    "\n",
    "print(lst[-2])         # print the last second element \n"
   ]
  },
  {
   "cell_type": "markdown",
   "metadata": {},
   "source": [
    "## List Slicing"
   ]
  },
  {
   "cell_type": "markdown",
   "metadata": {},
   "source": [
    "Accessing parts of segments is called slicing.\n",
    "\n",
    "The key point to remember is that the :end value represents the first value that is not in the selected slice."
   ]
  },
  {
   "cell_type": "code",
   "execution_count": 30,
   "metadata": {},
   "outputs": [
    {
     "name": "stdout",
     "output_type": "stream",
     "text": [
      "[10, 20, 30, 40, 50, 60, 70, 80, 90]\n",
      "[10, 20, 30, 40, 50]\n"
     ]
    }
   ],
   "source": [
    "numbers = [10,20,30,40,50,60,70,80,90]\n",
    "\n",
    "# print all the number\n",
    "print(numbers[:])\n",
    "\n",
    "# print from index 0 to 4\n",
    "print(numbers[0:5])"
   ]
  },
  {
   "cell_type": "code",
   "execution_count": 33,
   "metadata": {},
   "outputs": [
    {
     "name": "stdout",
     "output_type": "stream",
     "text": [
      "[10, 30, 50, 70, 90]\n",
      "[20, 40, 60, 80]\n"
     ]
    }
   ],
   "source": [
    "# print the alternate element in list\n",
    "print(numbers[::2])\n",
    "\n",
    "# print element start from 2 element and alternate through rest of the list\n",
    "print(numbers[1::2])"
   ]
  },
  {
   "cell_type": "markdown",
   "metadata": {},
   "source": [
    "##  List extend using \"+\""
   ]
  },
  {
   "cell_type": "raw",
   "metadata": {},
   "source": [
    "In case \"+\" used for --> add 2 or more than 2 list and make single list"
   ]
  },
  {
   "cell_type": "code",
   "execution_count": 2,
   "metadata": {},
   "outputs": [
    {
     "name": "stdout",
     "output_type": "stream",
     "text": [
      "[1, 2, 3, 4, 5, 'ashish', 'nanu', 'yuvi', 'dev', 'kunsa']\n",
      "[1, 2, 3, 4, 5]\n"
     ]
    }
   ],
   "source": [
    "lst1=[1,2,3,4,5]\n",
    "lst2=[\"ashish\",\"nanu\",\"yuvi\",\"dev\",\"kunsa\"]\n",
    "new_lst= lst1+lst2\n",
    "print(new_lst)\n",
    "print(lst1)"
   ]
  },
  {
   "cell_type": "markdown",
   "metadata": {},
   "source": [
    "## List Count"
   ]
  },
  {
   "cell_type": "raw",
   "metadata": {},
   "source": [
    "How many time the element occurs in the list"
   ]
  },
  {
   "cell_type": "code",
   "execution_count": 37,
   "metadata": {},
   "outputs": [
    {
     "name": "stdout",
     "output_type": "stream",
     "text": [
      "3\n",
      "2\n"
     ]
    }
   ],
   "source": [
    "numbers = [1,2,3,4,2,1,3,5,2,4,3,1,5]\n",
    "\n",
    "# frequency of 2 in a list\n",
    "print(numbers.count(2))\n",
    "\n",
    "# frequency of 5 in a list\n",
    "print(numbers.count(5))"
   ]
  },
  {
   "cell_type": "markdown",
   "metadata": {},
   "source": [
    "##  List Looping"
   ]
  },
  {
   "cell_type": "code",
   "execution_count": 40,
   "metadata": {},
   "outputs": [
    {
     "name": "stdout",
     "output_type": "stream",
     "text": [
      "['ashish', 'nanu', 'yuvi', 'dev', 'kunsa']\n",
      "ashish\n",
      "nanu\n",
      "yuvi\n",
      "dev\n",
      "kunsa\n"
     ]
    }
   ],
   "source": [
    "# in case convert the string into list and then loop through a list\n",
    "\n",
    "\n",
    "a = \"ashish,nanu,yuvi,dev,kunsa\"\n",
    "lst= a.split(\",\")\n",
    "print(lst)\n",
    "\n",
    "for ele in lst:\n",
    "    print(ele)"
   ]
  },
  {
   "cell_type": "markdown",
   "metadata": {},
   "source": [
    "## List Comprehensions"
   ]
  },
  {
   "cell_type": "markdown",
   "metadata": {},
   "source": [
    "List comprehensions provide a concise way to create lists.\n",
    "\n",
    "Common applications are to make new lists where each element is the result of some operations applied to each member of another sequence or iterable, or to create a subsequence of those elements that satisfy a certain condition."
   ]
  },
  {
   "cell_type": "code",
   "execution_count": 7,
   "metadata": {},
   "outputs": [
    {
     "name": "stdout",
     "output_type": "stream",
     "text": [
      "[0, 1, 4, 9, 16, 25, 36, 49, 64, 81]\n"
     ]
    }
   ],
   "source": [
    "# without the list comprehension\n",
    "squares = []\n",
    "for i in range(10):\n",
    "    squares.append(i**2)\n",
    "print(squares)"
   ]
  },
  {
   "cell_type": "code",
   "execution_count": 43,
   "metadata": {},
   "outputs": [
    {
     "name": "stdout",
     "output_type": "stream",
     "text": [
      "[0, 1, 4, 9, 16, 25, 36, 49, 64, 81]\n"
     ]
    }
   ],
   "source": [
    "# Using the List Comprehension\n",
    "\n",
    "squares = [i**2 for i in range(10)]\n",
    "print(squares)"
   ]
  },
  {
   "cell_type": "code",
   "execution_count": 47,
   "metadata": {},
   "outputs": [
    {
     "name": "stdout",
     "output_type": "stream",
     "text": [
      "[-2, -40, 20, 40, 100]\n",
      "[10, 20, 50]\n",
      "[(0, 0), (1, 1), (2, 4), (3, 9), (4, 16), (5, 25), (6, 36), (7, 49), (8, 64), (9, 81)]\n"
     ]
    }
   ],
   "source": [
    "# example\n",
    "\n",
    "lst = [-1,-20,10,20,50]\n",
    "\n",
    "# create the new list with value double\n",
    "double = [i*2 for i in lst]\n",
    "print(double)\n",
    "\n",
    "#filter th list to exclude negative numbers\n",
    "\n",
    "positive_lst = [i for i in lst if i>0]\n",
    "print(positive_lst)\n",
    "\n",
    "# create a list of tuple like (number , square_of_number)\n",
    "\n",
    "lst_tuple = [(i, i**2) for i in range(10)]\n",
    "print(lst_tuple)"
   ]
  },
  {
   "cell_type": "markdown",
   "metadata": {},
   "source": [
    "## Nested list Cpmprehensions"
   ]
  },
  {
   "cell_type": "code",
   "execution_count": 50,
   "metadata": {},
   "outputs": [
    {
     "name": "stdout",
     "output_type": "stream",
     "text": [
      "[[1, 5, 9], [2, 6, 10], [3, 7, 11], [4, 8, 12]]\n"
     ]
    }
   ],
   "source": [
    "# let's suppose we have matrix\n",
    "\n",
    "matrix = [\n",
    "    [1, 2, 3, 4],\n",
    "    [5, 6, 7, 8],\n",
    "    [9, 10, 11, 12]\n",
    "]\n",
    "\n",
    "#transpose of a matrix without list comprehension\n",
    "\n",
    "transpose = []\n",
    "for i in range(4):\n",
    "    lst=[]\n",
    "    for row in matrix:\n",
    "        lst.append(row[i])\n",
    "    transpose.append(lst)\n",
    "\n",
    "print(transpose)"
   ]
  },
  {
   "cell_type": "code",
   "execution_count": 52,
   "metadata": {},
   "outputs": [
    {
     "name": "stdout",
     "output_type": "stream",
     "text": [
      "[[1, 5, 9], [2, 6, 10], [3, 7, 11], [4, 8, 12]]\n"
     ]
    }
   ],
   "source": [
    "# with list Comprehension\n",
    "\n",
    "transpose = [[row[i] for row in matrix] for i in range(4)]\n",
    "print(transpose)"
   ]
  },
  {
   "cell_type": "code",
   "execution_count": null,
   "metadata": {},
   "outputs": [],
   "source": []
  },
  {
   "cell_type": "markdown",
   "metadata": {},
   "source": [
    "# Tuple"
   ]
  },
  {
   "cell_type": "markdown",
   "metadata": {},
   "source": [
    "-> A tuple is similar to list\n",
    "\n",
    "-> The diffence between the two is that we can't change the elements of tuple once it is assigned whereas in the list, elements can be changed"
   ]
  },
  {
   "cell_type": "markdown",
   "metadata": {},
   "source": [
    "## Tuple Creation"
   ]
  },
  {
   "cell_type": "code",
   "execution_count": 1,
   "metadata": {},
   "outputs": [
    {
     "name": "stdout",
     "output_type": "stream",
     "text": [
      "(1, 2, 3)\n",
      "(1, 'ashish', 4.5)\n",
      "(1, ('nanu', 'yuvi', 'dev'), 2, 3, [1, 'ashish', 'kunsa'])\n"
     ]
    }
   ],
   "source": [
    "# empty tuple\n",
    "t=()\n",
    "\n",
    "#tuple having integer\n",
    "t = (1,2,3)\n",
    "print(t)\n",
    "\n",
    "#tuple with mixed datatypes\n",
    "t= (1,\"ashish\",4.5)\n",
    "print(t)\n",
    "\n",
    "# nested tuple\n",
    "t = (1,(\"nanu\",\"yuvi\",\"dev\"),2,3,[1,\"ashish\",\"kunsa\"])\n",
    "print(t)"
   ]
  },
  {
   "cell_type": "raw",
   "metadata": {},
   "source": [
    "In case when the \"single element\" in tuple ---> only parenthesis is not enough \n",
    "\n",
    "\"Comma\" at the end also require"
   ]
  },
  {
   "cell_type": "code",
   "execution_count": 3,
   "metadata": {},
   "outputs": [
    {
     "name": "stdout",
     "output_type": "stream",
     "text": [
      "<class 'str'>\n"
     ]
    }
   ],
   "source": [
    "# only parenthesis for single element\n",
    "s = (\"ashish\")\n",
    "print(type(s))       # in case it show the class of \"str\""
   ]
  },
  {
   "cell_type": "code",
   "execution_count": 4,
   "metadata": {},
   "outputs": [
    {
     "name": "stdout",
     "output_type": "stream",
     "text": [
      "<class 'tuple'>\n"
     ]
    }
   ],
   "source": [
    "# Comma at end\n",
    "s= (\"ashish\",)\n",
    "print(type(s))         # in case it show the class of \"tuple\""
   ]
  },
  {
   "cell_type": "code",
   "execution_count": 6,
   "metadata": {},
   "outputs": [
    {
     "name": "stdout",
     "output_type": "stream",
     "text": [
      "<class 'tuple'>\n",
      "('ashish',)\n"
     ]
    }
   ],
   "source": [
    "# Parenthesis is optional for \"single element\" at last \"comma\" is require\n",
    "\n",
    "a= \"ashish\",\n",
    "print(type(a))\n",
    "\n",
    "print(a)"
   ]
  },
  {
   "cell_type": "markdown",
   "metadata": {},
   "source": [
    "## Accessing the element in Tuple"
   ]
  },
  {
   "cell_type": "code",
   "execution_count": 7,
   "metadata": {},
   "outputs": [
    {
     "name": "stdout",
     "output_type": "stream",
     "text": [
      "nanu\n"
     ]
    }
   ],
   "source": [
    "a = (\"ashish\",\"nanu\",\"dev\",\"yuvi\",\"kunsa\")\n",
    "\n",
    "print(a[1])"
   ]
  },
  {
   "cell_type": "code",
   "execution_count": 9,
   "metadata": {},
   "outputs": [
    {
     "name": "stdout",
     "output_type": "stream",
     "text": [
      "kunsa\n"
     ]
    }
   ],
   "source": [
    "print(a[-1])"
   ]
  },
  {
   "cell_type": "code",
   "execution_count": 11,
   "metadata": {},
   "outputs": [
    {
     "name": "stdout",
     "output_type": "stream",
     "text": [
      "('nanu', 'yuvi', 'dev')\n",
      "[1, 'ashish', 'kunsa']\n"
     ]
    }
   ],
   "source": [
    "# nested tuple\n",
    "t = (1,(\"nanu\",\"yuvi\",\"dev\"),2,3,[1,\"ashish\",\"kunsa\"])\n",
    "print(t[1])\n",
    "print(t[4])"
   ]
  },
  {
   "cell_type": "code",
   "execution_count": 12,
   "metadata": {},
   "outputs": [
    {
     "name": "stdout",
     "output_type": "stream",
     "text": [
      "dev\n"
     ]
    }
   ],
   "source": [
    "print(t[1][2])"
   ]
  },
  {
   "cell_type": "code",
   "execution_count": 18,
   "metadata": {},
   "outputs": [
    {
     "name": "stdout",
     "output_type": "stream",
     "text": [
      "(7, 6, 5)\n",
      "print in reverse order \n",
      "(2, 3, 4, 5, 6, 7, 8, 9)\n"
     ]
    }
   ],
   "source": [
    "# Slicing\n",
    "\n",
    "a=(9,8,7,6,5,4,3,2,1)\n",
    "\n",
    "print(a[2:5])\n",
    "\n",
    "\n",
    "# Printing the element in the list -- \"reverse order\" \n",
    "\n",
    "\n",
    "print(\"print in reverse order \")\n",
    "print(a[-2::-1])"
   ]
  },
  {
   "cell_type": "raw",
   "metadata": {},
   "source": [
    "Tuple are immutable \n",
    "\n",
    "but in \"nested tuple\" :- Element in \"list\" inside the tuple is changes "
   ]
  },
  {
   "cell_type": "code",
   "execution_count": 20,
   "metadata": {},
   "outputs": [
    {
     "ename": "TypeError",
     "evalue": "'tuple' object does not support item assignment",
     "output_type": "error",
     "traceback": [
      "\u001b[1;31m---------------------------------------------------------------------------\u001b[0m",
      "\u001b[1;31mTypeError\u001b[0m                                 Traceback (most recent call last)",
      "\u001b[1;32m<ipython-input-20-fbb154b3fcad>\u001b[0m in \u001b[0;36m<module>\u001b[1;34m\u001b[0m\n\u001b[0;32m      1\u001b[0m \u001b[0mt\u001b[0m \u001b[1;33m=\u001b[0m \u001b[1;33m(\u001b[0m\u001b[1;36m1\u001b[0m\u001b[1;33m,\u001b[0m\u001b[1;33m(\u001b[0m\u001b[1;34m\"nanu\"\u001b[0m\u001b[1;33m,\u001b[0m\u001b[1;34m\"yuvi\"\u001b[0m\u001b[1;33m,\u001b[0m\u001b[1;34m\"dev\"\u001b[0m\u001b[1;33m)\u001b[0m\u001b[1;33m,\u001b[0m\u001b[1;36m2\u001b[0m\u001b[1;33m,\u001b[0m\u001b[1;36m3\u001b[0m\u001b[1;33m,\u001b[0m\u001b[1;33m[\u001b[0m\u001b[1;36m1\u001b[0m\u001b[1;33m,\u001b[0m\u001b[1;34m\"ashish\"\u001b[0m\u001b[1;33m,\u001b[0m\u001b[1;34m\"kunsa\"\u001b[0m\u001b[1;33m]\u001b[0m\u001b[1;33m)\u001b[0m\u001b[1;33m\u001b[0m\u001b[1;33m\u001b[0m\u001b[0m\n\u001b[1;32m----> 2\u001b[1;33m \u001b[0mt\u001b[0m\u001b[1;33m[\u001b[0m\u001b[1;36m2\u001b[0m\u001b[1;33m]\u001b[0m\u001b[1;33m=\u001b[0m \u001b[1;34m\"a\"\u001b[0m\u001b[1;33m\u001b[0m\u001b[1;33m\u001b[0m\u001b[0m\n\u001b[0m\u001b[0;32m      3\u001b[0m \u001b[0mprint\u001b[0m\u001b[1;33m(\u001b[0m\u001b[0mt\u001b[0m\u001b[1;33m)\u001b[0m          \u001b[1;31m# type error\u001b[0m\u001b[1;33m\u001b[0m\u001b[1;33m\u001b[0m\u001b[0m\n",
      "\u001b[1;31mTypeError\u001b[0m: 'tuple' object does not support item assignment"
     ]
    }
   ],
   "source": [
    "t = (1,(\"nanu\",\"yuvi\",\"dev\"),2,3,[1,\"ashish\",\"kunsa\"])\n",
    "t[2]= \"a\"\n",
    "print(t)          # type error"
   ]
  },
  {
   "cell_type": "code",
   "execution_count": 22,
   "metadata": {},
   "outputs": [
    {
     "name": "stdout",
     "output_type": "stream",
     "text": [
      "(1, ('nanu', 'yuvi', 'dev'), 2, 3, ['Kanu', 'ashish', 'kunsa'])\n"
     ]
    }
   ],
   "source": [
    "# but in \"nested tuple\" :- Element in \"list\" inside the tuple is changes \n",
    "\n",
    "t = (1,(\"nanu\",\"yuvi\",\"dev\"),2,3,[1,\"ashish\",\"kunsa\"])\n",
    "t[4][0] = \"Kanu\"\n",
    "print (t)"
   ]
  },
  {
   "cell_type": "code",
   "execution_count": 26,
   "metadata": {},
   "outputs": [
    {
     "name": "stdout",
     "output_type": "stream",
     "text": [
      "(1, 2, 3, 4, 5, 6)\n"
     ]
    }
   ],
   "source": [
    "# Concatination tuple\n",
    "\n",
    "a = (1,2,3)+ (4,5,6)\n",
    "print(a)"
   ]
  },
  {
   "cell_type": "raw",
   "metadata": {},
   "source": [
    "can only concatenate tuple (not \"list\") to tuple"
   ]
  },
  {
   "cell_type": "code",
   "execution_count": 28,
   "metadata": {},
   "outputs": [
    {
     "ename": "TypeError",
     "evalue": "can only concatenate tuple (not \"list\") to tuple",
     "output_type": "error",
     "traceback": [
      "\u001b[1;31m---------------------------------------------------------------------------\u001b[0m",
      "\u001b[1;31mTypeError\u001b[0m                                 Traceback (most recent call last)",
      "\u001b[1;32m<ipython-input-28-8ea1938201f3>\u001b[0m in \u001b[0;36m<module>\u001b[1;34m\u001b[0m\n\u001b[1;32m----> 1\u001b[1;33m \u001b[0mc\u001b[0m \u001b[1;33m=\u001b[0m \u001b[0ma\u001b[0m\u001b[1;33m+\u001b[0m\u001b[1;33m[\u001b[0m\u001b[1;36m7\u001b[0m\u001b[1;33m,\u001b[0m\u001b[1;36m8\u001b[0m\u001b[1;33m,\u001b[0m\u001b[1;36m9\u001b[0m\u001b[1;33m]\u001b[0m\u001b[1;33m\u001b[0m\u001b[1;33m\u001b[0m\u001b[0m\n\u001b[0m\u001b[0;32m      2\u001b[0m \u001b[0mprint\u001b[0m\u001b[1;33m(\u001b[0m\u001b[0mc\u001b[0m\u001b[1;33m)\u001b[0m\u001b[1;33m\u001b[0m\u001b[1;33m\u001b[0m\u001b[0m\n",
      "\u001b[1;31mTypeError\u001b[0m: can only concatenate tuple (not \"list\") to tuple"
     ]
    }
   ],
   "source": [
    "c = a+[7,8,9]\n",
    "print(c)"
   ]
  },
  {
   "cell_type": "code",
   "execution_count": 11,
   "metadata": {},
   "outputs": [
    {
     "name": "stdout",
     "output_type": "stream",
     "text": [
      "(4, 5, 4, 5)\n"
     ]
    }
   ],
   "source": [
    "# repeatation of element in the tuple \n",
    "\n",
    "a= (4,5)*2\n",
    "print(a)"
   ]
  },
  {
   "cell_type": "markdown",
   "metadata": {},
   "source": [
    "## Tuple Deletion --- \"del\"\n"
   ]
  },
  {
   "cell_type": "code",
   "execution_count": 33,
   "metadata": {},
   "outputs": [
    {
     "ename": "NameError",
     "evalue": "name 't' is not defined",
     "output_type": "error",
     "traceback": [
      "\u001b[1;31m---------------------------------------------------------------------------\u001b[0m",
      "\u001b[1;31mNameError\u001b[0m                                 Traceback (most recent call last)",
      "\u001b[1;32m<ipython-input-33-7416ea2200b5>\u001b[0m in \u001b[0;36m<module>\u001b[1;34m\u001b[0m\n\u001b[0;32m      7\u001b[0m \u001b[1;31m#delete entire tuple\u001b[0m\u001b[1;33m\u001b[0m\u001b[1;33m\u001b[0m\u001b[1;33m\u001b[0m\u001b[0m\n\u001b[0;32m      8\u001b[0m \u001b[1;32mdel\u001b[0m \u001b[0mt\u001b[0m\u001b[1;33m\u001b[0m\u001b[1;33m\u001b[0m\u001b[0m\n\u001b[1;32m----> 9\u001b[1;33m \u001b[0mprint\u001b[0m\u001b[1;33m(\u001b[0m\u001b[0mt\u001b[0m\u001b[1;33m)\u001b[0m\u001b[1;33m\u001b[0m\u001b[1;33m\u001b[0m\u001b[0m\n\u001b[0m",
      "\u001b[1;31mNameError\u001b[0m: name 't' is not defined"
     ]
    }
   ],
   "source": [
    "#we cannot change the elements in a tuple. \n",
    "# That also means we cannot delete or remove items from a tuple.\n",
    "\n",
    "#delete entire tuple using del keyword\n",
    "t = (1, 2, 3, 4, 5, 6)\n",
    "\n",
    "#delete entire tuple\n",
    "del t\n",
    "print(t)\n"
   ]
  },
  {
   "cell_type": "markdown",
   "metadata": {},
   "source": [
    "## Tuple Count ---> .count()"
   ]
  },
  {
   "cell_type": "code",
   "execution_count": 34,
   "metadata": {},
   "outputs": [
    {
     "name": "stdout",
     "output_type": "stream",
     "text": [
      "3\n",
      "2\n"
     ]
    }
   ],
   "source": [
    "a= (1,2,3,1,5,3,2,4,2,1,5)\n",
    "print(a.count(2))\n",
    "print(a.count(5))"
   ]
  },
  {
   "cell_type": "markdown",
   "metadata": {},
   "source": [
    "## Tuple Index --> .index()"
   ]
  },
  {
   "cell_type": "code",
   "execution_count": 35,
   "metadata": {},
   "outputs": [
    {
     "name": "stdout",
     "output_type": "stream",
     "text": [
      "2\n"
     ]
    }
   ],
   "source": [
    "a= (1,2,3,1,5,3,2,4,2,1,5)\n",
    "\n",
    "print(a.index(3))  # return index of \"first element\" is equal to 3"
   ]
  },
  {
   "cell_type": "markdown",
   "metadata": {},
   "source": [
    "## Tuple Memebership  ----> \" in \""
   ]
  },
  {
   "cell_type": "code",
   "execution_count": 37,
   "metadata": {},
   "outputs": [
    {
     "name": "stdout",
     "output_type": "stream",
     "text": [
      "True\n",
      "False\n"
     ]
    }
   ],
   "source": [
    "# test if an item exists in a tuple or not, using keyword \"in\"\n",
    "\n",
    "a = (1,2,3,5,6)\n",
    "print(2 in a)\n",
    "\n",
    "# 4 is not in tuple \n",
    "\n",
    "print(4 in a)"
   ]
  },
  {
   "cell_type": "markdown",
   "metadata": {},
   "source": [
    "## Built in Function"
   ]
  },
  {
   "cell_type": "markdown",
   "metadata": {},
   "source": [
    "### Tuple Length    ---> len()"
   ]
  },
  {
   "cell_type": "code",
   "execution_count": 38,
   "metadata": {},
   "outputs": [
    {
     "name": "stdout",
     "output_type": "stream",
     "text": [
      "6\n"
     ]
    }
   ],
   "source": [
    "t=(1,2,3,5,9,7)\n",
    "print(len(t))"
   ]
  },
  {
   "cell_type": "markdown",
   "metadata": {},
   "source": [
    "### Tuple Sort  ----> sorted()"
   ]
  },
  {
   "cell_type": "raw",
   "metadata": {},
   "source": [
    "does not sort the tuple itself -----> \"t.sort\"  --error"
   ]
  },
  {
   "cell_type": "code",
   "execution_count": 39,
   "metadata": {},
   "outputs": [
    {
     "ename": "AttributeError",
     "evalue": "'tuple' object has no attribute 'sort'",
     "output_type": "error",
     "traceback": [
      "\u001b[1;31m---------------------------------------------------------------------------\u001b[0m",
      "\u001b[1;31mAttributeError\u001b[0m                            Traceback (most recent call last)",
      "\u001b[1;32m<ipython-input-39-7db6200deb05>\u001b[0m in \u001b[0;36m<module>\u001b[1;34m\u001b[0m\n\u001b[0;32m      1\u001b[0m \u001b[0mt\u001b[0m \u001b[1;33m=\u001b[0m \u001b[1;33m(\u001b[0m\u001b[1;36m5\u001b[0m\u001b[1;33m,\u001b[0m\u001b[1;36m2\u001b[0m\u001b[1;33m,\u001b[0m\u001b[1;36m6\u001b[0m\u001b[1;33m,\u001b[0m\u001b[1;36m8\u001b[0m\u001b[1;33m,\u001b[0m\u001b[1;36m9\u001b[0m\u001b[1;33m,\u001b[0m\u001b[1;36m4\u001b[0m\u001b[1;33m,\u001b[0m\u001b[1;36m2\u001b[0m\u001b[1;33m,\u001b[0m\u001b[1;36m3\u001b[0m\u001b[1;33m)\u001b[0m\u001b[1;33m\u001b[0m\u001b[1;33m\u001b[0m\u001b[0m\n\u001b[1;32m----> 2\u001b[1;33m \u001b[0mt\u001b[0m\u001b[1;33m.\u001b[0m\u001b[0msort\u001b[0m\u001b[1;33m(\u001b[0m\u001b[1;33m)\u001b[0m\u001b[1;33m\u001b[0m\u001b[1;33m\u001b[0m\u001b[0m\n\u001b[0m\u001b[0;32m      3\u001b[0m \u001b[0mprint\u001b[0m\u001b[1;33m(\u001b[0m\u001b[0mt\u001b[0m\u001b[1;33m)\u001b[0m\u001b[1;33m\u001b[0m\u001b[1;33m\u001b[0m\u001b[0m\n",
      "\u001b[1;31mAttributeError\u001b[0m: 'tuple' object has no attribute 'sort'"
     ]
    }
   ],
   "source": [
    "t = (5,2,6,8,9,4,2,3)\n",
    "t.sort()\n",
    "print(t)"
   ]
  },
  {
   "cell_type": "code",
   "execution_count": 40,
   "metadata": {},
   "outputs": [
    {
     "name": "stdout",
     "output_type": "stream",
     "text": [
      "[2, 2, 3, 4, 5, 6, 8, 9]\n"
     ]
    }
   ],
   "source": [
    "a=sorted(t)\n",
    "print(a)"
   ]
  },
  {
   "cell_type": "markdown",
   "metadata": {},
   "source": [
    "###  Max , Min ,Sum .. etc"
   ]
  },
  {
   "cell_type": "code",
   "execution_count": 41,
   "metadata": {},
   "outputs": [
    {
     "name": "stdout",
     "output_type": "stream",
     "text": [
      "10\n"
     ]
    }
   ],
   "source": [
    "# get the largest element in a tuple\n",
    "\n",
    "t = (4,5,2,8,10,3,7)\n",
    "print(max(t))"
   ]
  },
  {
   "cell_type": "code",
   "execution_count": 43,
   "metadata": {},
   "outputs": [
    {
     "name": "stdout",
     "output_type": "stream",
     "text": [
      "2\n"
     ]
    }
   ],
   "source": [
    "# get the min element in tuple\n",
    "\n",
    "print(min(t))"
   ]
  },
  {
   "cell_type": "code",
   "execution_count": 44,
   "metadata": {},
   "outputs": [
    {
     "name": "stdout",
     "output_type": "stream",
     "text": [
      "39\n"
     ]
    }
   ],
   "source": [
    "# get the sum of \" all \" element in the tuple\n",
    "\n",
    "print(sum(t))"
   ]
  },
  {
   "cell_type": "code",
   "execution_count": null,
   "metadata": {},
   "outputs": [],
   "source": []
  },
  {
   "cell_type": "markdown",
   "metadata": {},
   "source": [
    "# Sets"
   ]
  },
  {
   "cell_type": "markdown",
   "metadata": {},
   "source": [
    "-> A set is an \" unordered collection \" of items. \n",
    "\n",
    "**->Every element is \" unique (no duplicates) \" .\n",
    "\n",
    "**-> The set itself is \" mutable \". We can add or remove items from it.\n",
    "\n",
    "-> Sets can be used to perform mathematical set operations like union, intersection, symmetric difference etc."
   ]
  },
  {
   "cell_type": "markdown",
   "metadata": {},
   "source": [
    "##  Set Creation"
   ]
  },
  {
   "cell_type": "code",
   "execution_count": 46,
   "metadata": {},
   "outputs": [
    {
     "name": "stdout",
     "output_type": "stream",
     "text": [
      "{1, 2, 3}\n",
      "<class 'set'>\n"
     ]
    }
   ],
   "source": [
    "# set of integers\n",
    "s = {1,2,3}\n",
    "print(s)\n",
    "\n",
    "# print type of s\n",
    "print(type(s))"
   ]
  },
  {
   "cell_type": "code",
   "execution_count": 47,
   "metadata": {},
   "outputs": [
    {
     "name": "stdout",
     "output_type": "stream",
     "text": [
      "{1, 2, 3}\n"
     ]
    }
   ],
   "source": [
    "# set doesn't allow \" duplicates \". They store only one instance\n",
    "\n",
    "a = {1,2,3,1,2,2,1}\n",
    "print(a)"
   ]
  },
  {
   "cell_type": "code",
   "execution_count": 48,
   "metadata": {},
   "outputs": [
    {
     "name": "stdout",
     "output_type": "stream",
     "text": [
      "{1, 2, 3}\n"
     ]
    }
   ],
   "source": [
    "# we can make set from a list\n",
    "s = set([1,2,3])\n",
    "print(s)"
   ]
  },
  {
   "cell_type": "code",
   "execution_count": 53,
   "metadata": {},
   "outputs": [
    {
     "name": "stdout",
     "output_type": "stream",
     "text": [
      "<class 'set'>\n"
     ]
    }
   ],
   "source": [
    "# initialize a set with set () method\n",
    "\n",
    "s = set()                 # creating empty set\n",
    "print(type(s))"
   ]
  },
  {
   "cell_type": "code",
   "execution_count": 56,
   "metadata": {},
   "outputs": [
    {
     "name": "stdout",
     "output_type": "stream",
     "text": [
      "<class 'set'>\n",
      "{1, 2, 3}\n"
     ]
    }
   ],
   "source": [
    "# we can also make set from a tuple\n",
    "\n",
    "s = set((1,2,3))\n",
    "print(type(s))\n",
    "print(s)"
   ]
  },
  {
   "cell_type": "markdown",
   "metadata": {},
   "source": [
    "## Add element to a Set"
   ]
  },
  {
   "cell_type": "raw",
   "metadata": {},
   "source": [
    ".add() --->     for adding the \"Single element\" \n",
    ".update() --->  for adding the \"multiple element\"\n",
    "\n",
    "# set object  \"does't support Indexing\""
   ]
  },
  {
   "cell_type": "code",
   "execution_count": 57,
   "metadata": {},
   "outputs": [
    {
     "ename": "TypeError",
     "evalue": "'set' object is not subscriptable",
     "output_type": "error",
     "traceback": [
      "\u001b[1;31m---------------------------------------------------------------------------\u001b[0m",
      "\u001b[1;31mTypeError\u001b[0m                                 Traceback (most recent call last)",
      "\u001b[1;32m<ipython-input-57-0e9770ccb842>\u001b[0m in \u001b[0;36m<module>\u001b[1;34m\u001b[0m\n\u001b[0;32m      1\u001b[0m \u001b[0ms\u001b[0m\u001b[1;33m=\u001b[0m\u001b[1;33m{\u001b[0m\u001b[1;36m4\u001b[0m\u001b[1;33m,\u001b[0m\u001b[1;36m5\u001b[0m\u001b[1;33m,\u001b[0m\u001b[1;36m3\u001b[0m\u001b[1;33m,\u001b[0m\u001b[1;36m1\u001b[0m\u001b[1;33m,\u001b[0m\u001b[1;36m2\u001b[0m\u001b[1;33m}\u001b[0m\u001b[1;33m\u001b[0m\u001b[1;33m\u001b[0m\u001b[0m\n\u001b[0;32m      2\u001b[0m \u001b[1;33m\u001b[0m\u001b[0m\n\u001b[1;32m----> 3\u001b[1;33m \u001b[0mprint\u001b[0m\u001b[1;33m(\u001b[0m\u001b[0ms\u001b[0m\u001b[1;33m[\u001b[0m\u001b[1;36m2\u001b[0m\u001b[1;33m]\u001b[0m\u001b[1;33m)\u001b[0m   \u001b[1;31m# does't support indexing\u001b[0m\u001b[1;33m\u001b[0m\u001b[1;33m\u001b[0m\u001b[0m\n\u001b[0m",
      "\u001b[1;31mTypeError\u001b[0m: 'set' object is not subscriptable"
     ]
    }
   ],
   "source": [
    "s={4,5,3,1,2}\n",
    "\n",
    "print(s[2])   # does't support indexing\n"
   ]
  },
  {
   "cell_type": "code",
   "execution_count": 58,
   "metadata": {},
   "outputs": [
    {
     "name": "stdout",
     "output_type": "stream",
     "text": [
      "{1, 2, 3, 4, 5, 6}\n"
     ]
    }
   ],
   "source": [
    "# add element\n",
    "s.add(6)\n",
    "print(s)"
   ]
  },
  {
   "cell_type": "code",
   "execution_count": 60,
   "metadata": {},
   "outputs": [
    {
     "name": "stdout",
     "output_type": "stream",
     "text": [
      "{1, 2, 3, 4, 5, 6, 9, 10, 12}\n"
     ]
    }
   ],
   "source": [
    "# add multiple element\n",
    "s.update([9,10,12])\n",
    "print(s)"
   ]
  },
  {
   "cell_type": "code",
   "execution_count": 61,
   "metadata": {},
   "outputs": [
    {
     "name": "stdout",
     "output_type": "stream",
     "text": [
      "{1, 2, 3, 4, 5, 6, 9, 10, 11, 12, 15, 16, 17, 18}\n"
     ]
    }
   ],
   "source": [
    "# add \"list and set\n",
    "\n",
    "s.update([12,15,11],{16,17,18})\n",
    "print(s)"
   ]
  },
  {
   "cell_type": "markdown",
   "metadata": {},
   "source": [
    "## Remove Elements from a set"
   ]
  },
  {
   "cell_type": "raw",
   "metadata": {},
   "source": [
    "1) discard() --  Not showing any error and move to next step\n",
    "2) remove()  -- \"keyerror\"\n",
    "\n",
    "Note :- key diff b/w both is if element is \"not present\" in the set \n",
    "\n",
    "--->  Remove iteam using   \" .pop() \"\n",
    "\n",
    "3) pop() :- remove the \"random\" single item in set\n",
    "\n",
    "4) clear()  :- \"remove all item\" in set using clear() method"
   ]
  },
  {
   "cell_type": "code",
   "execution_count": 66,
   "metadata": {},
   "outputs": [
    {
     "name": "stdout",
     "output_type": "stream",
     "text": [
      "{1, 2, 4, 5, 6}\n",
      "Removing the value : 4\n",
      "{1, 2, 5, 6}\n"
     ]
    }
   ],
   "source": [
    "s = {1,2,5,6,4}\n",
    "print(s)\n",
    "\n",
    "s.discard(4)\n",
    "\n",
    "print(\"Removing the value : 4\")\n",
    "print(s)"
   ]
  },
  {
   "cell_type": "code",
   "execution_count": 67,
   "metadata": {},
   "outputs": [
    {
     "name": "stdout",
     "output_type": "stream",
     "text": [
      "Removing the value : 2\n",
      "{1, 5, 6}\n"
     ]
    }
   ],
   "source": [
    "# removig an element\n",
    "\n",
    "s.remove(2)\n",
    "print(\"Removing the value : 2\")\n",
    "print(s)"
   ]
  },
  {
   "cell_type": "code",
   "execution_count": 68,
   "metadata": {},
   "outputs": [
    {
     "ename": "KeyError",
     "evalue": "7",
     "output_type": "error",
     "traceback": [
      "\u001b[1;31m---------------------------------------------------------------------------\u001b[0m",
      "\u001b[1;31mKeyError\u001b[0m                                  Traceback (most recent call last)",
      "\u001b[1;32m<ipython-input-68-dcbac2cb3d77>\u001b[0m in \u001b[0;36m<module>\u001b[1;34m\u001b[0m\n\u001b[0;32m      1\u001b[0m \u001b[1;31m# remove an element not present in set s\u001b[0m\u001b[1;33m\u001b[0m\u001b[1;33m\u001b[0m\u001b[1;33m\u001b[0m\u001b[0m\n\u001b[0;32m      2\u001b[0m \u001b[1;33m\u001b[0m\u001b[0m\n\u001b[1;32m----> 3\u001b[1;33m \u001b[0ms\u001b[0m\u001b[1;33m.\u001b[0m\u001b[0mremove\u001b[0m\u001b[1;33m(\u001b[0m\u001b[1;36m7\u001b[0m\u001b[1;33m)\u001b[0m   \u001b[1;31m# Element not present --- \"Key error\"\u001b[0m\u001b[1;33m\u001b[0m\u001b[1;33m\u001b[0m\u001b[0m\n\u001b[0m",
      "\u001b[1;31mKeyError\u001b[0m: 7"
     ]
    }
   ],
   "source": [
    "# remove an element not present in set s\n",
    "\n",
    "s.remove(7)   # Element not present --- \"Key error\""
   ]
  },
  {
   "cell_type": "code",
   "execution_count": 70,
   "metadata": {},
   "outputs": [
    {
     "name": "stdout",
     "output_type": "stream",
     "text": [
      "{1, 5, 6}\n"
     ]
    }
   ],
   "source": [
    "s.discard(7)           # Discard not showing error\n",
    "print(s)"
   ]
  },
  {
   "cell_type": "code",
   "execution_count": 71,
   "metadata": {},
   "outputs": [
    {
     "name": "stdout",
     "output_type": "stream",
     "text": [
      "{2, 3, 4, 5, 6}\n"
     ]
    }
   ],
   "source": [
    "# pop()\n",
    "\n",
    "s= {1,5,2,3,6,4}\n",
    "\n",
    "s.pop() # remove random element\n",
    "print(s)"
   ]
  },
  {
   "cell_type": "code",
   "execution_count": 72,
   "metadata": {},
   "outputs": [
    {
     "name": "stdout",
     "output_type": "stream",
     "text": [
      "{3, 4, 5, 6}\n"
     ]
    }
   ],
   "source": [
    "s.pop()\n",
    "print(s)"
   ]
  },
  {
   "cell_type": "code",
   "execution_count": 73,
   "metadata": {},
   "outputs": [
    {
     "name": "stdout",
     "output_type": "stream",
     "text": [
      "set()\n"
     ]
    }
   ],
   "source": [
    "# Clear\n",
    "\n",
    "s = {1,5,2,3,6}\n",
    "\n",
    "s.clear()          # remove all items in set using clear() method\n",
    "print(s)"
   ]
  },
  {
   "cell_type": "markdown",
   "metadata": {},
   "source": [
    "## Python Set Operations"
   ]
  },
  {
   "cell_type": "raw",
   "metadata": {},
   "source": [
    "1) union :-              (set1 | set2)    or  (set1.union(set2))\n",
    "2) intersection :-       (set1 & set2)    or  (set1.intersection(set2))\n",
    "3) difference :-         (set1 - set2)    or  (set1.difference(set2))\n",
    "4) symmetric_difference:-(set1 ^ set2)    or  (set1.symmetric_difference(set2))\n",
    "5) issubset() :-         ( .issubset())"
   ]
  },
  {
   "cell_type": "code",
   "execution_count": 89,
   "metadata": {},
   "outputs": [
    {
     "name": "stdout",
     "output_type": "stream",
     "text": [
      "union :  {1, 2, 3, 4, 5, 6, 7}\n"
     ]
    }
   ],
   "source": [
    "set1 = {1, 2, 3, 4, 5}\n",
    "set2 = {3, 4, 5, 6, 7}\n",
    "\n",
    "# union of 2 set\n",
    "\n",
    "print(\"union : \", set1 | set2)"
   ]
  },
  {
   "cell_type": "code",
   "execution_count": 90,
   "metadata": {},
   "outputs": [
    {
     "name": "stdout",
     "output_type": "stream",
     "text": [
      "{1, 2, 3, 4, 5, 6, 7}\n"
     ]
    }
   ],
   "source": [
    "# another way of getting union of 2 sets\n",
    "print(set1.union(set2))"
   ]
  },
  {
   "cell_type": "code",
   "execution_count": 91,
   "metadata": {},
   "outputs": [
    {
     "name": "stdout",
     "output_type": "stream",
     "text": [
      " Intersection :  {3, 4, 5}\n"
     ]
    }
   ],
   "source": [
    "# intersection\n",
    "print(\" Intersection : \",set1 & set2)"
   ]
  },
  {
   "cell_type": "code",
   "execution_count": 84,
   "metadata": {},
   "outputs": [
    {
     "name": "stdout",
     "output_type": "stream",
     "text": [
      "{3, 4, 5}\n"
     ]
    }
   ],
   "source": [
    "# another way of \" intersection\"\n",
    "print(set1.intersection(set2))"
   ]
  },
  {
   "cell_type": "code",
   "execution_count": 92,
   "metadata": {},
   "outputs": [
    {
     "name": "stdout",
     "output_type": "stream",
     "text": [
      "set difference:  {1, 2}\n"
     ]
    }
   ],
   "source": [
    "# Set Difference\n",
    "print(\"set difference: \", set1-set2)\n"
   ]
  },
  {
   "cell_type": "code",
   "execution_count": 86,
   "metadata": {},
   "outputs": [
    {
     "name": "stdout",
     "output_type": "stream",
     "text": [
      "{6, 7}\n"
     ]
    }
   ],
   "source": [
    "print(set2-set1)"
   ]
  },
  {
   "cell_type": "code",
   "execution_count": 87,
   "metadata": {},
   "outputs": [
    {
     "name": "stdout",
     "output_type": "stream",
     "text": [
      "{1, 2}\n"
     ]
    }
   ],
   "source": [
    "# another way \n",
    "\n",
    "print(set1.difference(set2))"
   ]
  },
  {
   "cell_type": "code",
   "execution_count": 93,
   "metadata": {},
   "outputs": [
    {
     "name": "stdout",
     "output_type": "stream",
     "text": [
      "symmetric difference:  {1, 2, 6, 7}\n"
     ]
    }
   ],
   "source": [
    "# Symmetric Difference \n",
    "\"\"\" set of elements in both set1 and set2 \n",
    "except those that are common in both. \"\"\"\n",
    "\n",
    "# use ^\n",
    "print(\"symmetric difference: \",set1^set2)"
   ]
  },
  {
   "cell_type": "code",
   "execution_count": 95,
   "metadata": {},
   "outputs": [
    {
     "name": "stdout",
     "output_type": "stream",
     "text": [
      "set 'x' is subset of 'y' :  False\n",
      "set 'y' is subset of 'x'  True\n"
     ]
    }
   ],
   "source": [
    "# issubset()\n",
    "x = {\"a\",\"b\",\"c\",\"d\",\"e\"}\n",
    "y = {\"c\",\"d\"}\n",
    "\n",
    "print(\"set 'x' is subset of 'y' : \",x.issubset(y))\n",
    "\n",
    "print(\"set 'y' is subset of 'x':  \",y.issubset(x))\n"
   ]
  },
  {
   "cell_type": "markdown",
   "metadata": {},
   "source": [
    "## Frozen Sets"
   ]
  },
  {
   "cell_type": "markdown",
   "metadata": {},
   "source": [
    "Frozen sets has the characteristics of sets, but we can't be changed once it's assigned. While tuple are immutable lists, frozen sets are \"immutable sets\"\n",
    "\n",
    "Frozensets can be created using the function frozenset()\n",
    "\n",
    "Sets being mutable are unhashable, so they can't be used as dictionary keys. On the other hand, frozensets are hashable and can be used as keys to a dictionary.\n",
    "\n",
    "This datatype supports methods like copy(), difference(), intersection(), isdisjoint(), issubset(), issuperset(), symmetric_difference() and union(). Being immutable it does not have method that add or remove elements."
   ]
  },
  {
   "cell_type": "code",
   "execution_count": 96,
   "metadata": {},
   "outputs": [
    {
     "ename": "AttributeError",
     "evalue": "'frozenset' object has no attribute 'add'",
     "output_type": "error",
     "traceback": [
      "\u001b[1;31m---------------------------------------------------------------------------\u001b[0m",
      "\u001b[1;31mAttributeError\u001b[0m                            Traceback (most recent call last)",
      "\u001b[1;32m<ipython-input-96-c060fe0b804d>\u001b[0m in \u001b[0;36m<module>\u001b[1;34m\u001b[0m\n\u001b[0;32m      3\u001b[0m \u001b[1;33m\u001b[0m\u001b[0m\n\u001b[0;32m      4\u001b[0m \u001b[1;31m# try to add element into set1 ----> \"Error\"\u001b[0m\u001b[1;33m\u001b[0m\u001b[1;33m\u001b[0m\u001b[1;33m\u001b[0m\u001b[0m\n\u001b[1;32m----> 5\u001b[1;33m \u001b[0mset1\u001b[0m\u001b[1;33m.\u001b[0m\u001b[0madd\u001b[0m\u001b[1;33m(\u001b[0m\u001b[1;36m5\u001b[0m\u001b[1;33m)\u001b[0m\u001b[1;33m\u001b[0m\u001b[1;33m\u001b[0m\u001b[0m\n\u001b[0m",
      "\u001b[1;31mAttributeError\u001b[0m: 'frozenset' object has no attribute 'add'"
     ]
    }
   ],
   "source": [
    "set1= frozenset([1,2,3,4])\n",
    "set2= frozenset([3,4,5,6])\n",
    "\n",
    "# try to add element into set1 ----> \"Error\"\n",
    "set1.add(5)"
   ]
  },
  {
   "cell_type": "raw",
   "metadata": {},
   "source": [
    "** To add element into set1 ----> \"Error\"\n",
    "** Frozen set doesn't support indexing "
   ]
  },
  {
   "cell_type": "code",
   "execution_count": 98,
   "metadata": {},
   "outputs": [
    {
     "ename": "TypeError",
     "evalue": "'frozenset' object is not subscriptable",
     "output_type": "error",
     "traceback": [
      "\u001b[1;31m---------------------------------------------------------------------------\u001b[0m",
      "\u001b[1;31mTypeError\u001b[0m                                 Traceback (most recent call last)",
      "\u001b[1;32m<ipython-input-98-012ecff96aad>\u001b[0m in \u001b[0;36m<module>\u001b[1;34m\u001b[0m\n\u001b[1;32m----> 1\u001b[1;33m \u001b[0mprint\u001b[0m\u001b[1;33m(\u001b[0m\u001b[0mset1\u001b[0m\u001b[1;33m[\u001b[0m\u001b[1;36m2\u001b[0m\u001b[1;33m]\u001b[0m\u001b[1;33m)\u001b[0m\u001b[1;33m\u001b[0m\u001b[1;33m\u001b[0m\u001b[0m\n\u001b[0m",
      "\u001b[1;31mTypeError\u001b[0m: 'frozenset' object is not subscriptable"
     ]
    }
   ],
   "source": [
    "print(set1[2])"
   ]
  },
  {
   "cell_type": "code",
   "execution_count": 99,
   "metadata": {},
   "outputs": [
    {
     "name": "stdout",
     "output_type": "stream",
     "text": [
      "frozenset({1, 2, 3, 4, 5, 6})\n"
     ]
    }
   ],
   "source": [
    "# union\n",
    "\n",
    "print(set1 | set2)    \n"
   ]
  },
  {
   "cell_type": "code",
   "execution_count": 100,
   "metadata": {},
   "outputs": [
    {
     "name": "stdout",
     "output_type": "stream",
     "text": [
      "frozenset({3, 4})\n"
     ]
    }
   ],
   "source": [
    "# intersection \n",
    "\n",
    "print(set1 & set2)"
   ]
  },
  {
   "cell_type": "code",
   "execution_count": 101,
   "metadata": {},
   "outputs": [
    {
     "name": "stdout",
     "output_type": "stream",
     "text": [
      "frozenset({1, 2, 5, 6})\n"
     ]
    }
   ],
   "source": [
    "# symmetric difference\n",
    "\n",
    "print(set1 ^ set2)"
   ]
  },
  {
   "cell_type": "code",
   "execution_count": null,
   "metadata": {},
   "outputs": [],
   "source": []
  },
  {
   "cell_type": "markdown",
   "metadata": {},
   "source": [
    "# Dictionary"
   ]
  },
  {
   "cell_type": "markdown",
   "metadata": {},
   "source": [
    "Python dictionary is an unordered collection of items. While other compound data types have only value as an element, a dictionary has a key: value pair."
   ]
  },
  {
   "cell_type": "raw",
   "metadata": {},
   "source": [
    "dict -> \"Unordered\" .\n",
    "key : value .\n",
    "mixed key possible of different data type.\n",
    "Hash table -> dict work as hash table in python"
   ]
  },
  {
   "cell_type": "markdown",
   "metadata": {},
   "source": [
    "## Dict Creation ---->          dict()"
   ]
  },
  {
   "cell_type": "code",
   "execution_count": 12,
   "metadata": {},
   "outputs": [
    {
     "name": "stdout",
     "output_type": "stream",
     "text": [
      "{1: 'abc', 2: 'xyz'}\n",
      "{'name': 'ashish', 74: ['abc', 'xyz']}\n",
      "{}\n",
      "{1: 'abc', 2: 'xyz'}\n"
     ]
    }
   ],
   "source": [
    "# empty dict\n",
    "my_dict = {}\n",
    "\n",
    "# dictionary with integer keys\n",
    "my_dict = {1:\"abc\", 2:\"xyz\"}\n",
    "print(my_dict)\n",
    "\n",
    "# dictionary with mixed keys\n",
    "\n",
    "my_dict = {\"name\":\"ashish\", 74:[\"abc\",\"xyz\"]}\n",
    "print(my_dict)\n",
    "\n",
    "#create empty dictionary using dict()\n",
    "my_dict = dict()\n",
    "print(my_dict)\n"
   ]
  },
  {
   "cell_type": "code",
   "execution_count": 13,
   "metadata": {},
   "outputs": [
    {
     "name": "stdout",
     "output_type": "stream",
     "text": [
      "{1: 'abc', 2: 'xyz'}\n"
     ]
    }
   ],
   "source": [
    "# create the dict with \" list of tuple \"\n",
    "\n",
    "my_dict = dict([(1,\"abc\"),(2,\"xyz\") ])  \n",
    "print(my_dict)"
   ]
  },
  {
   "cell_type": "markdown",
   "metadata": {},
   "source": [
    "## Dict Access"
   ]
  },
  {
   "cell_type": "code",
   "execution_count": 15,
   "metadata": {},
   "outputs": [
    {
     "name": "stdout",
     "output_type": "stream",
     "text": [
      "ashish\n"
     ]
    }
   ],
   "source": [
    "my_dict = {\"name\":\"ashish\",\"age\":22,\"address\":\"Udaipur\"}\n",
    "\n",
    "# get name\n",
    "print(my_dict[\"name\"])"
   ]
  },
  {
   "cell_type": "code",
   "execution_count": 16,
   "metadata": {},
   "outputs": [
    {
     "ename": "KeyError",
     "evalue": "'degree'",
     "output_type": "error",
     "traceback": [
      "\u001b[1;31m---------------------------------------------------------------------------\u001b[0m",
      "\u001b[1;31mKeyError\u001b[0m                                  Traceback (most recent call last)",
      "\u001b[1;32m<ipython-input-16-a34e47b2596e>\u001b[0m in \u001b[0;36m<module>\u001b[1;34m\u001b[0m\n\u001b[0;32m      1\u001b[0m \u001b[1;31m# if key is not present it gives keyerror\u001b[0m\u001b[1;33m\u001b[0m\u001b[1;33m\u001b[0m\u001b[1;33m\u001b[0m\u001b[0m\n\u001b[0;32m      2\u001b[0m \u001b[1;33m\u001b[0m\u001b[0m\n\u001b[1;32m----> 3\u001b[1;33m \u001b[0mprint\u001b[0m\u001b[1;33m(\u001b[0m\u001b[0mmy_dict\u001b[0m\u001b[1;33m[\u001b[0m\u001b[1;34m\"degree\"\u001b[0m\u001b[1;33m]\u001b[0m\u001b[1;33m)\u001b[0m\u001b[1;33m\u001b[0m\u001b[1;33m\u001b[0m\u001b[0m\n\u001b[0m",
      "\u001b[1;31mKeyError\u001b[0m: 'degree'"
     ]
    }
   ],
   "source": [
    "# if key is not present it gives keyerror\n",
    "\n",
    "print(my_dict[\"degree\"])"
   ]
  },
  {
   "cell_type": "raw",
   "metadata": {},
   "source": [
    ".get()  --> use to get value. if key element is not present then it not show Error it show only \"none\""
   ]
  },
  {
   "cell_type": "code",
   "execution_count": 17,
   "metadata": {},
   "outputs": [
    {
     "name": "stdout",
     "output_type": "stream",
     "text": [
      "Udaipur\n"
     ]
    }
   ],
   "source": [
    "# another way of accessing key\n",
    "\n",
    "print(my_dict.get(\"address\"))"
   ]
  },
  {
   "cell_type": "code",
   "execution_count": 18,
   "metadata": {},
   "outputs": [
    {
     "name": "stdout",
     "output_type": "stream",
     "text": [
      "None\n"
     ]
    }
   ],
   "source": [
    "print(my_dict.get(\"degree\"))"
   ]
  },
  {
   "cell_type": "markdown",
   "metadata": {},
   "source": [
    "## Dict Add or Modify Element"
   ]
  },
  {
   "cell_type": "code",
   "execution_count": 21,
   "metadata": {},
   "outputs": [
    {
     "name": "stdout",
     "output_type": "stream",
     "text": [
      "{'name': 'ashish', 'age': 22, 'address': 'India'}\n"
     ]
    }
   ],
   "source": [
    "my_dict = {\"name\":\"ashish\",\"age\":22,\"address\":\"Udaipur\"}\n",
    "\n",
    "# update address\n",
    "\n",
    "my_dict[\"address\"]=\"India\"\n",
    "print(my_dict)"
   ]
  },
  {
   "cell_type": "code",
   "execution_count": 25,
   "metadata": {},
   "outputs": [
    {
     "name": "stdout",
     "output_type": "stream",
     "text": [
      "{'name': 'ashish', 'age': 22, 'address': 'India', 'degree': 'B.Tech'}\n"
     ]
    }
   ],
   "source": [
    "# Add new element\n",
    "\n",
    "my_dict[\"degree\"] = \"B.Tech\"  \n",
    "\n",
    "print(my_dict)"
   ]
  },
  {
   "cell_type": "markdown",
   "metadata": {},
   "source": [
    "## Dict Delete or Remove Element"
   ]
  },
  {
   "cell_type": "raw",
   "metadata": {},
   "source": [
    "** dict_name.popitem()      -->    remove/delete \"any key\" from dict\n",
    "** dict_name.pop(key)   -->    passing the key it will delete that key only\n",
    "\n",
    "** dict_name.clear()-->  .clear()  it will clear or delete full dict.\n",
    "\n",
    "del dict_name[key] ---> it will delete the key from the dictionary\n",
    "\n",
    "**del dict_name---->\" whole dict  is delete with dict_name\" --Error---NameError"
   ]
  },
  {
   "cell_type": "code",
   "execution_count": 36,
   "metadata": {},
   "outputs": [
    {
     "name": "stdout",
     "output_type": "stream",
     "text": [
      "{'name': 'ashish', 'address': 'Udaipur', 'degree': 'BTech'}\n"
     ]
    }
   ],
   "source": [
    "my_dict = {\"name\":\"ashish\",\"age\":22,\"address\":\"Udaipur\",\"degree\":\"BTech\"}\n",
    "\n",
    "# remove a particuluar item\n",
    "\n",
    "my_dict.pop(\"age\")\n",
    "\n",
    "print(my_dict)"
   ]
  },
  {
   "cell_type": "code",
   "execution_count": 37,
   "metadata": {},
   "outputs": [
    {
     "name": "stdout",
     "output_type": "stream",
     "text": [
      "{'name': 'ashish', 'age': 22}\n"
     ]
    }
   ],
   "source": [
    "my_dict = {\"name\":\"ashish\",\"age\":22,\"address\":\"Udaipur\"}\n",
    "\n",
    "# remove an arbitarty key\n",
    "\n",
    "my_dict.popitem()\n",
    "print(my_dict)"
   ]
  },
  {
   "cell_type": "code",
   "execution_count": 38,
   "metadata": {},
   "outputs": [
    {
     "name": "stdout",
     "output_type": "stream",
     "text": [
      "{3: 9, 4: 16, 5: 25}\n"
     ]
    }
   ],
   "source": [
    "# \"del\"  -> for particular key\n",
    "\n",
    "squares = {2:4,3:9,4:16,5:25}\n",
    "\n",
    "del squares[2]\n",
    "print(squares)"
   ]
  },
  {
   "cell_type": "code",
   "execution_count": 39,
   "metadata": {},
   "outputs": [
    {
     "name": "stdout",
     "output_type": "stream",
     "text": [
      "{}\n"
     ]
    }
   ],
   "source": [
    "# \" clear()\" --> remove all items\n",
    "\n",
    "squares.clear()\n",
    "\n",
    "print(squares)"
   ]
  },
  {
   "cell_type": "code",
   "execution_count": 40,
   "metadata": {},
   "outputs": [
    {
     "ename": "NameError",
     "evalue": "name 'squares' is not defined",
     "output_type": "error",
     "traceback": [
      "\u001b[1;31m---------------------------------------------------------------------------\u001b[0m",
      "\u001b[1;31mNameError\u001b[0m                                 Traceback (most recent call last)",
      "\u001b[1;32m<ipython-input-40-9b3b3f6a7b39>\u001b[0m in \u001b[0;36m<module>\u001b[1;34m\u001b[0m\n\u001b[0;32m      4\u001b[0m \u001b[1;33m\u001b[0m\u001b[0m\n\u001b[0;32m      5\u001b[0m \u001b[1;32mdel\u001b[0m \u001b[0msquares\u001b[0m\u001b[1;33m\u001b[0m\u001b[1;33m\u001b[0m\u001b[0m\n\u001b[1;32m----> 6\u001b[1;33m \u001b[0mprint\u001b[0m\u001b[1;33m(\u001b[0m\u001b[0msquares\u001b[0m\u001b[1;33m)\u001b[0m      \u001b[1;31m# NameError because dict is deleted\u001b[0m\u001b[1;33m\u001b[0m\u001b[1;33m\u001b[0m\u001b[0m\n\u001b[0m",
      "\u001b[1;31mNameError\u001b[0m: name 'squares' is not defined"
     ]
    }
   ],
   "source": [
    "squares = {2:4,3:9,4:16,5:25}\n",
    "\n",
    "# delete dictionary itself\n",
    "\n",
    "del squares\n",
    "print(squares)      # NameError because dict is deleted"
   ]
  },
  {
   "cell_type": "markdown",
   "metadata": {},
   "source": [
    "## Dictionary Methods"
   ]
  },
  {
   "cell_type": "raw",
   "metadata": {},
   "source": [
    "1) copy()  -->             copy the whole dictionary\n",
    "2) fromkeys [seq[,v]] --> return new dict with keys from seq and values\n",
    "3) .items()  --->         return a new view of dict (key,values)            ---- list of tuples\n",
    "4) .key() --->            return all key values\n",
    "5) .values() --->         return all values\n",
    "6) dir()     ---->        list of all available method and attribute of dict"
   ]
  },
  {
   "cell_type": "code",
   "execution_count": 13,
   "metadata": {},
   "outputs": [
    {
     "name": "stdout",
     "output_type": "stream",
     "text": [
      "{2: 4, 3: 9, 4: 16, 5: 25}\n"
     ]
    }
   ],
   "source": [
    "# 1) copy()\n",
    "\n",
    "squares ={2:4,3:9,4:16,5:25}\n",
    "\n",
    "my_dict = squares.copy()\n",
    "print(my_dict)"
   ]
  },
  {
   "cell_type": "code",
   "execution_count": 5,
   "metadata": {},
   "outputs": [
    {
     "name": "stdout",
     "output_type": "stream",
     "text": [
      "{'maths': 0, 'english': 0, 'hindi': 0}\n"
     ]
    }
   ],
   "source": [
    "# 2) fromkeys [seq[,v]]\n",
    "\n",
    "subjects ={}.fromkeys([\"maths\" , \"english\", \"hindi\"],0)    # v contian only one elemnt\n",
    "print(subjects)"
   ]
  },
  {
   "cell_type": "code",
   "execution_count": 14,
   "metadata": {},
   "outputs": [
    {
     "name": "stdout",
     "output_type": "stream",
     "text": [
      "dict_items([(2, 4), (3, 9), (4, 16), (5, 25)])\n"
     ]
    }
   ],
   "source": [
    "# .items () ---> (key,value) in particular list\n",
    "\n",
    "squares ={2:4,3:9,4:16,5:25}\n",
    "print(squares.items())"
   ]
  },
  {
   "cell_type": "code",
   "execution_count": 15,
   "metadata": {},
   "outputs": [
    {
     "name": "stdout",
     "output_type": "stream",
     "text": [
      "dict_keys([2, 3, 4, 5])\n"
     ]
    }
   ],
   "source": [
    "#.keys()\n",
    "\n",
    "squares ={2:4,3:9,4:16,5:25}\n",
    "print(squares.keys())"
   ]
  },
  {
   "cell_type": "code",
   "execution_count": 16,
   "metadata": {},
   "outputs": [
    {
     "name": "stdout",
     "output_type": "stream",
     "text": [
      "dict_values([4, 9, 16, 25])\n"
     ]
    }
   ],
   "source": [
    "#.values()\n",
    "\n",
    "squares ={2:4,3:9,4:16,5:25}\n",
    "print(squares.values())"
   ]
  },
  {
   "cell_type": "code",
   "execution_count": 17,
   "metadata": {},
   "outputs": [
    {
     "name": "stdout",
     "output_type": "stream",
     "text": [
      "['In', 'Out', '_', '__', '___', '__builtin__', '__builtins__', '__doc__', '__loader__', '__name__', '__package__', '__spec__', '_dh', '_i', '_i1', '_i10', '_i11', '_i12', '_i13', '_i14', '_i15', '_i16', '_i17', '_i2', '_i3', '_i4', '_i5', '_i6', '_i7', '_i8', '_i9', '_ih', '_ii', '_iii', '_oh', 'd', 'exit', 'get_ipython', 'my_dict', 'pair', 'quit', 'squares', 'subjects']\n"
     ]
    }
   ],
   "source": [
    "# dir()\n",
    "\n",
    "d={}\n",
    "print(dir())"
   ]
  },
  {
   "cell_type": "markdown",
   "metadata": {},
   "source": [
    "## Dict Comprehension"
   ]
  },
  {
   "cell_type": "code",
   "execution_count": 19,
   "metadata": {},
   "outputs": [
    {
     "name": "stdout",
     "output_type": "stream",
     "text": [
      "('a', 1)\n",
      "('b', 2)\n",
      "('c', 3)\n"
     ]
    }
   ],
   "source": [
    "# dict comprehensions are just like comprehension but for dictionary\n",
    "\n",
    "d = {\"a\":1,\"b\":2,\"c\":3}\n",
    "for pair in d.items():\n",
    "        print(pair)"
   ]
  },
  {
   "cell_type": "code",
   "execution_count": 21,
   "metadata": {},
   "outputs": [
    {
     "name": "stdout",
     "output_type": "stream",
     "text": [
      "{'c': 3, 'd': 4, 'e': 5}\n"
     ]
    }
   ],
   "source": [
    "# creating a new dictionary with only pairs where the value is larger than 2\n",
    "d = {\"a\":1,\"b\":2,\"c\":3,\"d\":4,\"e\":5}\n",
    "new_dict={k:v for k,v in d.items() if v>2}\n",
    "print(new_dict)"
   ]
  },
  {
   "cell_type": "code",
   "execution_count": 22,
   "metadata": {},
   "outputs": [
    {
     "name": "stdout",
     "output_type": "stream",
     "text": [
      "{'cc': 6, 'dc': 8, 'ec': 10}\n"
     ]
    }
   ],
   "source": [
    "# we can also perform operations on the key value pairs\n",
    "\n",
    "d = {\"a\":1,\"b\":2,\"c\":3,\"d\":4,\"e\":5}\n",
    "d= {k+\"c\" :v*2 for k,v in d.items() if v>2}\n",
    "print(d)"
   ]
  },
  {
   "cell_type": "code",
   "execution_count": null,
   "metadata": {},
   "outputs": [],
   "source": []
  },
  {
   "cell_type": "markdown",
   "metadata": {},
   "source": [
    "# Strings"
   ]
  },
  {
   "cell_type": "raw",
   "metadata": {},
   "source": [
    "Python , string is a sequence of Unicode character.\n",
    "\n",
    "string are \"immutable\""
   ]
  },
  {
   "cell_type": "markdown",
   "metadata": {},
   "source": [
    "A string is a sequence of characters.\n",
    "\n",
    "Computers do not deal with characters, they deal with numbers (binary). Even though you may see characters on your screen, internally it is stored and manipulated as a combination of 0's and 1's.\n",
    "\n",
    "This conversion of character to a number is called encoding, and the reverse process is decoding. ASCII and Unicode are some of the popular encoding used.\n",
    "\n",
    "In Python, string is a sequence of Unicode character."
   ]
  },
  {
   "cell_type": "markdown",
   "metadata": {},
   "source": [
    "## How to create a strings?"
   ]
  },
  {
   "cell_type": "markdown",
   "metadata": {},
   "source": [
    "Strings can be created by enclosing characters inside a single quote or double quotes.\n",
    "\n",
    "Even triple quotes can be used in Python but generally used to represent multiline strings and docstrings.\n"
   ]
  },
  {
   "cell_type": "code",
   "execution_count": 24,
   "metadata": {},
   "outputs": [
    {
     "name": "stdout",
     "output_type": "stream",
     "text": [
      "hello ashish\n",
      "or kese ho aap sab \n",
      " sab badiya h ya nahi \n"
     ]
    }
   ],
   "source": [
    "myString = 'hello ashish'\n",
    "print(myString)\n",
    "\n",
    "myStr2 = \"or kese ho aap sab \"\n",
    "print(myStr2)\n",
    "\n",
    "myStr3 = \"\"\" sab badiya h ya nahi \"\"\"\n",
    "print(myStr3)"
   ]
  },
  {
   "cell_type": "markdown",
   "metadata": {},
   "source": [
    "## How to access characters in a string?"
   ]
  },
  {
   "cell_type": "markdown",
   "metadata": {},
   "source": [
    "We can access individual characters using indexing and a range of characters using slicing.\n",
    "\n",
    "Index starts from 0.\n",
    "\n",
    "Trying to access a character out of index range will raise an IndexError.\n",
    "\n",
    "The index must be an integer. We can't use float or other types, this will result into TypeError.\n",
    "\n",
    "Python allows negative indexing for its sequences."
   ]
  },
  {
   "cell_type": "code",
   "execution_count": 26,
   "metadata": {},
   "outputs": [
    {
     "name": "stdout",
     "output_type": "stream",
     "text": [
      "h\n",
      "d\n",
      "ello frien\n"
     ]
    }
   ],
   "source": [
    "myStr = \"hello friend \"\n",
    "print(myStr[0])             # access first char\n",
    "\n",
    "# access last 2nd char\n",
    "print(myStr[-2])\n",
    "\n",
    "# Slicing 2nd to 10 char\n",
    "print(myStr[1:11])"
   ]
  },
  {
   "cell_type": "raw",
   "metadata": {},
   "source": [
    " we can't access index value \"out of range \"          ----- Error output\n",
    " we can't access index value using \"decimal number\""
   ]
  },
  {
   "cell_type": "markdown",
   "metadata": {},
   "source": [
    "## How to change or delete  a string ?"
   ]
  },
  {
   "cell_type": "markdown",
   "metadata": {},
   "source": [
    "Strings are immutable. This means that elements of a string cannot be changed once it has been assigned.\n",
    "\n",
    "We can simply reassign different strings to the same name."
   ]
  },
  {
   "cell_type": "code",
   "execution_count": 27,
   "metadata": {},
   "outputs": [
    {
     "ename": "TypeError",
     "evalue": "'str' object does not support item assignment",
     "output_type": "error",
     "traceback": [
      "\u001b[1;31m---------------------------------------------------------------------------\u001b[0m",
      "\u001b[1;31mTypeError\u001b[0m                                 Traceback (most recent call last)",
      "\u001b[1;32m<ipython-input-27-730048df9840>\u001b[0m in \u001b[0;36m<module>\u001b[1;34m\u001b[0m\n\u001b[0;32m      1\u001b[0m \u001b[0mmyStr\u001b[0m \u001b[1;33m=\u001b[0m \u001b[1;34m\"cello\"\u001b[0m\u001b[1;33m\u001b[0m\u001b[1;33m\u001b[0m\u001b[0m\n\u001b[1;32m----> 2\u001b[1;33m \u001b[0mmyStr\u001b[0m\u001b[1;33m[\u001b[0m\u001b[1;36m0\u001b[0m\u001b[1;33m]\u001b[0m \u001b[1;33m=\u001b[0m \u001b[1;34m\"H\"\u001b[0m        \u001b[1;31m# string are immutable\u001b[0m\u001b[1;33m\u001b[0m\u001b[1;33m\u001b[0m\u001b[0m\n\u001b[0m",
      "\u001b[1;31mTypeError\u001b[0m: 'str' object does not support item assignment"
     ]
    }
   ],
   "source": [
    "myStr = \"cello\"\n",
    "myStr[0] = \"H\"        # string are immutable"
   ]
  },
  {
   "cell_type": "raw",
   "metadata": {},
   "source": [
    "We cannot delete or remove characters from a string. But deleting the string entirely is possible using the keyword \"del\" ."
   ]
  },
  {
   "cell_type": "code",
   "execution_count": 28,
   "metadata": {},
   "outputs": [],
   "source": [
    "del myStr     # delete complete string"
   ]
  },
  {
   "cell_type": "code",
   "execution_count": 29,
   "metadata": {},
   "outputs": [
    {
     "ename": "NameError",
     "evalue": "name 'myStr' is not defined",
     "output_type": "error",
     "traceback": [
      "\u001b[1;31m---------------------------------------------------------------------------\u001b[0m",
      "\u001b[1;31mNameError\u001b[0m                                 Traceback (most recent call last)",
      "\u001b[1;32m<ipython-input-29-ede3757523fc>\u001b[0m in \u001b[0;36m<module>\u001b[1;34m\u001b[0m\n\u001b[1;32m----> 1\u001b[1;33m \u001b[0mprint\u001b[0m\u001b[1;33m(\u001b[0m\u001b[0mmyStr\u001b[0m\u001b[1;33m)\u001b[0m\u001b[1;33m\u001b[0m\u001b[1;33m\u001b[0m\u001b[0m\n\u001b[0m",
      "\u001b[1;31mNameError\u001b[0m: name 'myStr' is not defined"
     ]
    }
   ],
   "source": [
    "print(myStr)"
   ]
  },
  {
   "cell_type": "markdown",
   "metadata": {},
   "source": [
    "## String Operations"
   ]
  },
  {
   "cell_type": "markdown",
   "metadata": {},
   "source": [
    "### concatenation"
   ]
  },
  {
   "cell_type": "markdown",
   "metadata": {},
   "source": [
    "Joining of two or more strings into a single one is called concatenation.\n",
    "\n",
    "The + operator does this in Python. Simply writing two string literals together also concatenates them.\n",
    "\n",
    "The * operator can be used to repeat the string for a given number of times."
   ]
  },
  {
   "cell_type": "code",
   "execution_count": 37,
   "metadata": {},
   "outputs": [
    {
     "name": "stdout",
     "output_type": "stream",
     "text": [
      "hello ashish, how are you\n"
     ]
    }
   ],
   "source": [
    "str1 = \"hello \"\n",
    "str2 = \"ashish\"\n",
    "str3 = \" how are you\"\n",
    "# concatenation \n",
    "print( str1 + str2 + \",\" + str3)"
   ]
  },
  {
   "cell_type": "markdown",
   "metadata": {},
   "source": [
    "### Iterating Through String"
   ]
  },
  {
   "cell_type": "code",
   "execution_count": 38,
   "metadata": {},
   "outputs": [
    {
     "name": "stdout",
     "output_type": "stream",
     "text": [
      "2 letters found\n"
     ]
    }
   ],
   "source": [
    "count = 0\n",
    "for a in \"hello world\":\n",
    "    if a ==\"o\" :\n",
    "        count += 1\n",
    "print(count, \"letters found\")"
   ]
  },
  {
   "cell_type": "markdown",
   "metadata": {},
   "source": [
    "### String Membership Test  -  \"in\""
   ]
  },
  {
   "cell_type": "code",
   "execution_count": 39,
   "metadata": {},
   "outputs": [
    {
     "name": "stdout",
     "output_type": "stream",
     "text": [
      "True\n"
     ]
    }
   ],
   "source": [
    "print(\"l\" in \"hello world\")"
   ]
  },
  {
   "cell_type": "code",
   "execution_count": 44,
   "metadata": {},
   "outputs": [
    {
     "name": "stdout",
     "output_type": "stream",
     "text": [
      "False\n"
     ]
    }
   ],
   "source": [
    "print(\"or\" not in \"hello world\")            # \"or\" in world"
   ]
  },
  {
   "cell_type": "code",
   "execution_count": 45,
   "metadata": {},
   "outputs": [
    {
     "name": "stdout",
     "output_type": "stream",
     "text": [
      "False\n"
     ]
    }
   ],
   "source": [
    "print(\"H\" in \"hello world\")     # here \"h\" is capital"
   ]
  },
  {
   "cell_type": "markdown",
   "metadata": {},
   "source": [
    "## String Method"
   ]
  },
  {
   "cell_type": "markdown",
   "metadata": {},
   "source": [
    "Some of the commonly used methods are lower(), upper(), join(), split(), find(), replace() etc"
   ]
  },
  {
   "cell_type": "code",
   "execution_count": 46,
   "metadata": {},
   "outputs": [
    {
     "data": {
      "text/plain": [
       "'ashish'"
      ]
     },
     "execution_count": 46,
     "metadata": {},
     "output_type": "execute_result"
    }
   ],
   "source": [
    "# lower()\n",
    "\"ashish\".lower()"
   ]
  },
  {
   "cell_type": "code",
   "execution_count": 47,
   "metadata": {},
   "outputs": [
    {
     "data": {
      "text/plain": [
       "'ASHISH'"
      ]
     },
     "execution_count": 47,
     "metadata": {},
     "output_type": "execute_result"
    }
   ],
   "source": [
    "# upper()\n",
    "\"ashish\".upper()"
   ]
  },
  {
   "cell_type": "code",
   "execution_count": 61,
   "metadata": {},
   "outputs": [
    {
     "data": {
      "text/plain": [
       "['this', 'will', 'split', 'all', 'worlds', 'in', 'a', 'list']"
      ]
     },
     "execution_count": 61,
     "metadata": {},
     "output_type": "execute_result"
    }
   ],
   "source": [
    "# split()\n",
    "\"this will split all worlds in a list \".split()"
   ]
  },
  {
   "cell_type": "code",
   "execution_count": 62,
   "metadata": {},
   "outputs": [
    {
     "data": {
      "text/plain": [
       "'this will split all worlds in a list'"
      ]
     },
     "execution_count": 62,
     "metadata": {},
     "output_type": "execute_result"
    }
   ],
   "source": [
    "# \"\".join([])\n",
    "\n",
    "\" \".join(['this', 'will', 'split', 'all', 'worlds', 'in', 'a', 'list'])\n"
   ]
  },
  {
   "cell_type": "code",
   "execution_count": 65,
   "metadata": {},
   "outputs": [
    {
     "data": {
      "text/plain": [
       "'this , will , split , all , worlds , in , a , list'"
      ]
     },
     "execution_count": 65,
     "metadata": {},
     "output_type": "execute_result"
    }
   ],
   "source": [
    "\" , \".join(['this', 'will', 'split', 'all', 'worlds', 'in', 'a', 'list'])"
   ]
  },
  {
   "cell_type": "code",
   "execution_count": 66,
   "metadata": {},
   "outputs": [
    {
     "data": {
      "text/plain": [
       "'this - will - split - all - worlds - in - a - list'"
      ]
     },
     "execution_count": 66,
     "metadata": {},
     "output_type": "execute_result"
    }
   ],
   "source": [
    "\" - \".join(['this', 'will', 'split', 'all', 'worlds', 'in', 'a', 'list'])"
   ]
  },
  {
   "cell_type": "code",
   "execution_count": 67,
   "metadata": {},
   "outputs": [
    {
     "data": {
      "text/plain": [
       "5"
      ]
     },
     "execution_count": 67,
     "metadata": {},
     "output_type": "execute_result"
    }
   ],
   "source": [
    "# find()\n",
    "\"Good Morning \".find(\"Mo\")"
   ]
  },
  {
   "cell_type": "code",
   "execution_count": 54,
   "metadata": {},
   "outputs": [
    {
     "data": {
      "text/plain": [
       "-1"
      ]
     },
     "execution_count": 54,
     "metadata": {},
     "output_type": "execute_result"
    }
   ],
   "source": [
    "\"Good Morning \".find(\"mo\")   # m is smaller and in \"Morning\" -- o/p -1"
   ]
  },
  {
   "cell_type": "code",
   "execution_count": 68,
   "metadata": {},
   "outputs": [
    {
     "name": "stdout",
     "output_type": "stream",
     "text": [
      "Bad Morning\n",
      "Bad is convert into Good\n",
      "Good Morning\n"
     ]
    }
   ],
   "source": [
    "# .replace()\n",
    "\n",
    "s1= \"Bad Morning\"\n",
    "s2= s1.replace(\"Bad\",\"Good\")\n",
    "print(s1)\n",
    "print(\"Bad is convert into Good\")\n",
    "print(s2)"
   ]
  },
  {
   "cell_type": "markdown",
   "metadata": {},
   "source": [
    "### Python Program to check where a string is Palindrome or not ?"
   ]
  },
  {
   "cell_type": "code",
   "execution_count": 70,
   "metadata": {},
   "outputs": [
    {
     "name": "stdout",
     "output_type": "stream",
     "text": [
      "Given String is Palindrome\n"
     ]
    }
   ],
   "source": [
    "myStr = \"Madam\"\n",
    "\n",
    "# convert entrie string to either lower or upper \n",
    "myStr = myStr.lower()\n",
    "\n",
    "# reverse the string\n",
    "revStr = reversed(myStr)\n",
    "\n",
    "# check if string is equal to reverse string\n",
    "if list(myStr) == list(revStr):\n",
    "    print(\"Given String is Palindrome\")\n",
    "else:\n",
    "    print(\"Given string is not Palindrome\")"
   ]
  },
  {
   "cell_type": "markdown",
   "metadata": {},
   "source": [
    "### Python Program to sort words in Alphabetic order?"
   ]
  },
  {
   "cell_type": "code",
   "execution_count": 76,
   "metadata": {},
   "outputs": [
    {
     "name": "stdout",
     "output_type": "stream",
     "text": [
      "Program\n",
      "Python\n",
      "alphabetic\n",
      "in\n",
      "order\n",
      "sort\n",
      "to\n",
      "words\n"
     ]
    }
   ],
   "source": [
    "myStr = \"Python Program to sort words in alphabetic order\"\n",
    "\n",
    "# breakdown the string into list of word\n",
    "words = myStr.split()\n",
    "\n",
    "# sort the list\n",
    "words.sort()\n",
    "\n",
    "# print sorted \n",
    "#print(words)\n",
    "\n",
    "for word in words:\n",
    "    print(word)"
   ]
  },
  {
   "cell_type": "code",
   "execution_count": 77,
   "metadata": {},
   "outputs": [
    {
     "name": "stdout",
     "output_type": "stream",
     "text": [
      "Alphabetic\n",
      "Order\n",
      "Program\n",
      "Python\n",
      "Sort\n",
      "in\n",
      "to\n",
      "words\n"
     ]
    }
   ],
   "source": [
    "myStr = \"Python Program to Sort words in Alphabetic Order\"\n",
    "\n",
    "#breakdown the string into list of words\n",
    "words = myStr.split()\n",
    "\n",
    "#sort the list\n",
    "words.sort()\n",
    "\n",
    "#print Sorted words are\n",
    "for word in words:\n",
    "    print(word)"
   ]
  },
  {
   "cell_type": "code",
   "execution_count": 78,
   "metadata": {},
   "outputs": [],
   "source": [
    "# in case string contain lower or upper make not same"
   ]
  },
  {
   "cell_type": "code",
   "execution_count": null,
   "metadata": {},
   "outputs": [],
   "source": []
  }
 ],
 "metadata": {
  "kernelspec": {
   "display_name": "Python 3",
   "language": "python",
   "name": "python3"
  },
  "language_info": {
   "codemirror_mode": {
    "name": "ipython",
    "version": 3
   },
   "file_extension": ".py",
   "mimetype": "text/x-python",
   "name": "python",
   "nbconvert_exporter": "python",
   "pygments_lexer": "ipython3",
   "version": "3.7.6"
  }
 },
 "nbformat": 4,
 "nbformat_minor": 5
}
