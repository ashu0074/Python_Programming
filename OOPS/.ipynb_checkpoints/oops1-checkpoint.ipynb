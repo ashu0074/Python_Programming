{
 "cells": [
  {
   "cell_type": "markdown",
   "metadata": {},
   "source": [
    "# Oops, Abstraction and Inheritance"
   ]
  },
  {
   "cell_type": "raw",
   "metadata": {},
   "source": [
    "*args :-The special syntax *args in function definitions in python is used to pass a variable number of arguments to a function. It is used to pass a non-key worded, variable-length argument list.\n"
   ]
  },
  {
   "cell_type": "code",
   "execution_count": 16,
   "metadata": {},
   "outputs": [],
   "source": [
    "class test:\n",
    "    def __init__(self,a,b,c,d):\n",
    "        self.__a=a\n",
    "        self.b=b\n",
    "        self.c=c\n",
    "        self.d=d\n",
    "    \n",
    "    def test_customer(self, v ):\n",
    "        return v - self.__a\n",
    "    \n",
    "    def __str__(self):\n",
    "        return \"this is my test code for abstraction\""
   ]
  },
  {
   "cell_type": "code",
   "execution_count": 17,
   "metadata": {},
   "outputs": [],
   "source": [
    "o = test(4,5,6,7)"
   ]
  },
  {
   "cell_type": "code",
   "execution_count": 19,
   "metadata": {},
   "outputs": [
    {
     "ename": "AttributeError",
     "evalue": "'test' object has no attribute '__a'",
     "output_type": "error",
     "traceback": [
      "\u001b[0;31m---------------------------------------------------------------------------\u001b[0m",
      "\u001b[0;31mAttributeError\u001b[0m                            Traceback (most recent call last)",
      "\u001b[0;32m<ipython-input-19-1e42657c998a>\u001b[0m in \u001b[0;36m<module>\u001b[0;34m\u001b[0m\n\u001b[0;32m----> 1\u001b[0;31m \u001b[0mo\u001b[0m\u001b[0;34m.\u001b[0m\u001b[0m__a\u001b[0m\u001b[0;34m\u001b[0m\u001b[0;34m\u001b[0m\u001b[0m\n\u001b[0m",
      "\u001b[0;31mAttributeError\u001b[0m: 'test' object has no attribute '__a'"
     ]
    }
   ],
   "source": [
    "o.__a"
   ]
  },
  {
   "cell_type": "raw",
   "metadata": {},
   "source": [
    "In case \"__a\" is private and\n",
    "if we use \"_a\" is protected\n",
    "and  if we use \"a\" default public"
   ]
  },
  {
   "cell_type": "code",
   "execution_count": 22,
   "metadata": {},
   "outputs": [
    {
     "data": {
      "text/plain": [
       "4"
      ]
     },
     "execution_count": 22,
     "metadata": {},
     "output_type": "execute_result"
    }
   ],
   "source": [
    "o._test__a    # this syntax is used to acess the private"
   ]
  },
  {
   "cell_type": "code",
   "execution_count": 23,
   "metadata": {},
   "outputs": [
    {
     "data": {
      "text/plain": [
       "3"
      ]
     },
     "execution_count": 23,
     "metadata": {},
     "output_type": "execute_result"
    }
   ],
   "source": [
    "o.test_customer(7)      "
   ]
  },
  {
   "cell_type": "markdown",
   "metadata": {},
   "source": [
    "# Inheritance "
   ]
  },
  {
   "cell_type": "code",
   "execution_count": 32,
   "metadata": {},
   "outputs": [],
   "source": [
    "class test1(test):          # test case test class inherit in test\n",
    "    def __init__(self, j, *args):\n",
    "        super(test1,self).__init__(*args)\n",
    "        self.j = j\n",
    "        "
   ]
  },
  {
   "cell_type": "code",
   "execution_count": 33,
   "metadata": {},
   "outputs": [
    {
     "data": {
      "text/plain": [
       "6"
      ]
     },
     "execution_count": 33,
     "metadata": {},
     "output_type": "execute_result"
    }
   ],
   "source": [
    "m = test1(4,5,6,7,8)\n",
    "m.b"
   ]
  },
  {
   "cell_type": "code",
   "execution_count": 35,
   "metadata": {},
   "outputs": [
    {
     "data": {
      "text/plain": [
       "4"
      ]
     },
     "execution_count": 35,
     "metadata": {},
     "output_type": "execute_result"
    }
   ],
   "source": [
    "m.j"
   ]
  },
  {
   "cell_type": "code",
   "execution_count": 36,
   "metadata": {},
   "outputs": [
    {
     "data": {
      "text/plain": [
       "7"
      ]
     },
     "execution_count": 36,
     "metadata": {},
     "output_type": "execute_result"
    }
   ],
   "source": [
    "m.c"
   ]
  },
  {
   "cell_type": "raw",
   "metadata": {},
   "source": [
    "1.create class test and test1\n",
    "2.inherit test and test1 into test2\n",
    "3.function a in test\n",
    "4.function a in test1\n",
    "5.test2 should inherit function-a from test1 and test both"
   ]
  },
  {
   "cell_type": "code",
   "execution_count": 39,
   "metadata": {},
   "outputs": [
    {
     "name": "stdout",
     "output_type": "stream",
     "text": [
      "test class\n",
      "test1 class\n"
     ]
    }
   ],
   "source": [
    "class test:\n",
    "    def a(self):\n",
    "        print(\"test class\")\n",
    "class test1:\n",
    "    def a(self):\n",
    "        print(\"test1 class\")\n",
    "\n",
    "class test2():\n",
    "    t=test()\n",
    "    t.a()\n",
    "    t1=test1()\n",
    "    t1.a()\n",
    "      #print(\"test2 class\")\n",
    "t2=test2()"
   ]
  },
  {
   "cell_type": "markdown",
   "metadata": {},
   "source": [
    "This case is only for the work around just hint :\n",
    "first come first serve"
   ]
  },
  {
   "cell_type": "code",
   "execution_count": 41,
   "metadata": {},
   "outputs": [
    {
     "name": "stdout",
     "output_type": "stream",
     "text": [
      "This is class Test\n",
      "This is class Test1\n"
     ]
    }
   ],
   "source": [
    "class Test:\n",
    "    def a(self):\n",
    "        return \"This is class Test\"\n",
    "\n",
    "class Test1:\n",
    "    def a(self):\n",
    "        return \"This is class Test1\"\n",
    "\n",
    "class Test2(Test, Test1):\n",
    "    \"\"\"Test class methods overrides Test1 class methods\"\"\"\n",
    "    pass\n",
    "\n",
    "t2 = Test2()\n",
    "print(t2.a())           # in this case test is run first bcz it come first\n",
    "\n",
    "class Test2(Test1, Test):\n",
    "    \"\"\"Test1 class methods overrides Test class methods\"\"\"\n",
    "    pass\n",
    "\n",
    "t2_ = Test2()\n",
    "print(t2_.a())         ## in this case test1 is run first bcz it come first"
   ]
  },
  {
   "cell_type": "code",
   "execution_count": 43,
   "metadata": {},
   "outputs": [
    {
     "name": "stdout",
     "output_type": "stream",
     "text": [
      "function a from class test\n",
      "function a from class test1\n"
     ]
    }
   ],
   "source": [
    "# another way also\n",
    "\n",
    "class test:\n",
    "    def a(self):\n",
    "        print(\"function a from class test\")\n",
    "\n",
    "class test1:\n",
    "    def a(self):\n",
    "        print(\"function a from class test1\")\n",
    "\n",
    "class test2(test,test1):\n",
    "    def a(self):\n",
    "        test.a(self)\n",
    "        test1.a(self)\n",
    "        \n",
    "t=test2()\n",
    "t.a()"
   ]
  },
  {
   "cell_type": "raw",
   "metadata": {},
   "source": [
    "More example"
   ]
  },
  {
   "cell_type": "code",
   "execution_count": 48,
   "metadata": {},
   "outputs": [
    {
     "name": "stdout",
     "output_type": "stream",
     "text": [
      "Arcgate Company was established in 2005\n"
     ]
    }
   ],
   "source": [
    "class Arcgate:\n",
    "    company_website = \"https ://arcgate.com/\"\n",
    "    name = \"Arcgate\"\n",
    "    \n",
    "    def contact_details(self):\n",
    "        print(\"contact us at \", self.company_website)\n",
    "        \n",
    "        \n",
    "class Datascience(Arcgate):\n",
    "    def __init__(self):\n",
    "        self.year_of_establisment=2005\n",
    "        \n",
    "    def est_details(self):\n",
    "        print('{0} Company was established in {1}'.format(self.name,self.year_of_establisment))\n",
    "\n",
    "        \n",
    "ds = Datascience()\n",
    "ds.est_details()"
   ]
  },
  {
   "cell_type": "code",
   "execution_count": 50,
   "metadata": {},
   "outputs": [
    {
     "name": "stdout",
     "output_type": "stream",
     "text": [
      "multi_task\n",
      "Name: ashish\n"
     ]
    }
   ],
   "source": [
    "class OS:\n",
    "    multi_task = True\n",
    "    os_name = 'Windows OS'\n",
    "    name = \"ashish\"\n",
    " \n",
    " \n",
    "class windows(OS, Arcgate):\n",
    "    def __init__(self):\n",
    "        if self.multi_task is True:\n",
    "            print('multi_task')\n",
    "        print('Name: {}'.format(self.name))\n",
    " \n",
    " \n",
    "windows = windows()\n",
    " "
   ]
  },
  {
   "cell_type": "code",
   "execution_count": 51,
   "metadata": {},
   "outputs": [
    {
     "name": "stdout",
     "output_type": "stream",
     "text": [
      "multi_task\n",
      "Name: Arcgate\n"
     ]
    }
   ],
   "source": [
    "class windows(Arcgate,OS):\n",
    "    def __init__(self):\n",
    "        if self.multi_task is True:\n",
    "            print('multi_task')\n",
    "        print('Name: {}'.format(self.name))\n",
    " \n",
    " \n",
    "windows = windows()"
   ]
  },
  {
   "cell_type": "code",
   "execution_count": 62,
   "metadata": {},
   "outputs": [
    {
     "name": "stdout",
     "output_type": "stream",
     "text": [
      "The company Arcgate offers total 12 different types of courses. Most trending course is Data-Science\n"
     ]
    }
   ],
   "source": [
    "class Arcgate:\n",
    "    num_of_courses = 12\n",
    " \n",
    " \n",
    "class Datascience(Arcgate):\n",
    "    course_type = 'Data-Science'\n",
    " \n",
    " \n",
    "class AI(Datascience):\n",
    "    def __init__(self):\n",
    "        self.company = \"Arcgate\"\n",
    "        print('The company {0} offers total {1} different types of courses. Most trending course is {2}'.format(self.company,self.num_of_courses,self.course_type))\n",
    " \n",
    " \n",
    "AI = AI()"
   ]
  },
  {
   "cell_type": "markdown",
   "metadata": {},
   "source": [
    "# Encaptulation"
   ]
  },
  {
   "cell_type": "code",
   "execution_count": 59,
   "metadata": {},
   "outputs": [],
   "source": [
    "class test:\n",
    "    def __init__(self, a,b,c):\n",
    "        self.a =a \n",
    "        self.b = b\n",
    "        self.c = c \n",
    "        \n",
    "    def __str__(self):\n",
    "        return \"this is the return form my test class \"\n",
    "\n",
    "    \n",
    "class test1 :\n",
    "    def __init__(self, a,b,c):\n",
    "        self.a =a \n",
    "        self.b = b\n",
    "        self.c = c \n",
    "        \n",
    "    def __str__(self):\n",
    "        return \"this is the return form my test1 class \"\n",
    "    \n",
    "class test2:\n",
    "    \n",
    "    def __init__(self, a,b,c):\n",
    "        self.a = a \n",
    "        self.b = b\n",
    "        self.c = c \n",
    "        \n",
    "    def __str__(self):\n",
    "        return \"this is the return form my test2 class \"\n",
    "\n",
    "class final:\n",
    "    \n",
    "    def __init__(self,x,y,z):\n",
    "        self.x= x\n",
    "        self.y= y\n",
    "        self.z = z\n",
    "        \n",
    "    def __str__(self) : \n",
    "        \n",
    "        return str(self.x) + \"  \" + str(self.y) + \"  \" + str(self.z)"
   ]
  },
  {
   "cell_type": "code",
   "execution_count": 63,
   "metadata": {},
   "outputs": [
    {
     "name": "stdout",
     "output_type": "stream",
     "text": [
      "this is the return form my test class   this is the return form my test1 class   this is the return form my test2 class \n"
     ]
    }
   ],
   "source": [
    "t= test(45,55,6)\n",
    "t1=test1(55,66,77)\n",
    "t2=test2(5,6,8)\n",
    "f = final(t,t1,t2)"
   ]
  },
  {
   "cell_type": "code",
   "execution_count": 65,
   "metadata": {},
   "outputs": [
    {
     "name": "stdout",
     "output_type": "stream",
     "text": [
      "this is the return form my test class   this is the return form my test1 class   asu\n"
     ]
    }
   ],
   "source": [
    "print(f)"
   ]
  },
  {
   "cell_type": "code",
   "execution_count": 66,
   "metadata": {},
   "outputs": [],
   "source": [
    "t= test(45,55,6)\n",
    "t1=test1(55,66,77)\n",
    "t2=test2(5,6,8)\n",
    "f = final(t,t1,\"asu\")"
   ]
  },
  {
   "cell_type": "code",
   "execution_count": 67,
   "metadata": {},
   "outputs": [
    {
     "name": "stdout",
     "output_type": "stream",
     "text": [
      "this is the return form my test class   this is the return form my test1 class   asu\n"
     ]
    }
   ],
   "source": [
    "print(f)"
   ]
  },
  {
   "cell_type": "code",
   "execution_count": null,
   "metadata": {},
   "outputs": [],
   "source": []
  }
 ],
 "metadata": {
  "kernelspec": {
   "display_name": "Python 3",
   "language": "python",
   "name": "python3"
  },
  "language_info": {
   "codemirror_mode": {
    "name": "ipython",
    "version": 3
   },
   "file_extension": ".py",
   "mimetype": "text/x-python",
   "name": "python",
   "nbconvert_exporter": "python",
   "pygments_lexer": "ipython3",
   "version": "3.6.10"
  }
 },
 "nbformat": 4,
 "nbformat_minor": 4
}
