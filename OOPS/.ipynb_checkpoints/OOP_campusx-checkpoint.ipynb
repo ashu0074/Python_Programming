{
 "cells": [
  {
   "cell_type": "code",
   "execution_count": 1,
   "metadata": {},
   "outputs": [
    {
     "ename": "AttributeError",
     "evalue": "'list' object has no attribute 'upper'",
     "output_type": "error",
     "traceback": [
      "\u001b[0;31m---------------------------------------------------------------------------\u001b[0m",
      "\u001b[0;31mAttributeError\u001b[0m                            Traceback (most recent call last)",
      "\u001b[0;32m<ipython-input-1-9fa8b0af59ef>\u001b[0m in \u001b[0;36m<module>\u001b[0;34m\u001b[0m\n\u001b[1;32m      1\u001b[0m \u001b[0mL\u001b[0m \u001b[0;34m=\u001b[0m \u001b[0;34m[\u001b[0m\u001b[0;36m1\u001b[0m\u001b[0;34m,\u001b[0m\u001b[0;36m2\u001b[0m\u001b[0;34m,\u001b[0m\u001b[0;36m3\u001b[0m\u001b[0;34m]\u001b[0m\u001b[0;34m\u001b[0m\u001b[0;34m\u001b[0m\u001b[0m\n\u001b[0;32m----> 2\u001b[0;31m \u001b[0mL\u001b[0m\u001b[0;34m.\u001b[0m\u001b[0mupper\u001b[0m\u001b[0;34m(\u001b[0m\u001b[0;34m)\u001b[0m\u001b[0;34m\u001b[0m\u001b[0;34m\u001b[0m\u001b[0m\n\u001b[0m",
      "\u001b[0;31mAttributeError\u001b[0m: 'list' object has no attribute 'upper'"
     ]
    }
   ],
   "source": [
    "L = [1,2,3]\n",
    "L.upper()"
   ]
  },
  {
   "cell_type": "markdown",
   "metadata": {},
   "source": [
    "* List no have any \"Upper function\" \n",
    "* String Contain the \"Upper Function\""
   ]
  },
  {
   "cell_type": "code",
   "execution_count": 2,
   "metadata": {},
   "outputs": [
    {
     "ename": "AttributeError",
     "evalue": "'str' object has no attribute 'append'",
     "output_type": "error",
     "traceback": [
      "\u001b[0;31m---------------------------------------------------------------------------\u001b[0m",
      "\u001b[0;31mAttributeError\u001b[0m                            Traceback (most recent call last)",
      "\u001b[0;32m<ipython-input-2-bde5d875672f>\u001b[0m in \u001b[0;36m<module>\u001b[0;34m\u001b[0m\n\u001b[1;32m      1\u001b[0m \u001b[0ms\u001b[0m \u001b[0;34m=\u001b[0m \u001b[0;34m\"Hello\"\u001b[0m\u001b[0;34m\u001b[0m\u001b[0;34m\u001b[0m\u001b[0m\n\u001b[0;32m----> 2\u001b[0;31m \u001b[0ms\u001b[0m\u001b[0;34m.\u001b[0m\u001b[0mappend\u001b[0m\u001b[0;34m(\u001b[0m\u001b[0;34m\"x\"\u001b[0m\u001b[0;34m)\u001b[0m\u001b[0;34m\u001b[0m\u001b[0;34m\u001b[0m\u001b[0m\n\u001b[0m",
      "\u001b[0;31mAttributeError\u001b[0m: 'str' object has no attribute 'append'"
     ]
    }
   ],
   "source": [
    "s = \"Hello\"\n",
    "s.append(\"x\")"
   ]
  },
  {
   "cell_type": "markdown",
   "metadata": {},
   "source": [
    "### OOPS has power to create his own \"DataType\""
   ]
  },
  {
   "cell_type": "raw",
   "metadata": {},
   "source": [
    "# class basic structure\n",
    "class Car:\n",
    "    color = \"blue\" # data\n",
    "    model = \"sport\" # data\n",
    "    def calculate_avg_speed(km,time):\n",
    "        # some code"
   ]
  },
  {
   "cell_type": "raw",
   "metadata": {},
   "source": [
    "# Object example :-\n",
    "1. car ------> WagorR  //   wagorR = Car()\n",
    "2. Sport  ----> Cricket //   cricket = Sport()\n",
    "3. Animals ----> Langoor //  langoor = Animals()"
   ]
  },
  {
   "cell_type": "code",
   "execution_count": 3,
   "metadata": {},
   "outputs": [
    {
     "data": {
      "text/plain": [
       "[]"
      ]
     },
     "execution_count": 3,
     "metadata": {},
     "output_type": "execute_result"
    }
   ],
   "source": [
    "L = list()\n",
    "L"
   ]
  },
  {
   "cell_type": "markdown",
   "metadata": {},
   "source": [
    "* In case list is the class and the L is the Object of list Class"
   ]
  },
  {
   "cell_type": "code",
   "execution_count": 4,
   "metadata": {},
   "outputs": [],
   "source": [
    "# Object literal -> provide a special functionality \n",
    "a = [1,2,3]"
   ]
  },
  {
   "cell_type": "code",
   "execution_count": 5,
   "metadata": {},
   "outputs": [
    {
     "data": {
      "text/plain": [
       "''"
      ]
     },
     "execution_count": 5,
     "metadata": {},
     "output_type": "execute_result"
    }
   ],
   "source": [
    "s = str()\n",
    "s"
   ]
  },
  {
   "cell_type": "code",
   "execution_count": 6,
   "metadata": {},
   "outputs": [],
   "source": [
    "# Code -- Small Banking application"
   ]
  },
  {
   "cell_type": "markdown",
   "metadata": {},
   "source": [
    "### Note:-\n",
    "##### Constructor :- it is special function ---> which have super power --> without calling the \"Constructor\" function it automatically execute when we create object of the Class "
   ]
  },
  {
   "cell_type": "code",
   "execution_count": 7,
   "metadata": {},
   "outputs": [],
   "source": [
    "class Car:\n",
    "    def __init__(self):              # Constructor\n",
    "        self.model = ''\n",
    "        self.avg = 20\n",
    "        print(\"mai to execute ho gya\")"
   ]
  },
  {
   "cell_type": "code",
   "execution_count": 8,
   "metadata": {},
   "outputs": [
    {
     "name": "stdout",
     "output_type": "stream",
     "text": [
      "mai to execute ho gya\n"
     ]
    }
   ],
   "source": [
    "Alto = Car()"
   ]
  },
  {
   "cell_type": "markdown",
   "metadata": {},
   "source": [
    "* It automatically show the print statement inside the constructor so it's mean Constructor no Need to execute it's automatically execute"
   ]
  },
  {
   "cell_type": "code",
   "execution_count": null,
   "metadata": {},
   "outputs": [],
   "source": [
    "class Atm:\n",
    "    \n",
    "    # constructor\n",
    "    def __init__(self):\n",
    "        self.pin = ''\n",
    "        self.balance = 0\n",
    "        self.menu()\n",
    "        \n",
    "    def menu(self):\n",
    "        user_input=input(\"\"\"\n",
    "        HI how can i help you  ? \n",
    "        1. Press 1 to create pin \n",
    "        2. Press 2 to change pin \n",
    "        3. Press 3 to check the balance\n",
    "        4. Press 4 to withdraw \n",
    "        \"\"\")\n",
    "        \n",
    "        \n",
    "        if user_input == '1':\n",
    "            self.create_pin()\n",
    "        elif user_input == '2':\n",
    "            self.change_pin() \n",
    "        elif user_input == '3':\n",
    "            self.check_balance()\n",
    "        elif user_input == '4':\n",
    "            self.withdraw()\n",
    "        else:\n",
    "            exit()\n",
    "        \n",
    "    # to create the pin :-   # create_pin it is Method\n",
    "    def create_pin(self):\n",
    "        user_pin =input(\"Enter your pin : \")\n",
    "        self.pin = user_pin\n",
    "        \n",
    "        # at just concern we ask him for the balance also:-\n",
    "        user_balance = int(input(\"Enter balance\"))\n",
    "        self.balance = user_balance\n",
    "        \n",
    "        print(\"Pin Created Successfully\")\n",
    "        self.menu()\n",
    "        \n",
    "    def change_pin(self):\n",
    "        old_pin = input(\"Enter the older pin : \")\n",
    "        \n",
    "        if old_pin == self.pin :\n",
    "            # let him change the pin \n",
    "            new_pin=input(\"Enter the new pin \")\n",
    "            self.pin = new_pin\n",
    "            print(\"pin change Successfully\")\n",
    "            self.menu()\n",
    "        else:\n",
    "            print(\"You Enter the Wrong Pin \")\n",
    "            self.menu()\n",
    "            \n",
    "    def check_balance(self):\n",
    "        user_pin=input(\"Enter the pin \")\n",
    "        if user_pin == self.pin:\n",
    "            print(\"Your Balance is : \", self.balance)\n",
    "            self.menu()\n",
    "        else:\n",
    "            print(\"You Enter the Wrong pin\")\n",
    "            self.menu()\n",
    "        \n",
    "    def withdraw(self):\n",
    "        user_pin = input(\"Enter the pin \")\n",
    "        if user_pin == self.pin:\n",
    "            amount=int(input(\"Enter the amout to withdraw\"))\n",
    "            if amount <= self.balance:\n",
    "                self.balance = self.balance - amount\n",
    "                print(\"withdrawl successfully payment , Your Balance is : \",self.balance)\n",
    "            else:\n",
    "                print(\"You don't have Enough Balance \")\n",
    "        else:\n",
    "            print(\"You Enter the Wrong Pin \")\n",
    "        self.menu()\n",
    "        \n",
    "    "
   ]
  },
  {
   "cell_type": "code",
   "execution_count": null,
   "metadata": {},
   "outputs": [],
   "source": [
    "obj1 = Atm()"
   ]
  },
  {
   "cell_type": "markdown",
   "metadata": {},
   "source": [
    "### Method and Function:-"
   ]
  },
  {
   "cell_type": "code",
   "execution_count": 9,
   "metadata": {},
   "outputs": [],
   "source": [
    "L = [1,2,3]\n",
    "len(L)        # len is the Function --> becoz it is outside the list class\n",
    "L.append(4)  # append is Method -- > it is part of the list class"
   ]
  },
  {
   "cell_type": "code",
   "execution_count": 10,
   "metadata": {},
   "outputs": [
    {
     "data": {
      "text/plain": [
       "[1, 2, 3, 4]"
      ]
     },
     "execution_count": 10,
     "metadata": {},
     "output_type": "execute_result"
    }
   ],
   "source": []
  },
  {
   "cell_type": "markdown",
   "metadata": {},
   "source": [
    "### Constructor:-\n",
    "* Constructor is uses to write a \"Configuational Code \"\n",
    "* Constructor is part where it autorunn when we create an object, In case we no require \"User Interfernce\" \n",
    "###### application ko backend se connect kerna h uska code me Constructor me likhuga "
   ]
  },
  {
   "cell_type": "code",
   "execution_count": 1,
   "metadata": {},
   "outputs": [],
   "source": [
    "class Atm:\n",
    "    \n",
    "    # constructor\n",
    "    def __init__(self):\n",
    "        print(id(self))\n",
    "        self.pin = ''\n",
    "        self.balance = 0\n",
    "        #self.menu()\n",
    "        \n",
    "    def menu(self):\n",
    "        user_input=input(\"\"\"\n",
    "        HI how can i help you  ? \n",
    "        1. Press 1 to create pin \n",
    "        2. Press 2 to change pin \n",
    "        3. Press 3 to check the balance\n",
    "        4. Press 4 to withdraw \n",
    "        \"\"\")\n",
    "        \n",
    "        \n",
    "        if user_input == '1':\n",
    "            self.create_pin()\n",
    "        elif user_input == '2':\n",
    "            self.change_pin() \n",
    "        elif user_input == '3':\n",
    "            self.check_balance()\n",
    "        elif user_input == '4':\n",
    "            self.withdraw()\n",
    "        else:\n",
    "            exit()\n",
    "        \n",
    "    # to create the pin :-   # create_pin it is Method\n",
    "    def create_pin(self):\n",
    "        user_pin =input(\"Enter your pin : \")\n",
    "        self.pin = user_pin\n",
    "        \n",
    "        # at just concern we ask him for the balance also:-\n",
    "        user_balance = int(input(\"Enter balance\"))\n",
    "        self.balance = user_balance\n",
    "        \n",
    "        print(\"Pin Created Successfully\")\n",
    "        self.menu()\n",
    "        \n",
    "    def change_pin(self):\n",
    "        old_pin = input(\"Enter the older pin : \")\n",
    "        \n",
    "        if old_pin == self.pin :\n",
    "            # let him change the pin \n",
    "            new_pin=input(\"Enter the new pin \")\n",
    "            self.pin = new_pin\n",
    "            print(\"pin change Successfully\")\n",
    "            self.menu()\n",
    "        else:\n",
    "            print(\"You Enter the Wrong Pin \")\n",
    "            self.menu()\n",
    "            \n",
    "    def check_balance(self):\n",
    "        user_pin=input(\"Enter the pin \")\n",
    "        if user_pin == self.pin:\n",
    "            print(\"Your Balance is : \", self.balance)\n",
    "            self.menu()\n",
    "        else:\n",
    "            print(\"You Enter the Wrong pin\")\n",
    "            self.menu()\n",
    "        \n",
    "    def withdraw(self):\n",
    "        user_pin = input(\"Enter the pin \")\n",
    "        if user_pin == self.pin:\n",
    "            amount=int(input(\"Enter the amout to withdraw\"))\n",
    "            if amount <= self.balance:\n",
    "                self.balance = self.balance - amount\n",
    "                print(\"withdrawl successfully payment , Your Balance is : \",self.balance)\n",
    "            else:\n",
    "                print(\"You don't have Enough Balance \")\n",
    "        else:\n",
    "            print(\"You Enter the Wrong Pin \")\n",
    "        self.menu()\n",
    "        \n",
    "    "
   ]
  },
  {
   "cell_type": "code",
   "execution_count": 2,
   "metadata": {},
   "outputs": [
    {
     "name": "stdout",
     "output_type": "stream",
     "text": [
      "140704917353808\n"
     ]
    }
   ],
   "source": [
    "obj2 = Atm()\n",
    "# it print the id of \"self\""
   ]
  },
  {
   "cell_type": "code",
   "execution_count": 3,
   "metadata": {},
   "outputs": [
    {
     "data": {
      "text/plain": [
       "140704917353808"
      ]
     },
     "execution_count": 3,
     "metadata": {},
     "output_type": "execute_result"
    }
   ],
   "source": [
    "# or it show the id of \"Object\"\n",
    "id(obj2)"
   ]
  },
  {
   "cell_type": "markdown",
   "metadata": {},
   "source": [
    "* In case we can easily conclude that \n",
    "#### Self is \"Object\"\n",
    "* and \"Object\" can only access the class atrribute and Method of class\n",
    "* \"Self\" help to communicate b/w two method inside the class"
   ]
  },
  {
   "cell_type": "markdown",
   "metadata": {},
   "source": [
    "## Making our own datatype"
   ]
  },
  {
   "cell_type": "code",
   "execution_count": 9,
   "metadata": {},
   "outputs": [],
   "source": [
    "# parameterized constructor\n",
    "class Frac:\n",
    "    def __init__(self,x,y):\n",
    "        self.num = x\n",
    "        self.den = y\n",
    "        \n",
    "    def __str__(self):\n",
    "        return \"chalo bhai\"\n",
    "    \n",
    "    \n",
    "    \n",
    "    "
   ]
  },
  {
   "cell_type": "code",
   "execution_count": 10,
   "metadata": {},
   "outputs": [],
   "source": [
    "fri = Frac(3,4)"
   ]
  },
  {
   "cell_type": "code",
   "execution_count": 11,
   "metadata": {},
   "outputs": [
    {
     "name": "stdout",
     "output_type": "stream",
     "text": [
      "chalo bhai\n"
     ]
    }
   ],
   "source": [
    "print(fri)"
   ]
  },
  {
   "cell_type": "code",
   "execution_count": 33,
   "metadata": {},
   "outputs": [],
   "source": [
    "# Fraction \n",
    "class Fraction:\n",
    "    def __init__(self, a, b):\n",
    "        self.num = a\n",
    "        self.deno = b\n",
    "        \n",
    "    def __str__(self):\n",
    "        return \"{}/{}\".format(self.num,self.deno)\n",
    "    \n",
    "    def __add__(self, other):\n",
    "        new_num = self.num*other.deno + other.num* self.deno\n",
    "        new_deno = self.deno*other.deno\n",
    "        \n",
    "        return \"{}/{}\".format(new_num,new_deno)\n",
    "    \n",
    "    def __sub__(self, other):\n",
    "        new_num = self.num*other.deno - other.num*self.deno\n",
    "        new_deno = self.deno * other.deno\n",
    "        \n",
    "        return \"{}/{}\".format(new_num,new_deno)\n",
    "    \n",
    "    def __mul__(self, other):\n",
    "        new_num = self.num * other.num\n",
    "        new_deno = self.deno * other.deno\n",
    "        \n",
    "        return \"{}/{}\".format(new_num, new_deno)\n",
    "    \n",
    "    def __truediv__(self, other):\n",
    "        new_num = self.num * other.deno\n",
    "        new_deno = self.deno * other.num\n",
    "        \n",
    "        return \"{}/{}\".format(new_deno,new_deno)\n",
    "    \n",
    "    # add non magic word:\n",
    "    def convert_to_decimal(self):\n",
    "        return self.num/ self.deno\n",
    "        \n",
    "    "
   ]
  },
  {
   "cell_type": "code",
   "execution_count": 34,
   "metadata": {},
   "outputs": [],
   "source": [
    "fri1 = Fraction(12,3)\n",
    "fri2 = Fraction(1,2)"
   ]
  },
  {
   "cell_type": "code",
   "execution_count": 18,
   "metadata": {},
   "outputs": [
    {
     "name": "stdout",
     "output_type": "stream",
     "text": [
      "12/3\n"
     ]
    }
   ],
   "source": [
    "print(fri1)"
   ]
  },
  {
   "cell_type": "code",
   "execution_count": 19,
   "metadata": {},
   "outputs": [
    {
     "name": "stdout",
     "output_type": "stream",
     "text": [
      "1/2\n"
     ]
    }
   ],
   "source": [
    "print(fri2)"
   ]
  },
  {
   "cell_type": "code",
   "execution_count": 20,
   "metadata": {},
   "outputs": [
    {
     "name": "stdout",
     "output_type": "stream",
     "text": [
      "27/6\n"
     ]
    }
   ],
   "source": [
    "print(fri1 + fri2)"
   ]
  },
  {
   "cell_type": "code",
   "execution_count": 28,
   "metadata": {},
   "outputs": [
    {
     "name": "stdout",
     "output_type": "stream",
     "text": [
      "21/6\n"
     ]
    }
   ],
   "source": [
    "print(fri1 - fri2)"
   ]
  },
  {
   "cell_type": "code",
   "execution_count": 29,
   "metadata": {},
   "outputs": [
    {
     "name": "stdout",
     "output_type": "stream",
     "text": [
      "12/6\n"
     ]
    }
   ],
   "source": [
    "print(fri1 * fri2)"
   ]
  },
  {
   "cell_type": "code",
   "execution_count": 32,
   "metadata": {},
   "outputs": [
    {
     "name": "stdout",
     "output_type": "stream",
     "text": [
      "3/3\n"
     ]
    }
   ],
   "source": [
    "print(fri1 / fri2)"
   ]
  },
  {
   "cell_type": "code",
   "execution_count": 35,
   "metadata": {},
   "outputs": [
    {
     "data": {
      "text/plain": [
       "4.0"
      ]
     },
     "execution_count": 35,
     "metadata": {},
     "output_type": "execute_result"
    }
   ],
   "source": [
    "fri1.convert_to_decimal()"
   ]
  },
  {
   "cell_type": "code",
   "execution_count": 36,
   "metadata": {},
   "outputs": [
    {
     "data": {
      "text/plain": [
       "0.5"
      ]
     },
     "execution_count": 36,
     "metadata": {},
     "output_type": "execute_result"
    }
   ],
   "source": [
    "fri2.convert_to_decimal()"
   ]
  },
  {
   "cell_type": "code",
   "execution_count": null,
   "metadata": {},
   "outputs": [],
   "source": []
  },
  {
   "cell_type": "code",
   "execution_count": null,
   "metadata": {},
   "outputs": [],
   "source": []
  },
  {
   "cell_type": "markdown",
   "metadata": {},
   "source": [
    "Write OOP classes to handle the following scenarios:\n",
    "\n",
    "   * A user can create and view 2D coordinates\n",
    "   * A user can find out the distance between 2 coordinates\n",
    "   * A user can find find the distance of a coordinate from origin\n",
    "   * A user can check if a point lies on a given line\n",
    "   * A user can find the distance between a given 2D point and a given line\n"
   ]
  },
  {
   "cell_type": "code",
   "execution_count": 45,
   "metadata": {},
   "outputs": [],
   "source": [
    "class Point:\n",
    "    \n",
    "    def __init__(self,x,y):\n",
    "        self.x_cod = x\n",
    "        self.y_cod = y\n",
    "        \n",
    "    def __str__(self):\n",
    "        return \"({},{})\".format(self.x_cod,self.y_cod)\n",
    "    \n",
    "    def euclidean_distance(self,other):\n",
    "        return ((self.x_cod-other.x_cod)**2+(self.y_cod-other.y_cod)**2)**0.5\n",
    "        # return distance b/w two points corridnate\n",
    "        \n",
    "    def distance_from_origin(self):\n",
    "        return(self.x_cod**2 + self.y_cod**2)**0.5\n",
    "        #return self.euclidean_distance(Point(0,0))\n",
    "        \n",
    "class Line:\n",
    "    \n",
    "    def __init__(self,A,B,C):\n",
    "        self.A = A\n",
    "        self.B = B\n",
    "        self.C = C\n",
    "        \n",
    "    def __str__(self):\n",
    "        return(\"{}x + {}y + {} = 0\".format(self.A,self.B,self.C))\n",
    "    \n",
    "    # to check point lie on the line or not so we can put the cordinate of point in line\n",
    "    def point_on_line(line,point):  # self is work as line\n",
    "        if line.A*point.x_cod + line.B*point.y_cod +line.C == 0:\n",
    "            return \"Lies on the line\"\n",
    "        else:\n",
    "            return \"Does not lie on the line\"\n",
    "        \n",
    "        \n",
    "    # to find the shortest distance b/w line and point\n",
    "    def shortest_distance(line,point):\n",
    "        return abs(line.A*point.x_cod + line.B*point.y_cod+ line.C)/(line.A**2 + line.B**2)**0.5\n",
    "        \n",
    "    \n",
    "        "
   ]
  },
  {
   "cell_type": "code",
   "execution_count": 31,
   "metadata": {},
   "outputs": [],
   "source": [
    "c = Point(3,4)\n",
    "d = Point(1,2)\n",
    "l1 = Line(3,4,5)"
   ]
  },
  {
   "cell_type": "code",
   "execution_count": 32,
   "metadata": {},
   "outputs": [
    {
     "name": "stdout",
     "output_type": "stream",
     "text": [
      "(3,4)\n",
      "(1,2)\n",
      "2.8284271247461903\n",
      "5.0\n",
      "3x + 4y + 5 = 0\n"
     ]
    }
   ],
   "source": [
    "print(c)\n",
    "print(d)\n",
    "print(Point.euclidean_distance(c,d))\n",
    "print(Point.distance_from_origin(c))\n",
    "print(l1)"
   ]
  },
  {
   "cell_type": "code",
   "execution_count": 33,
   "metadata": {},
   "outputs": [
    {
     "data": {
      "text/plain": [
       "2.8284271247461903"
      ]
     },
     "execution_count": 33,
     "metadata": {},
     "output_type": "execute_result"
    }
   ],
   "source": [
    "c.euclidean_distance(d)\n",
    "# isme c kud self he isliye apne ne other ko hi place kera h "
   ]
  },
  {
   "cell_type": "code",
   "execution_count": 47,
   "metadata": {},
   "outputs": [
    {
     "name": "stdout",
     "output_type": "stream",
     "text": [
      "1x + 1y + -2 = 0\n",
      "(1,1)\n",
      "Lies on the line\n",
      "6.363961030678928\n"
     ]
    }
   ],
   "source": [
    "# Point lie on the line\n",
    "l1 = Line(1,1,-2)\n",
    "p1 = Point(1,1)\n",
    "p2 = Point(1,10)\n",
    "print(l1)\n",
    "print(p1)\n",
    "\n",
    "# l1 is work as self \n",
    "# Line.point_on_line(l1,p1)   or \n",
    "print(l1.point_on_line(p1))\n",
    "print(l1.shortest_distance(p2))\n"
   ]
  },
  {
   "cell_type": "markdown",
   "metadata": {},
   "source": [
    "### How objects access attributes"
   ]
  },
  {
   "cell_type": "code",
   "execution_count": 48,
   "metadata": {},
   "outputs": [],
   "source": [
    "class Person:\n",
    "    def __init__(self,name__input,country_input):\n",
    "        self.name = name__input\n",
    "        self.country = country_input\n",
    "        \n",
    "    def greet(self):\n",
    "        if self.country == 'india':\n",
    "            print(\"Namaste\", self.name)\n",
    "        else:\n",
    "            print(\"Hello\", self.name)"
   ]
  },
  {
   "cell_type": "code",
   "execution_count": 49,
   "metadata": {},
   "outputs": [],
   "source": [
    "# how to access attributes\n",
    "p = Person('ashish','india')"
   ]
  },
  {
   "cell_type": "code",
   "execution_count": 53,
   "metadata": {},
   "outputs": [
    {
     "data": {
      "text/plain": [
       "'ashish'"
      ]
     },
     "execution_count": 53,
     "metadata": {},
     "output_type": "execute_result"
    }
   ],
   "source": [
    "p.name"
   ]
  },
  {
   "cell_type": "code",
   "execution_count": 54,
   "metadata": {},
   "outputs": [
    {
     "data": {
      "text/plain": [
       "'india'"
      ]
     },
     "execution_count": 54,
     "metadata": {},
     "output_type": "execute_result"
    }
   ],
   "source": [
    "p.country"
   ]
  },
  {
   "cell_type": "code",
   "execution_count": 52,
   "metadata": {},
   "outputs": [
    {
     "name": "stdout",
     "output_type": "stream",
     "text": [
      "Namaste ashish\n"
     ]
    }
   ],
   "source": [
    "Person.greet(p)"
   ]
  },
  {
   "cell_type": "markdown",
   "metadata": {},
   "source": [
    "###### Through object we can easily access the \"Attribute\" and \"Method\" both"
   ]
  },
  {
   "cell_type": "code",
   "execution_count": 56,
   "metadata": {},
   "outputs": [
    {
     "name": "stdout",
     "output_type": "stream",
     "text": [
      "Namaste ashish\n"
     ]
    }
   ],
   "source": [
    "p.greet()"
   ]
  },
  {
   "cell_type": "code",
   "execution_count": 57,
   "metadata": {},
   "outputs": [
    {
     "ename": "AttributeError",
     "evalue": "'Person' object has no attribute 'gender'",
     "output_type": "error",
     "traceback": [
      "\u001b[0;31m---------------------------------------------------------------------------\u001b[0m",
      "\u001b[0;31mAttributeError\u001b[0m                            Traceback (most recent call last)",
      "\u001b[0;32m<ipython-input-57-e230c05ce116>\u001b[0m in \u001b[0;36m<module>\u001b[0;34m\u001b[0m\n\u001b[1;32m      1\u001b[0m \u001b[0;31m# What if i try to access non - existent attributes\u001b[0m\u001b[0;34m\u001b[0m\u001b[0;34m\u001b[0m\u001b[0;34m\u001b[0m\u001b[0m\n\u001b[0;32m----> 2\u001b[0;31m \u001b[0mp\u001b[0m\u001b[0;34m.\u001b[0m\u001b[0mgender\u001b[0m\u001b[0;34m(\u001b[0m\u001b[0;34m)\u001b[0m\u001b[0;34m\u001b[0m\u001b[0;34m\u001b[0m\u001b[0m\n\u001b[0m",
      "\u001b[0;31mAttributeError\u001b[0m: 'Person' object has no attribute 'gender'"
     ]
    }
   ],
   "source": [
    "# What if i try to access non - existent attributes\n",
    "p.gender()"
   ]
  },
  {
   "cell_type": "code",
   "execution_count": 60,
   "metadata": {},
   "outputs": [],
   "source": [
    "# P object can add new attribute to the class\n",
    "p.gender ='male'"
   ]
  },
  {
   "cell_type": "markdown",
   "metadata": {},
   "source": [
    "### Reference Variables\n",
    "\n",
    "- Reference variables hold the objects\n",
    "- We can create objects without reference variable as well\n",
    "- An object can have multiple reference variables\n",
    "- Assigning a new reference variable to an existing object does not create a new object"
   ]
  },
  {
   "cell_type": "code",
   "execution_count": 61,
   "metadata": {},
   "outputs": [],
   "source": [
    "# object without a referenceabs\n",
    "class Person:\n",
    "    \n",
    "    def __init__(self):\n",
    "        self.name = 'ashish'\n",
    "        self.gender = 'male'\n",
    "        \n",
    "p = Person()\n",
    "q = p"
   ]
  },
  {
   "cell_type": "markdown",
   "metadata": {},
   "source": [
    "### Note:- imp\n",
    "* p is not an \"Object\", it just contain memory address of object\n",
    "* p contain address of object\n",
    "* Person()  ----> this will create an object at some space/ memory\n",
    "* p = Person()  and q = p\n",
    "** now p and q both contain address of \" Person Class \"\n",
    "\n"
   ]
  },
  {
   "cell_type": "code",
   "execution_count": 62,
   "metadata": {},
   "outputs": [
    {
     "name": "stdout",
     "output_type": "stream",
     "text": [
      "140443278121112\n",
      "140443278121112\n"
     ]
    }
   ],
   "source": [
    "# Multiple ref\n",
    "print(id(p))\n",
    "print(id(q))"
   ]
  },
  {
   "cell_type": "code",
   "execution_count": 63,
   "metadata": {},
   "outputs": [],
   "source": [
    "# change attribute value with the help of 2nd object"
   ]
  },
  {
   "cell_type": "code",
   "execution_count": 65,
   "metadata": {},
   "outputs": [
    {
     "name": "stdout",
     "output_type": "stream",
     "text": [
      "ashish\n",
      "ashish\n",
      "ankush\n",
      "ankush\n"
     ]
    }
   ],
   "source": [
    "print(p.name)\n",
    "print(q.name)\n",
    "q.name = 'ankush'\n",
    "print(q.name)\n",
    "print(p.name)"
   ]
  },
  {
   "cell_type": "markdown",
   "metadata": {},
   "source": [
    "### Pass by reference|"
   ]
  },
  {
   "cell_type": "code",
   "execution_count": 77,
   "metadata": {},
   "outputs": [],
   "source": [
    "class Person:\n",
    "    \n",
    "    def __init__(self,name,gender):\n",
    "        self.name = name\n",
    "        self.gender = gender\n",
    "        \n",
    "        \n",
    "# outside the class -->function\n",
    "def greet(person):                 # greet require person object\n",
    "    print('Hi my name is', person.name,\"and I am a\",person.gender)\n",
    "       \n",
    "        "
   ]
  },
  {
   "cell_type": "code",
   "execution_count": 78,
   "metadata": {},
   "outputs": [
    {
     "name": "stdout",
     "output_type": "stream",
     "text": [
      "Hi my name is ashish and I am a male\n"
     ]
    }
   ],
   "source": [
    "p = Person('ashish','male')\n",
    "greet(p)\n",
    "#print(greet(p))"
   ]
  },
  {
   "cell_type": "code",
   "execution_count": 81,
   "metadata": {},
   "outputs": [
    {
     "name": "stdout",
     "output_type": "stream",
     "text": [
      "Hi my name is ashish and I am a male\n",
      "ankush\n",
      "male\n"
     ]
    }
   ],
   "source": [
    "class Person:\n",
    "    \n",
    "    def __init__(self,name,gender):\n",
    "        self.name = name\n",
    "        self.gender = gender\n",
    "        \n",
    "        \n",
    "# outside the class -->function\n",
    "def greet(person):                 # greet require person object\n",
    "    print('Hi my name is', person.name,\"and I am a\",person.gender)\n",
    "    p1 = Person(\"ankush\",'male')\n",
    "    return p1\n",
    "\n",
    "\n",
    "p = Person('ashish','male')\n",
    "x = greet(p)\n",
    "# now at that point the value of name and gender change\n",
    "print(x.name)\n",
    "print(x.gender)"
   ]
  },
  {
   "cell_type": "code",
   "execution_count": 83,
   "metadata": {},
   "outputs": [
    {
     "name": "stdout",
     "output_type": "stream",
     "text": [
      "140443281298992\n",
      "inside the greet function\n",
      "140443281298992\n",
      "ankit\n",
      "ankit\n"
     ]
    }
   ],
   "source": [
    "class Person:\n",
    "\n",
    "    def __init__(self,name,gender):\n",
    "        self.name = name\n",
    "        self.gender = gender\n",
    "\n",
    "# outside the class -> function\n",
    "def greet(person):\n",
    "    print(\"inside the greet function\")\n",
    "    print(id(person))\n",
    "    person.name = 'ankit'\n",
    "    print(person.name)\n",
    "\n",
    "p = Person('nitish','male')\n",
    "print(id(p))\n",
    "greet(p)\n",
    "print(p.name)"
   ]
  },
  {
   "cell_type": "markdown",
   "metadata": {},
   "source": [
    "### Object Ki Mutability"
   ]
  },
  {
   "cell_type": "code",
   "execution_count": 84,
   "metadata": {},
   "outputs": [
    {
     "name": "stdout",
     "output_type": "stream",
     "text": [
      "140443281018552\n",
      "140443281018552\n"
     ]
    }
   ],
   "source": [
    "class Person:\n",
    "\n",
    "    def __init__(self,name,gender):\n",
    "        self.name = name\n",
    "        self.gender = gender\n",
    "\n",
    "# outside the class -> function\n",
    "def greet(person):\n",
    "    person.name = 'ankit'\n",
    "    return person\n",
    "\n",
    "p = Person('nitish','male')\n",
    "print(id(p))\n",
    "p1 = greet(p)\n",
    "print(id(p1))"
   ]
  },
  {
   "cell_type": "markdown",
   "metadata": {},
   "source": [
    "## Note:-\n",
    "* All Object are \"Mutable\" in python"
   ]
  },
  {
   "cell_type": "markdown",
   "metadata": {},
   "source": [
    "### Encapsulation\n",
    "* Instance Variable\n",
    "* Static Variable\n",
    "\n",
    "#### Instance Variable:-\n",
    "* declare inside the \"Constructor\"\n",
    "* Special variable jiska value alag hota he depending on the object\n",
    "* for Every Object value of the instance variable is different\n",
    "###### Accessing:-\n",
    "* access by using \"Object\" both Attribute and Method\n",
    "\n",
    "#### Static Variable:-\n",
    "* declare inside the \"Class\"\n",
    "* her object ke liye same hota h \n",
    "* eg :- bank --> ifsc code or clg, university , mostly we use in adding the \"Counter\" \n",
    "###### Accessing:-\n",
    "* access by using \"Class\"  eg:- (Person.counter)"
   ]
  },
  {
   "cell_type": "code",
   "execution_count": 85,
   "metadata": {},
   "outputs": [],
   "source": [
    "# instance var -> python tutor\n",
    "class Person:\n",
    "\n",
    "    def __init__(self,name_input,country_input):\n",
    "        self.name = name_input\n",
    "        self.country = country_input\n",
    "\n",
    "p1 = Person('nitish','india')\n",
    "p2 = Person('steve','australia')"
   ]
  },
  {
   "cell_type": "code",
   "execution_count": 89,
   "metadata": {},
   "outputs": [
    {
     "name": "stdout",
     "output_type": "stream",
     "text": [
      "steve\n",
      "nitish\n"
     ]
    }
   ],
   "source": [
    "print(p2.name)\n",
    "print(p1.name)\n",
    "# for different object the value of instance variable is also different"
   ]
  },
  {
   "cell_type": "markdown",
   "metadata": {},
   "source": [
    "### Encapsulation\n",
    "###### Private :- \n",
    "* __balance  \"double underscore with attribute\"\n",
    "* Private ko access kerne ke liye \"_ClassName__Attribute\" eg:- _Atm__balance\n",
    "\n",
    "* Private bhi rakna h or access bhi kerna h then class ke bhar then we use \n",
    "**** get and set method use inside the class \n",
    "* \"get\"-- get for the show private the data\n",
    "* \"set\" -- change the private data\n"
   ]
  },
  {
   "cell_type": "code",
   "execution_count": 113,
   "metadata": {},
   "outputs": [],
   "source": [
    "class Atm:\n",
    "    \n",
    "    def __init__(self):\n",
    "        self.pin = \"\"\n",
    "        self.__balance = 0  # __balance is the private\n",
    "        #self.__menu()\n",
    "        \n",
    "    def get_balance(self):\n",
    "        return self.__balance\n",
    "    \n",
    "    def set_balance(self, new_value):\n",
    "        if type(new_value) == int:\n",
    "            self.__balance = new_value\n",
    "        else:\n",
    "            print(\"beta bahot maarege\")\n",
    "            \n",
    "    def __menu(self):\n",
    "        user_input = input(\"\"\"\n",
    "        Hi how can I help you?\n",
    "        1. Press 1 to create pin\n",
    "        2. Press 2 to change pin\n",
    "        3. Press 3 to check balance\n",
    "        4. Press 4 to withdraw\n",
    "        5. Anything else to exit\n",
    "        \"\"\")\n",
    "\n",
    "        if user_input == '1':\n",
    "            self.create_pin()\n",
    "        elif user_input == '2':\n",
    "            self.change_pin()\n",
    "        elif user_input == '3':\n",
    "            self.check_balance()\n",
    "        elif user_input == '4':\n",
    "            self.withdraw()\n",
    "        else:\n",
    "            exit()\n",
    "        \n",
    "    \n",
    "    def create_pin(self):\n",
    "        user_pin = input(\"enter your pin\")\n",
    "        self.pin = user_pin\n",
    "        \n",
    "        user_balance = int(input(\"enter balance\"))\n",
    "        self.__balance = user_pin\n",
    "        \n",
    "        print(\"Pin created successfully\")\n",
    "        \n",
    "    def change_pin(self):\n",
    "        \n",
    "        old_pin = input('enter old pin')\n",
    "\n",
    "        if old_pin == self.pin:\n",
    "          # let him change the pin\n",
    "            new_pin = input('enter new pin')\n",
    "            self.pin = new_pin\n",
    "            print('pin change successful')\n",
    "        else:\n",
    "            print('nai karne de sakta re baba')\n",
    "        \n",
    "    def check_balance(self):\n",
    "        user_pin = input('enter your pin')\n",
    "        if user_pin == self.pin:\n",
    "            print('your balance is ',self.__balance)\n",
    "        else:\n",
    "            print('chal nikal yahan se')\n",
    "\n",
    "        \n",
    "    def withdraw(self):\n",
    "        user_pin = input('enter the pin')\n",
    "        if user_pin == self.pin:\n",
    "            # allow to withdraw\n",
    "            amount = int(input('enter the amount'))\n",
    "            if amount <= self.__balance:\n",
    "                self.__balance = self.__balance - amount\n",
    "                print('withdrawl successful.balance is',self.__balance)\n",
    "            else:\n",
    "                print('abe garib')\n",
    "        else:\n",
    "            print('sale chor')\n",
    "        "
   ]
  },
  {
   "cell_type": "code",
   "execution_count": 114,
   "metadata": {},
   "outputs": [],
   "source": [
    "obj = Atm()"
   ]
  },
  {
   "cell_type": "code",
   "execution_count": 115,
   "metadata": {},
   "outputs": [
    {
     "data": {
      "text/plain": [
       "0"
      ]
     },
     "execution_count": 115,
     "metadata": {},
     "output_type": "execute_result"
    }
   ],
   "source": [
    "obj.get_balance()"
   ]
  },
  {
   "cell_type": "code",
   "execution_count": 116,
   "metadata": {},
   "outputs": [],
   "source": [
    "obj.set_balance(1000)"
   ]
  },
  {
   "cell_type": "code",
   "execution_count": 118,
   "metadata": {},
   "outputs": [
    {
     "name": "stdout",
     "output_type": "stream",
     "text": [
      "enter the pin123\n",
      "sale chor\n"
     ]
    }
   ],
   "source": [
    "obj.withdraw()"
   ]
  },
  {
   "cell_type": "markdown",
   "metadata": {},
   "source": [
    "### Collection of Object"
   ]
  },
  {
   "cell_type": "code",
   "execution_count": 122,
   "metadata": {},
   "outputs": [
    {
     "name": "stdout",
     "output_type": "stream",
     "text": [
      "ashish\n",
      "male\n",
      "ankush\n",
      "male\n",
      "ankita\n",
      "Female\n"
     ]
    }
   ],
   "source": [
    "# list of object\n",
    "class Person:\n",
    "    \n",
    "    def __init__(self,name,gender):\n",
    "        self.name = name\n",
    "        self.gender = gender\n",
    "        \n",
    "p1 = Person('ashish',\"male\")\n",
    "p2 = Person(\"ankush\",\"male\")\n",
    "p3 = Person(\"ankita\",\"Female\")\n",
    "\n",
    "L = [p1,p2,p3]\n",
    "\n",
    "for i in L:\n",
    "    print(i.name)\n",
    "    print(i.gender)"
   ]
  },
  {
   "cell_type": "code",
   "execution_count": 125,
   "metadata": {},
   "outputs": [
    {
     "name": "stdout",
     "output_type": "stream",
     "text": [
      "male\n",
      "nitish\n",
      "**********\n",
      "male\n",
      "ankit\n",
      "**********\n",
      "female\n",
      "ankita\n",
      "**********\n"
     ]
    }
   ],
   "source": [
    "# dict of object \n",
    "# list of object\n",
    "def __init__(self,name,gender):\n",
    "    self.name = name\n",
    "    self.gender = gender\n",
    "\n",
    "p1 = Person('nitish','male')\n",
    "p2 = Person('ankit','male')\n",
    "p3 = Person('ankita','female')\n",
    "\n",
    "d = {'p1':p1,'p2':p2,'p3':p3}\n",
    "\n",
    "for i in d:\n",
    "    print(d[i].gender)\n",
    "    print(d[i].name)\n",
    "    print(\"*\"*10)\n"
   ]
  },
  {
   "cell_type": "markdown",
   "metadata": {},
   "source": [
    "### Static Variable (Vs Instance Variable)"
   ]
  },
  {
   "cell_type": "code",
   "execution_count": 126,
   "metadata": {},
   "outputs": [],
   "source": [
    "# in this case if we want to add counter or provide each user as seperate no. so we can use the static variable"
   ]
  },
  {
   "cell_type": "code",
   "execution_count": 137,
   "metadata": {},
   "outputs": [],
   "source": [
    "class Atm:\n",
    "    __counter = 1   # static Variable declare inside the class as seperate\n",
    "    \n",
    "    def __init__(self):\n",
    "        print(id(self))\n",
    "        self.pin = ''\n",
    "        self.__balance = 0\n",
    "        self.cid = Atm.__counter\n",
    "        Atm.__counter = Atm.__counter+1\n",
    "        \n",
    "        \n",
    "    # utitlity function --> satatic method\n",
    "    @staticmethod\n",
    "    def get_counter():\n",
    "        return Atm.__counter\n",
    "    \n",
    "    \n",
    "    def get_balance(self):\n",
    "        return self.__balance\n",
    "\n",
    "    def set_balance(self,new_value):\n",
    "        if type(new_value) == int:\n",
    "            self.__balance = new_value\n",
    "        else:\n",
    "            print('beta bahot maarenge')\n",
    "\n",
    "    def __menu(self):\n",
    "        user_input = input(\"\"\"\n",
    "        Hi how can I help you?\n",
    "        1. Press 1 to create pin\n",
    "        2. Press 2 to change pin\n",
    "        3. Press 3 to check balance\n",
    "        4. Press 4 to withdraw\n",
    "        5. Anything else to exit\n",
    "        \"\"\")\n",
    "\n",
    "        if user_input == '1':\n",
    "            self.create_pin()\n",
    "        elif user_input == '2':\n",
    "            self.change_pin()\n",
    "        elif user_input == '3':\n",
    "            self.check_balance()\n",
    "        elif user_input == '4':\n",
    "            self.withdraw()\n",
    "        else:\n",
    "            exit()\n",
    " \n",
    "    def create_pin(self):\n",
    "        user_pin = input('enter your pin')\n",
    "        self.pin = user_pin\n",
    "\n",
    "        user_balance = int(input('enter balance'))\n",
    "        self.__balance = user_balance\n",
    "\n",
    "        print('pin created successfully')\n",
    "\n",
    "    def change_pin(self):\n",
    "        old_pin = input('enter old pin')\n",
    "\n",
    "        if old_pin == self.pin:\n",
    "          # let him change the pin\n",
    "            new_pin = input('enter new pin')\n",
    "            self.pin = new_pin\n",
    "            print('pin change successful')\n",
    "        else:\n",
    "            print('nai karne de sakta re baba')\n",
    "\n",
    "    def check_balance(self):\n",
    "        user_pin = input('enter your pin')\n",
    "        if user_pin == self.pin:\n",
    "            print('your balance is ',self.__balance)\n",
    "        else:\n",
    "            print('chal nikal yahan se')\n",
    "\n",
    "    def withdraw(self):\n",
    "        user_pin = input('enter the pin')\n",
    "        if user_pin == self.pin:\n",
    "          # allow to withdraw\n",
    "            amount = int(input('enter the amount'))\n",
    "            if amount <= self.__balance:\n",
    "                self.__balance = self.__balance - amount\n",
    "                print('withdrawl successful.balance is',self.__balance)\n",
    "            else:\n",
    "                print('abe garib')\n",
    "        else:\n",
    "            print('sale chor')\n",
    "\n",
    "    \n",
    "    "
   ]
  },
  {
   "cell_type": "code",
   "execution_count": 138,
   "metadata": {},
   "outputs": [
    {
     "name": "stdout",
     "output_type": "stream",
     "text": [
      "140443562095728\n"
     ]
    }
   ],
   "source": [
    "c1 = Atm()"
   ]
  },
  {
   "cell_type": "code",
   "execution_count": 139,
   "metadata": {},
   "outputs": [
    {
     "data": {
      "text/plain": [
       "2"
      ]
     },
     "execution_count": 139,
     "metadata": {},
     "output_type": "execute_result"
    }
   ],
   "source": [
    "Atm.get_counter()"
   ]
  },
  {
   "cell_type": "code",
   "execution_count": 140,
   "metadata": {},
   "outputs": [
    {
     "name": "stdout",
     "output_type": "stream",
     "text": [
      "140443278223568\n"
     ]
    }
   ],
   "source": [
    "c3 = Atm()"
   ]
  },
  {
   "cell_type": "code",
   "execution_count": 141,
   "metadata": {},
   "outputs": [
    {
     "data": {
      "text/plain": [
       "2"
      ]
     },
     "execution_count": 141,
     "metadata": {},
     "output_type": "execute_result"
    }
   ],
   "source": [
    "c3.cid"
   ]
  },
  {
   "cell_type": "code",
   "execution_count": 146,
   "metadata": {},
   "outputs": [
    {
     "data": {
      "text/plain": [
       "3"
      ]
     },
     "execution_count": 146,
     "metadata": {},
     "output_type": "execute_result"
    }
   ],
   "source": [
    "Atm.get_counter()"
   ]
  },
  {
   "cell_type": "code",
   "execution_count": 153,
   "metadata": {},
   "outputs": [
    {
     "data": {
      "text/plain": [
       "3"
      ]
     },
     "execution_count": 153,
     "metadata": {},
     "output_type": "execute_result"
    }
   ],
   "source": [
    "Atm._Atm__counter  # for accessing the static attribute outside the class"
   ]
  },
  {
   "cell_type": "markdown",
   "metadata": {},
   "source": [
    "##### Points to remember about static\n",
    "\n",
    "- Static attributes are created at class level.\n",
    "- Static attributes are accessed using ClassName.\n",
    "- Static attributes are object independent. We can access them without creating instance (object) of the class in which they are defined.\n",
    "- The value stored in static attribute is shared between all instances(objects) of the class in which the static attribute is defined."
   ]
  },
  {
   "cell_type": "code",
   "execution_count": 151,
   "metadata": {},
   "outputs": [
    {
     "name": "stdout",
     "output_type": "stream",
     "text": [
      "Simba drinks water from the well in the circus\n",
      "Water source of lions: well in the circus\n"
     ]
    }
   ],
   "source": [
    "class Lion:\n",
    "    __water_source=\"well in the circus\"\n",
    "\n",
    "    def __init__(self,name, gender):\n",
    "        self.__name=name\n",
    "        self.__gender=gender\n",
    "\n",
    "    def drinks_water(self):\n",
    "        print(self.__name,\n",
    "        \"drinks water from the\",Lion.__water_source)  # static variable access inside the class\n",
    "\n",
    "    @staticmethod\n",
    "    def get_water_source():\n",
    "        return Lion.__water_source\n",
    "\n",
    "simba=Lion(\"Simba\",\"Male\")\n",
    "simba.drinks_water()\n",
    "print( \"Water source of lions:\",Lion.get_water_source())"
   ]
  },
  {
   "cell_type": "code",
   "execution_count": null,
   "metadata": {},
   "outputs": [],
   "source": []
  }
 ],
 "metadata": {
  "kernelspec": {
   "display_name": "Python 3",
   "language": "python",
   "name": "python3"
  },
  "language_info": {
   "codemirror_mode": {
    "name": "ipython",
    "version": 3
   },
   "file_extension": ".py",
   "mimetype": "text/x-python",
   "name": "python",
   "nbconvert_exporter": "python",
   "pygments_lexer": "ipython3",
   "version": "3.6.10"
  }
 },
 "nbformat": 4,
 "nbformat_minor": 4
}
