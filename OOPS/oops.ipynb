{
 "cells": [
  {
   "cell_type": "code",
   "execution_count": 1,
   "metadata": {},
   "outputs": [
    {
     "ename": "SyntaxError",
     "evalue": "unexpected EOF while parsing (<ipython-input-1-5aad021947d7>, line 1)",
     "output_type": "error",
     "traceback": [
      "\u001b[0;36m  File \u001b[0;32m\"<ipython-input-1-5aad021947d7>\"\u001b[0;36m, line \u001b[0;32m1\u001b[0m\n\u001b[0;31m    class car:\u001b[0m\n\u001b[0m              ^\u001b[0m\n\u001b[0;31mSyntaxError\u001b[0m\u001b[0;31m:\u001b[0m unexpected EOF while parsing\n"
     ]
    }
   ],
   "source": [
    "class car:"
   ]
  },
  {
   "cell_type": "code",
   "execution_count": 2,
   "metadata": {},
   "outputs": [],
   "source": [
    "class car:\n",
    "    pass"
   ]
  },
  {
   "cell_type": "code",
   "execution_count": 3,
   "metadata": {},
   "outputs": [],
   "source": [
    "audiq7=car()"
   ]
  },
  {
   "cell_type": "code",
   "execution_count": 4,
   "metadata": {},
   "outputs": [
    {
     "data": {
      "text/plain": [
       "<__main__.car at 0x7f19d6fe2790>"
      ]
     },
     "execution_count": 4,
     "metadata": {},
     "output_type": "execute_result"
    }
   ],
   "source": [
    "audiq7"
   ]
  },
  {
   "cell_type": "code",
   "execution_count": 5,
   "metadata": {},
   "outputs": [],
   "source": [
    "audiq7.milage = 10\n",
    "audiq7.year = 2020\n",
    "audiq7.make = 347\n",
    "audiq7.model = \"xyz\""
   ]
  },
  {
   "cell_type": "code",
   "execution_count": 6,
   "metadata": {},
   "outputs": [
    {
     "data": {
      "text/plain": [
       "10"
      ]
     },
     "execution_count": 6,
     "metadata": {},
     "output_type": "execute_result"
    }
   ],
   "source": [
    "audiq7.milage"
   ]
  },
  {
   "cell_type": "code",
   "execution_count": 7,
   "metadata": {},
   "outputs": [
    {
     "data": {
      "text/plain": [
       "'xyz'"
      ]
     },
     "execution_count": 7,
     "metadata": {},
     "output_type": "execute_result"
    }
   ],
   "source": [
    "audiq7.model"
   ]
  },
  {
   "cell_type": "code",
   "execution_count": 8,
   "metadata": {},
   "outputs": [],
   "source": [
    "nano=car()"
   ]
  },
  {
   "cell_type": "code",
   "execution_count": 10,
   "metadata": {},
   "outputs": [],
   "source": [
    "nano.milage = 20\n",
    "nano.year = 2010\n",
    "nano.make = 25557\n",
    "nano.model = \"qwe\""
   ]
  },
  {
   "cell_type": "code",
   "execution_count": 11,
   "metadata": {},
   "outputs": [
    {
     "data": {
      "text/plain": [
       "'qwe'"
      ]
     },
     "execution_count": 11,
     "metadata": {},
     "output_type": "execute_result"
    }
   ],
   "source": [
    "nano.model"
   ]
  },
  {
   "cell_type": "code",
   "execution_count": 15,
   "metadata": {},
   "outputs": [],
   "source": [
    "class car :\n",
    "    def __init__(self, mileage, year, make, model):\n",
    "        self.mileage = mileage\n",
    "        self.year = year\n",
    "        self.make = make\n",
    "        self.model = model"
   ]
  },
  {
   "cell_type": "code",
   "execution_count": 16,
   "metadata": {},
   "outputs": [],
   "source": [
    "nano = car(20,2021,658,\"aaa\")"
   ]
  },
  {
   "cell_type": "code",
   "execution_count": 17,
   "metadata": {},
   "outputs": [],
   "source": [
    "lambo = car(2,2020,5,\"333\")"
   ]
  },
  {
   "cell_type": "code",
   "execution_count": 21,
   "metadata": {},
   "outputs": [
    {
     "data": {
      "text/plain": [
       "20"
      ]
     },
     "execution_count": 21,
     "metadata": {},
     "output_type": "execute_result"
    }
   ],
   "source": [
    "nano.mileage"
   ]
  },
  {
   "cell_type": "code",
   "execution_count": 22,
   "metadata": {},
   "outputs": [
    {
     "data": {
      "text/plain": [
       "5"
      ]
     },
     "execution_count": 22,
     "metadata": {},
     "output_type": "execute_result"
    }
   ],
   "source": [
    "lambo.make"
   ]
  },
  {
   "cell_type": "code",
   "execution_count": 38,
   "metadata": {},
   "outputs": [],
   "source": [
    "class bike:\n",
    "    def __init__(a,m,y,ma,mo):\n",
    "        a.mileage = m\n",
    "        a.year = y\n",
    "        a.make = ma\n",
    "        a.model = mo"
   ]
  },
  {
   "cell_type": "code",
   "execution_count": 39,
   "metadata": {},
   "outputs": [],
   "source": [
    "RE = bike(35,2019,1,\"classic\")"
   ]
  },
  {
   "cell_type": "code",
   "execution_count": 40,
   "metadata": {},
   "outputs": [],
   "source": [
    "hero_honda = bike(55,2010,74,\"splender\")"
   ]
  },
  {
   "cell_type": "code",
   "execution_count": 42,
   "metadata": {},
   "outputs": [
    {
     "data": {
      "text/plain": [
       "'classic'"
      ]
     },
     "execution_count": 42,
     "metadata": {},
     "output_type": "execute_result"
    }
   ],
   "source": [
    "RE.model"
   ]
  },
  {
   "cell_type": "code",
   "execution_count": 43,
   "metadata": {},
   "outputs": [
    {
     "data": {
      "text/plain": [
       "1"
      ]
     },
     "execution_count": 43,
     "metadata": {},
     "output_type": "execute_result"
    }
   ],
   "source": [
    "RE.make"
   ]
  },
  {
   "cell_type": "code",
   "execution_count": 92,
   "metadata": {},
   "outputs": [],
   "source": [
    "class car :\n",
    "    def __init__(self, mileage, year, make, model):\n",
    "        self.mileage = mileage\n",
    "        self.year = year\n",
    "        self.make = make\n",
    "        self.model = model\n",
    "        \n",
    "    def age(self, current_year):\n",
    "        return current_year - self.year\n",
    "    \n",
    "    def get_mileage(self):\n",
    "        print(\"the mileage of the car is: \",str(self.mileage))\n",
    "    \n",
    "    def __str__(c):\n",
    "        return \"this is my car class i have created\""
   ]
  },
  {
   "cell_type": "code",
   "execution_count": 93,
   "metadata": {},
   "outputs": [],
   "source": [
    "kwid = car(12,2019,20555,\"top\")"
   ]
  },
  {
   "cell_type": "code",
   "execution_count": 94,
   "metadata": {},
   "outputs": [
    {
     "data": {
      "text/plain": [
       "3"
      ]
     },
     "execution_count": 94,
     "metadata": {},
     "output_type": "execute_result"
    }
   ],
   "source": [
    "kwid.age(2022)"
   ]
  },
  {
   "cell_type": "code",
   "execution_count": 95,
   "metadata": {},
   "outputs": [
    {
     "name": "stdout",
     "output_type": "stream",
     "text": [
      "the mileage of the car is:  12\n"
     ]
    }
   ],
   "source": [
    "kwid.get_mileage()"
   ]
  },
  {
   "cell_type": "raw",
   "metadata": {},
   "source": [
    "# cases for writing format\n",
    "\n",
    "ashihsh_singh     # snake case\n",
    "ashihshSingh     #camel case\n",
    "AshishSingh      #pascal case"
   ]
  },
  {
   "cell_type": "code",
   "execution_count": 96,
   "metadata": {},
   "outputs": [
    {
     "name": "stdout",
     "output_type": "stream",
     "text": [
      "this is my car class i have created\n"
     ]
    }
   ],
   "source": [
    "print(kwid)"
   ]
  },
  {
   "cell_type": "code",
   "execution_count": 125,
   "metadata": {},
   "outputs": [],
   "source": [
    "class StudentLogin:\n",
    "    def __init__(self, name, rollno, joining_year, current_topic):\n",
    "        self.name = name\n",
    "        self.rollno = rollno\n",
    "        self.joining_year = joining_year\n",
    "        self.current_topic = current_topic\n",
    "        \n",
    "    def name_Parsing(self):\n",
    "        if type(self.name) == list:\n",
    "            for i in self.name:\n",
    "                print(\"name of the student is: \", i)\n",
    "        else:\n",
    "            print(\"the provided name is not in form of list\")\n",
    "\n",
    "            \n",
    "    def crtTopic(self):\n",
    "        print(\"current topic discussed in my class is \", self.current_topic)\n",
    "    \n",
    "    def strRollNo(self):\n",
    "        \n",
    "        try:\n",
    "        \n",
    "            if type(self.rollno) == str:\n",
    "                print(\"do nothing\")\n",
    "        \n",
    "            else:\n",
    "                return str(self.rollno)\n",
    "            \n",
    "        except Exception as e :\n",
    "            print(\"this is my error msg \", e)\n",
    "        \n",
    "    def duration(self, current_year):\n",
    "        print(\"duration of student in my class is \", current_year-self.joining_year)\n",
    "    \n",
    "    \n",
    "    def __str__(self):\n",
    "        return \"this is Student class where they can try to input there own data and they can try to fetch it\""
   ]
  },
  {
   "cell_type": "code",
   "execution_count": 126,
   "metadata": {},
   "outputs": [],
   "source": [
    "ankush = StudentLogin(\"ankush\",6,2022,\"oops\")"
   ]
  },
  {
   "cell_type": "code",
   "execution_count": 127,
   "metadata": {},
   "outputs": [
    {
     "name": "stdout",
     "output_type": "stream",
     "text": [
      "this is Student class where they can try to input there own data and they can try to fetch it\n"
     ]
    }
   ],
   "source": [
    "print(ankush)"
   ]
  },
  {
   "cell_type": "code",
   "execution_count": 128,
   "metadata": {},
   "outputs": [
    {
     "data": {
      "text/plain": [
       "'6'"
      ]
     },
     "execution_count": 128,
     "metadata": {},
     "output_type": "execute_result"
    }
   ],
   "source": [
    "ankush.strRollNo()"
   ]
  },
  {
   "cell_type": "code",
   "execution_count": 129,
   "metadata": {},
   "outputs": [
    {
     "name": "stdout",
     "output_type": "stream",
     "text": [
      "current topic discussed in my class is  oops\n"
     ]
    }
   ],
   "source": [
    "ankush.crtTopic()"
   ]
  },
  {
   "cell_type": "raw",
   "metadata": {},
   "source": [
    "we can also pass data using list:"
   ]
  },
  {
   "cell_type": "code",
   "execution_count": 130,
   "metadata": {},
   "outputs": [],
   "source": [
    "a = StudentLogin([\"ashish\",\"ankush\",\"mayank\",\"prahlad\"],[1,2,3,4],[2021,2022,2021,2023],[\"oops\",\"javascript\",\"project\",\"list\"])"
   ]
  },
  {
   "cell_type": "code",
   "execution_count": 131,
   "metadata": {},
   "outputs": [
    {
     "name": "stdout",
     "output_type": "stream",
     "text": [
      "name of the student is:  ashish\n",
      "name of the student is:  ankush\n",
      "name of the student is:  mayank\n",
      "name of the student is:  prahlad\n"
     ]
    }
   ],
   "source": [
    "a.name_Parsing()"
   ]
  },
  {
   "cell_type": "code",
   "execution_count": 151,
   "metadata": {},
   "outputs": [],
   "source": [
    "import datetime\n",
    "class Data:\n",
    "    def __init__(self,filename,filetype,date,size):\n",
    "        self.filename = filename\n",
    "        self.filetype = filetype\n",
    "        self.data = date\n",
    "        self.size = size\n",
    "        \n",
    "    def file_open(self):\n",
    "        f=open(self.filename,\"w\")\n",
    "        f.write(\"this is writing in Class object\")\n",
    "        f.close()\n",
    "        \n",
    "    def file_read(self):\n",
    "        f=open(self.filename,\"r\")\n",
    "        a = f.read()\n",
    "        f.close()\n",
    "        return a\n",
    "        \n",
    "    \n",
    "    def append_data(self):\n",
    "        f=open(self.filename,\"a\")\n",
    "        f.write(\"this is appending data in file . \")\n",
    "        f.close()\n",
    "        "
   ]
  },
  {
   "cell_type": "code",
   "execution_count": 152,
   "metadata": {},
   "outputs": [],
   "source": [
    "file1 = Data(\"ashish\",\".txt\",\"21/06/2022\",5)"
   ]
  },
  {
   "cell_type": "code",
   "execution_count": 153,
   "metadata": {},
   "outputs": [],
   "source": [
    "file1.file_open()\n",
    "file1.file_read()\n",
    "file1.append_data()"
   ]
  },
  {
   "cell_type": "markdown",
   "metadata": {},
   "source": [
    "# using the try and except condition"
   ]
  },
  {
   "cell_type": "code",
   "execution_count": 154,
   "metadata": {},
   "outputs": [],
   "source": [
    "class Data:\n",
    "    def __init__(self,filename,filetype,data,size):\n",
    "        self.filename=filename\n",
    "        self.filetype=filetype\n",
    "        self.data=data\n",
    "        self.size=size\n",
    "        \n",
    "    def file_open(self):\n",
    "        f=open(self.filename,\"w+\")\n",
    "        f.write(\"this is my first line\")\n",
    "        f.close()\n",
    "    \n",
    "    def file_read(self):\n",
    "        try:\n",
    "            f=open(self.filename,\"r\")\n",
    "            print(f.read())\n",
    "            f.close()\n",
    "        except Exception as e:\n",
    "            print(\"error type is :\",e)\n",
    "            \n",
    "    \n",
    "    def file_append(self):\n",
    "        try:\n",
    "            f= open(self.filename,\"a\")\n",
    "            f.write(\"this is my second line\")\n",
    "            f.close()\n",
    "        except Exception as e:\n",
    "            print(\"error type \",e)"
   ]
  },
  {
   "cell_type": "code",
   "execution_count": 156,
   "metadata": {},
   "outputs": [],
   "source": [
    "file2 = Data(\"ashish1\",\".txt\",\"21/06/2022\",5)"
   ]
  },
  {
   "cell_type": "code",
   "execution_count": 158,
   "metadata": {},
   "outputs": [
    {
     "name": "stdout",
     "output_type": "stream",
     "text": [
      "this is my first line\n"
     ]
    }
   ],
   "source": [
    "file2.file_open()\n",
    "file2.file_read()\n",
    "file2.file_append()"
   ]
  },
  {
   "cell_type": "code",
   "execution_count": 159,
   "metadata": {},
   "outputs": [],
   "source": [
    "file2 = Data(\"ashish2\",\".txt\",\"21/06/2022\",5)"
   ]
  },
  {
   "cell_type": "code",
   "execution_count": 160,
   "metadata": {},
   "outputs": [
    {
     "name": "stdout",
     "output_type": "stream",
     "text": [
      "error type is : [Errno 2] No such file or directory: 'ashish2'\n"
     ]
    }
   ],
   "source": [
    "#file2.file_open()\n",
    "file2.file_read()\n",
    "file2.file_append()"
   ]
  },
  {
   "cell_type": "markdown",
   "metadata": {},
   "source": [
    "# Using the logging function"
   ]
  },
  {
   "cell_type": "markdown",
   "metadata": {},
   "source": [
    "level is used ------(if i set logging level is equal to info if there is another logging having lesser siverty or perfrence then it not log it log only for having higher siverty then info "
   ]
  },
  {
   "cell_type": "code",
   "execution_count": 7,
   "metadata": {},
   "outputs": [],
   "source": [
    "import logging as lg\n",
    "lg.basicConfig(filename=\"OOPS.log\",filemode = \"w\",level=lg.ERROR)\n",
    "\n",
    "class Data:\n",
    "    def __init__(self,fileName,fileType,data,size):\n",
    "        self.fileName = fileName\n",
    "        self.fileType = fileType\n",
    "        self.data = data\n",
    "        self.size = size\n",
    "    \n",
    "    def File_open(self):\n",
    "        try:\n",
    "            with open(self.fileName+self.fileType,\"w\")as f:\n",
    "                f.write(self.data)\n",
    "        except Exception as e:\n",
    "            self.logging(e)\n",
    "            \n",
    "    def File_read(self):\n",
    "        try:\n",
    "            with open(self.fileName+self.fileType,\"r\") as f:\n",
    "                f.read()\n",
    "        except FileNotFoundError as e:\n",
    "            self.logging(e)\n",
    "        except Exception as e:\n",
    "            self.logging(e)\n",
    "            \n",
    "    def File_append(self,data):\n",
    "        try:\n",
    "            with open(self.fileName+self.fileType,\"a\") as f:\n",
    "                f.write(data)\n",
    "        except FileNotFoundError as e:\n",
    "            self.logging(e)\n",
    "        except Exception as e:\n",
    "            self.logging(e)\n",
    "\n",
    "    def logging(self,log):\n",
    "        lg.error(log)\n",
    "#d = Data(\"ashu\",\".txt\",\"hello ashish\",2)\n",
    "#d.File_open()\n",
    "#d.File_append(\"\\n this is just my second line \")"
   ]
  },
  {
   "cell_type": "code",
   "execution_count": 8,
   "metadata": {},
   "outputs": [],
   "source": [
    "d = Data(\"ashu\",\".txt\",\"hello ashish\",2)\n",
    "d.File_open()\n",
    "d.File_append(\"\\n this is just my second line \")"
   ]
  },
  {
   "cell_type": "code",
   "execution_count": 9,
   "metadata": {},
   "outputs": [],
   "source": [
    "#d = Data(\"ashu\",\".txt\",\"hello ashish\",2)\n",
    "#d.File_open()\n",
    "d.File_append(\"\\n this is just my second line \")"
   ]
  },
  {
   "cell_type": "markdown",
   "metadata": {},
   "source": [
    "python version checking in shell "
   ]
  },
  {
   "cell_type": "code",
   "execution_count": 6,
   "metadata": {},
   "outputs": [
    {
     "name": "stdout",
     "output_type": "stream",
     "text": [
      "Python 3.7.6\r\n"
     ]
    }
   ],
   "source": [
    "!python -V"
   ]
  },
  {
   "cell_type": "markdown",
   "metadata": {},
   "source": [
    "correction"
   ]
  },
  {
   "cell_type": "code",
   "execution_count": 16,
   "metadata": {},
   "outputs": [],
   "source": [
    "# import logging\n",
    "\n",
    "# logging.basicConfig(filename='app.log', filemode='w', format='%(name)s - %(levelname)s - %(message)s')\n",
    "# logging.warning('This will get logged to a file')\n",
    "\n",
    "import logging as lg\n",
    "lg.basicConfig(filename=\"OOPS12.log\",filemode='w',level=lg.ERROR)\n",
    "\n",
    "class Data:\n",
    "    def __init__(self,fileName,fileType,data,size):\n",
    "        self.fileName = fileName\n",
    "        self.fileType = fileType\n",
    "        self.data = data\n",
    "        self.size = size\n",
    "    \n",
    "    def File_open(self):\n",
    "        try:\n",
    "            with open(self.fileName+self.fileType,\"w\")as f:\n",
    "                f.write(self.data)\n",
    "        except Exception as e:\n",
    "            self.logging.error(e)\n",
    "            \n",
    "    def File_read(self):\n",
    "        try:\n",
    "            with open(self.fileName+self.fileType,\"r\") as f:\n",
    "                f.read()\n",
    "        except FileNotFoundError as e:\n",
    "            self.logging.error(e)\n",
    "        except Exception as e:\n",
    "            self.logging.error(e)\n",
    "            \n",
    "    def File_append(self,data):\n",
    "        try:\n",
    "            with open(self.fileName+self.fileType,\"a\") as f:\n",
    "                f.write(data)\n",
    "        except FileNotFoundError as e:\n",
    "            self.logging.error(e)\n",
    "        except Exception as e:\n",
    "            self.logging.error(e)\n",
    "\n",
    "    def logging(self,log):\n",
    "        lg.error(log)\n",
    "#d = Data(\"ashu\",\".txt\",\"hello ashish\",2)\n",
    "#d.File_open()\n",
    "try:\n",
    "    d.File_append(\"\\n this is just my second line \")\n",
    "except Exception as e:\n",
    "    lg.error(e)"
   ]
  },
  {
   "cell_type": "code",
   "execution_count": 17,
   "metadata": {},
   "outputs": [],
   "source": [
    "# import logging\n",
    "\n",
    "# logging.basicConfig(filename='app.log', filemode='w', format='%(name)s - %(levelname)s - %(message)s')\n",
    "# logging.warning('This will get logged to a file')\n",
    "\n",
    "import logging as lg\n",
    "lg.basicConfig(filename=\"OOPS11.log\",filemode='w',level=lg.ERROR)\n",
    "\n",
    "class Data:\n",
    "    def __init__(self,fileName,fileType,data,size):\n",
    "        self.fileName = fileName\n",
    "        self.fileType = fileType\n",
    "        self.data = data\n",
    "        self.size = size\n",
    "    \n",
    "    def File_open(self):\n",
    "        try:\n",
    "            with open(self.fileName+self.fileType,\"w\")as f:\n",
    "                f.write(self.data)\n",
    "        except Exception as e:\n",
    "            self.lg.error(e)\n",
    "            \n",
    "    def File_read(self):\n",
    "        try:\n",
    "            with open(self.fileName+self.fileType,\"r\") as f:\n",
    "                f.read()\n",
    "        except FileNotFoundError as e:\n",
    "            self.lg.error(e)\n",
    "        except Exception as e:\n",
    "            self.lg.error(e)\n",
    "            \n",
    "    def File_append(self,data):\n",
    "        try:\n",
    "            with open(self.fileName+self.fileType,\"a\") as f:\n",
    "                f.write(data)\n",
    "        except FileNotFoundError as e:\n",
    "            self.lg.error(e)\n",
    "        except Exception as e:\n",
    "            self.lg.error(e)\n",
    "\n",
    "    def logging(self,log):\n",
    "        lg.error(log)\n"
   ]
  },
  {
   "cell_type": "code",
   "execution_count": 18,
   "metadata": {},
   "outputs": [],
   "source": [
    "#d = Data(\"ashu\",\".txt\",\"hello ashish\",2)\n",
    "#d.File_open()\n",
    "try:\n",
    "    d.File_append(\"\\n this is just my second line \")\n",
    "except Exception as e:\n",
    "    lg.error(e)"
   ]
  },
  {
   "cell_type": "code",
   "execution_count": null,
   "metadata": {},
   "outputs": [],
   "source": []
  }
 ],
 "metadata": {
  "kernelspec": {
   "display_name": "Python 3",
   "language": "python",
   "name": "python3"
  },
  "language_info": {
   "codemirror_mode": {
    "name": "ipython",
    "version": 3
   },
   "file_extension": ".py",
   "mimetype": "text/x-python",
   "name": "python",
   "nbconvert_exporter": "python",
   "pygments_lexer": "ipython3",
   "version": "3.7.6"
  }
 },
 "nbformat": 4,
 "nbformat_minor": 4
}
