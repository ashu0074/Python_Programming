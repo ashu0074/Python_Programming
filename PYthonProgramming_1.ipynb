{
 "cells": [
  {
   "cell_type": "markdown",
   "metadata": {},
   "source": [
    "### 1) Write a Python program to print \"Hello Python\""
   ]
  },
  {
   "cell_type": "code",
   "execution_count": null,
   "metadata": {},
   "outputs": [],
   "source": [
    "print(\"Hello Python\")"
   ]
  },
  {
   "cell_type": "markdown",
   "metadata": {},
   "source": [
    "### 2) Write a Python program to do arithmatical operation"
   ]
  },
  {
   "cell_type": "code",
   "execution_count": null,
   "metadata": {},
   "outputs": [],
   "source": [
    "a = float(input(\"enter the 1st number: \"))\n",
    "b = float(input(\"\\n enter the 2nd number: \"))\n",
    "def sum(a,b):\n",
    "    c=a+b\n",
    "    return c;\n",
    "\n",
    "def sub(a,b):\n",
    "    c=a-b\n",
    "    return c;\n",
    "\n",
    "def mul(a,b):\n",
    "    c=a*b\n",
    "    return c;\n",
    "\n",
    "def div(a,b):\n",
    "    c=a/b\n",
    "    return c;\n",
    "\n",
    "print(\"\\n Sum of two number is : \", sum(a,b))\n",
    "print(\"\\n Subtraction of two number is : \",sub(a,b))\n",
    "print(\"\\n Mubtraction of two number is : \",mul(a,b))\n",
    "print(\"\\n Division of two number is : \",div(a,b))    "
   ]
  },
  {
   "cell_type": "markdown",
   "metadata": {},
   "source": [
    "### 3) Write a Python Program to find the area of a Triangle"
   ]
  },
  {
   "cell_type": "code",
   "execution_count": 29,
   "metadata": {},
   "outputs": [
    {
     "name": "stdout",
     "output_type": "stream",
     "text": [
      "Enter the triangle = 90 degree or  != 90 degree\n",
      "YES or NO : no\n",
      "Enter the side of the traingle : \n",
      "Enter the 1st side of Traingle: 2\n",
      "Enter the 2nt side of Traingle: 3\n",
      "Enter the 3rt side of Traingle: 4\n",
      "Area of Triangle:  2.9047375096555625\n"
     ]
    }
   ],
   "source": [
    "# area of traiangle 90 degree  = (base*height)/2\n",
    "\n",
    "# when 3 parameter is given : (s(s-a)(s-b)(s-c))^0.5\n",
    "# and s =(a+b+c)/0.5\n",
    "print(\"Enter the triangle = 90 degree or  != 90 degree\")\n",
    "a = input(\"YES or NO : \")\n",
    "if(a==\"Yes\" or a==\"yes\" or a==\"YES\"):\n",
    "    H = float(input(\"Enter the Height of Triangle : \"))\n",
    "    B = float(input(\"Enter the Base of Traingle : \"))\n",
    "    Area = (H*B)/2\n",
    "elif(a==\"NO\" or a==\"no\" or a==\"No\"):\n",
    "    print(\"Enter the side of the traingle : \")\n",
    "    a1= float(input(\"Enter the 1st side of Traingle: \"))\n",
    "    a2= float(input(\"Enter the 2nt side of Traingle: \"))\n",
    "    a3= float(input(\"Enter the 3rt side of Traingle: \"))\n",
    "    # semi perameter\n",
    "    s = (a1+a2+a3)/2\n",
    "    Area = (s*(s-a1)*(s-a2)*(s-a3)) **0.5\n",
    "    \n",
    "else:\n",
    "    print(\"you enter the wrong entry\")\n",
    "    \n",
    "print(\"Area of Triangle: \",Area)    "
   ]
  },
  {
   "cell_type": "markdown",
   "metadata": {},
   "source": [
    "### 4. Write a Python program to swap two variable"
   ]
  },
  {
   "cell_type": "code",
   "execution_count": 30,
   "metadata": {},
   "outputs": [
    {
     "name": "stdout",
     "output_type": "stream",
     "text": [
      "Enter the number: 3\n",
      "Enter the number: 4\n",
      "Before Swapping a=3,b=4\n",
      "After Swapping a=4,b=3\n"
     ]
    }
   ],
   "source": [
    "a = input(\"Enter the number: \")\n",
    "b = input(\"Enter the number: \")\n",
    "print(\"Before Swapping a={},b={}\".format(a,b))\n",
    "temp = a\n",
    "a = b\n",
    "b = temp\n",
    "print(\"After Swapping a={},b={}\".format(a,b))"
   ]
  },
  {
   "cell_type": "markdown",
   "metadata": {},
   "source": [
    "### 5. Write a Python Program to generate a random number "
   ]
  },
  {
   "cell_type": "code",
   "execution_count": 40,
   "metadata": {},
   "outputs": [
    {
     "name": "stdout",
     "output_type": "stream",
     "text": [
      "77\n"
     ]
    }
   ],
   "source": [
    "import random \n",
    "randomNum = random.randint(0,101)\n",
    "print(randomNum)"
   ]
  },
  {
   "cell_type": "markdown",
   "metadata": {},
   "source": [
    "### 6. Python Program to covert Kilometers to miles"
   ]
  },
  {
   "cell_type": "code",
   "execution_count": 42,
   "metadata": {},
   "outputs": [
    {
     "name": "stdout",
     "output_type": "stream",
     "text": [
      "Enter kilometers: 25.4\n",
      "25.400 kilometer is equal to 15.773 miles\n"
     ]
    }
   ],
   "source": [
    "# miles = km * 0.621\n",
    "kilometers = float(input(\"Enter kilometers: \"))\n",
    "miles = kilometers * 0.621\n",
    "print(\"%0.3f kilometer is equal to %0.3f miles\" %(kilometers,miles))"
   ]
  },
  {
   "cell_type": "markdown",
   "metadata": {},
   "source": [
    "### 7. Python Program to display calendar"
   ]
  },
  {
   "cell_type": "code",
   "execution_count": 46,
   "metadata": {},
   "outputs": [
    {
     "name": "stdout",
     "output_type": "stream",
     "text": [
      "Enter the Year : 2023\n",
      "Enter Month : 3\n",
      "Calendar\n",
      "     March 2023\n",
      "Mo Tu We Th Fr Sa Su\n",
      "       1  2  3  4  5\n",
      " 6  7  8  9 10 11 12\n",
      "13 14 15 16 17 18 19\n",
      "20 21 22 23 24 25 26\n",
      "27 28 29 30 31\n",
      "\n"
     ]
    }
   ],
   "source": [
    "import calendar\n",
    "\n",
    "y = int(input(\"Enter the Year : \"))\n",
    "m = int(input(\"Enter Month : \"))\n",
    "\n",
    "try: \n",
    "    print(\"Calendar\")\n",
    "    print(calendar.month(y,m))\n",
    "except:\n",
    "    print(\"Out of range\")"
   ]
  },
  {
   "cell_type": "markdown",
   "metadata": {},
   "source": [
    "### 8 .Python Program to solve \"Quadratic equation\""
   ]
  },
  {
   "cell_type": "code",
   "execution_count": 49,
   "metadata": {},
   "outputs": [],
   "source": [
    "# quadratic equation : ax²+bx+c=0 ,  a, b, and c are coefficients.\n",
    "# (-b±√(b²-4ac))/(2a)  , we plug these coefficients in the formula\n",
    "# cmath.sqrt(x)--> return square root of the number(x)\n",
    "# cmath -- cmath for complex math"
   ]
  },
  {
   "cell_type": "code",
   "execution_count": 50,
   "metadata": {},
   "outputs": [
    {
     "name": "stdout",
     "output_type": "stream",
     "text": [
      "Enter the a coeff.: 1\n",
      "Enter the b coeff.: 4\n",
      "Enter the c coeff.: 1\n",
      "Descriminant:  12.0\n",
      "the solution are (-3.732050807568877+0j) and (-0.2679491924311228+0j)\n"
     ]
    }
   ],
   "source": [
    "import cmath\n",
    "# ax**2+bx+ c\n",
    "a = float(input(\"Enter the a coeff.: \"))\n",
    "b = float(input(\"Enter the b coeff.: \"))\n",
    "c = float(input(\"Enter the c coeff.: \"))\n",
    "\n",
    "d = b**2 -(4*a*c)\n",
    "print(\"Descriminant: \",d)\n",
    "\n",
    "sol1 = (-b-cmath.sqrt(d))/(2*a)\n",
    "sol2 = (-b+cmath.sqrt(d))/(2*a)\n",
    "print(\"the solution are {0} and {1}\".format(sol1,sol2))"
   ]
  },
  {
   "cell_type": "markdown",
   "metadata": {},
   "source": [
    "### 9. Python program to swap two variable without using temp variable"
   ]
  },
  {
   "cell_type": "code",
   "execution_count": 51,
   "metadata": {},
   "outputs": [
    {
     "name": "stdout",
     "output_type": "stream",
     "text": [
      "NUM1 : 5\n",
      "NUM2 : 6\n",
      "Before swapping x=5,y=6\n",
      "After swapping x=6,y=5\n"
     ]
    }
   ],
   "source": [
    "x = int(input(\"NUM1 : \"))\n",
    "y = int(input(\"NUM2 : \"))\n",
    "print(\"Before swapping x={},y={}\".format(x,y))\n",
    "\n",
    "x,y = y,x\n",
    "\n",
    "print(\"After swapping x={},y={}\".format(x,y))\n"
   ]
  },
  {
   "cell_type": "code",
   "execution_count": null,
   "metadata": {},
   "outputs": [],
   "source": []
  }
 ],
 "metadata": {
  "kernelspec": {
   "display_name": "Python 3",
   "language": "python",
   "name": "python3"
  }
 },
 "nbformat": 4,
 "nbformat_minor": 4
}
